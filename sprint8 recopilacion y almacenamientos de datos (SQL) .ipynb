{
 "cells": [
  {
   "cell_type": "markdown",
   "metadata": {},
   "source": [
    "<div class=\"alert alert-block alert-success\">\n",
    "<b>Comentario general del revisor</b> <a class=\"tocSkip\"></a><br />\n",
    "Status del proyecto: <b>Aprobado</b>\n",
    "</div>\n"
   ]
  },
  {
   "cell_type": "markdown",
   "metadata": {},
   "source": [
    "¡Hola!<br />\n",
    "Soy **Francisco Cortés**, estoy contento de revisar tu proyecto y ser parte de tu proceso de aprendizaje.\n",
    "A lo largo del texto, haré algunas observaciones sobre mejoras en el código y también haré comentarios sobre tus percepciones sobre el tema. Si existe algún error en el código, no te preocupes, estoy aquí para ayudarte a mejorarlo, en la primera iteración te lo señalaré para que tengas la oportunidad de corregirlo, pero si aún no encuentras una solución para esta tarea, te daré una pista más precisa en la próxima iteración y también algunos ejemplos prácticos. Estaré abierto a retroalimentación y discusiones sobre el tema.<br />\n",
    "Encontrarás mis comentarios a continuación - **por favor no los muevas, modifiques o borres**.\n",
    "Revisaré cuidadosamente tu código para comprobar que se han cumplido con los requisitos y te proporcionaré mis comentarios en cajas verdes, amarillas o rojas como esta:\n",
    "\n",
    "<div class=\"alert alert-block alert-success\">\n",
    "<b>Comentario del revisor</b> <a class=\"tocSkip\"></a>\n",
    "\n",
    "Si la ejecución fue perfecta succesfully.\n",
    "</div>\n",
    "\n",
    "<div class=\"alert alert-block alert-warning\">\n",
    "<b>Comentario del revisor</b> <a class=\"tocSkip\"></a>\n",
    "\n",
    "Si existe alguna recomendación para que tu código mejore.\n",
    "</div>\n",
    "\n",
    "<div class=\"alert alert-block alert-danger\">\n",
    "\n",
    "<b>Comentario del revisor</b> <a class=\"tocSkip\"></a>\n",
    "\n",
    "Si existen correcciones necesarias para cumplir con los requisitos. El trabajo no puede ser aceptado si hay alguna caja roja.\n",
    "</div>\n",
    "\n",
    "Puedes responderme de la siguiente manera:\n",
    "\n",
    "<div class=\"alert alert-block alert-info\">\n",
    "<b>Respuesta del estudiante.</b> <a class=\"tocSkip\"></a>\n",
    "</div>"
   ]
  },
  {
   "cell_type": "code",
   "execution_count": 1,
   "metadata": {},
   "outputs": [],
   "source": [
    "import pandas as pd\n",
    "import numpy as np\n",
    "import seaborn as sns\n",
    "import matplotlib.pyplot as plt\n",
    "from scipy import stats"
   ]
  },
  {
   "cell_type": "code",
   "execution_count": 2,
   "metadata": {},
   "outputs": [],
   "source": [
    "company=pd.read_csv ('/datasets/project_sql_result_01.csv')\n",
    "location=pd.read_csv ('/datasets/project_sql_result_04.csv')\n",
    "weather_conditions=pd.read_csv('/datasets/project_sql_result_07.csv')"
   ]
  },
  {
   "cell_type": "code",
   "execution_count": 3,
   "metadata": {},
   "outputs": [],
   "source": [
    "# Conversión segura si es necesario\n",
    "company['trips_amount'] = pd.to_numeric(company['trips_amount'], errors='coerce')\n",
    "location['average_trips'] = pd.to_numeric(location['average_trips'], errors='coerce')\n",
    "\n",
    "# Convertir fecha en dataset de clima\n",
    "weather_conditions['start_ts'] = pd.to_datetime(weather_conditions['start_ts'], errors='coerce')\n"
   ]
  },
  {
   "cell_type": "code",
   "execution_count": 4,
   "metadata": {},
   "outputs": [
    {
     "name": "stdout",
     "output_type": "stream",
     "text": [
      "<class 'pandas.core.frame.DataFrame'>\n",
      "RangeIndex: 64 entries, 0 to 63\n",
      "Data columns (total 2 columns):\n",
      " #   Column        Non-Null Count  Dtype \n",
      "---  ------        --------------  ----- \n",
      " 0   company_name  64 non-null     object\n",
      " 1   trips_amount  64 non-null     int64 \n",
      "dtypes: int64(1), object(1)\n",
      "memory usage: 1.1+ KB\n"
     ]
    }
   ],
   "source": [
    "#Información general de company\n",
    "company.info()"
   ]
  },
  {
   "cell_type": "code",
   "execution_count": 5,
   "metadata": {},
   "outputs": [
    {
     "name": "stdout",
     "output_type": "stream",
     "text": [
      "                         company_name  trips_amount\n",
      "0                           Flash Cab         19558\n",
      "1           Taxi Affiliation Services         11422\n",
      "2                   Medallion Leasing         10367\n",
      "3                          Yellow Cab          9888\n",
      "4     Taxi Affiliation Service Yellow          9299\n",
      "5           Chicago Carriage Cab Corp          9181\n",
      "6                        City Service          8448\n",
      "7                            Sun Taxi          7701\n",
      "8           Star North Management LLC          7455\n",
      "9   Blue Ribbon Taxi Association Inc.          5953\n",
      "10            Choice Taxi Association          5015\n"
     ]
    }
   ],
   "source": [
    "print(company.head(11))"
   ]
  },
  {
   "cell_type": "code",
   "execution_count": 6,
   "metadata": {},
   "outputs": [
    {
     "name": "stdout",
     "output_type": "stream",
     "text": [
      "<class 'pandas.core.frame.DataFrame'>\n",
      "RangeIndex: 94 entries, 0 to 93\n",
      "Data columns (total 2 columns):\n",
      " #   Column                 Non-Null Count  Dtype  \n",
      "---  ------                 --------------  -----  \n",
      " 0   dropoff_location_name  94 non-null     object \n",
      " 1   average_trips          94 non-null     float64\n",
      "dtypes: float64(1), object(1)\n",
      "memory usage: 1.6+ KB\n"
     ]
    }
   ],
   "source": [
    "#Información general de location\n",
    "location.info()"
   ]
  },
  {
   "cell_type": "code",
   "execution_count": 7,
   "metadata": {
    "scrolled": true
   },
   "outputs": [
    {
     "name": "stdout",
     "output_type": "stream",
     "text": [
      "   dropoff_location_name  average_trips\n",
      "0                   Loop   10727.466667\n",
      "1            River North    9523.666667\n",
      "2          Streeterville    6664.666667\n",
      "3              West Loop    5163.666667\n",
      "4                 O'Hare    2546.900000\n",
      "5              Lake View    2420.966667\n",
      "6             Grant Park    2068.533333\n",
      "7          Museum Campus    1510.000000\n",
      "8             Gold Coast    1364.233333\n",
      "9     Sheffield & DePaul    1259.766667\n",
      "10          Lincoln Park    1246.533333\n"
     ]
    }
   ],
   "source": [
    "# Ver las primeras filas de dataset location\n",
    "print(location.head(11))"
   ]
  },
  {
   "cell_type": "code",
   "execution_count": 8,
   "metadata": {},
   "outputs": [
    {
     "name": "stdout",
     "output_type": "stream",
     "text": [
      "dropoff_location_name\n",
      "Albany Park     1\n",
      "North Center    1\n",
      "River North     1\n",
      "Pullman         1\n",
      "Portage Park    1\n",
      "               ..\n",
      "Gage Park       1\n",
      "Fuller Park     1\n",
      "Englewood       1\n",
      "Edison Park     1\n",
      "Wrigleyville    1\n",
      "Length: 94, dtype: int64\n"
     ]
    }
   ],
   "source": [
    "print(location.value_counts('dropoff_location_name'))"
   ]
  },
  {
   "cell_type": "code",
   "execution_count": 9,
   "metadata": {},
   "outputs": [
    {
     "name": "stdout",
     "output_type": "stream",
     "text": [
      "  dropoff_location_name  average_trips\n",
      "0                  Loop   10727.466667\n",
      "1           River North    9523.666667\n",
      "2         Streeterville    6664.666667\n",
      "3             West Loop    5163.666667\n",
      "4                O'Hare    2546.900000\n",
      "5             Lake View    2420.966667\n",
      "6            Grant Park    2068.533333\n",
      "7         Museum Campus    1510.000000\n",
      "8            Gold Coast    1364.233333\n",
      "9    Sheffield & DePaul    1259.766667\n"
     ]
    }
   ],
   "source": [
    "top_10_barrios = location.sort_values(by='average_trips', ascending= False).head(10)\n",
    "print(top_10_barrios)"
   ]
  },
  {
   "cell_type": "code",
   "execution_count": 10,
   "metadata": {},
   "outputs": [
    {
     "name": "stdout",
     "output_type": "stream",
     "text": [
      "  dropoff_location_name  average_trips\n",
      "9    Sheffield & DePaul    1259.766667\n",
      "8            Gold Coast    1364.233333\n",
      "7         Museum Campus    1510.000000\n",
      "6            Grant Park    2068.533333\n",
      "5             Lake View    2420.966667\n",
      "4                O'Hare    2546.900000\n",
      "3             West Loop    5163.666667\n",
      "2         Streeterville    6664.666667\n",
      "1           River North    9523.666667\n",
      "0                  Loop   10727.466667\n"
     ]
    }
   ],
   "source": [
    "top_10_barrios = location.sort_values(by='average_trips').tail(10)\n",
    "print(top_10_barrios)"
   ]
  },
  {
   "cell_type": "code",
   "execution_count": 11,
   "metadata": {
    "scrolled": true
   },
   "outputs": [
    {
     "data": {
      "image/png": "[encoded data removed]",
      "text/plain": [
       "<Figure size 1200x600 with 1 Axes>"
      ]
     },
     "metadata": {},
     "output_type": "display_data"
    }
   ],
   "source": [
    "# Establecer estilo visual\n",
    "sns.set(style=\"whitegrid\")\n",
    "\n",
    "# Crear la gráfica de barras\n",
    "plt.figure(figsize=(12, 6))  # Tamaño del gráfico\n",
    "sns.barplot(\n",
    "    data=top_10_barrios,\n",
    "    x='dropoff_location_name',        # Eje X: promedio de viajes\n",
    "    y='average_trips',         # Eje Y: nombre del barrio\n",
    "    palette='viridis'         # Paleta de colores (puedes cambiarla)\n",
    ")\n",
    "\n",
    "# Añadir títulos y etiquetas\n",
    "plt.title('Top 10 Barrios por Promedio de Viajes', fontsize=16)\n",
    "plt.xlabel('Barrio', fontsize=12)\n",
    "plt.ylabel('Promedio de Viajes', fontsize=12)\n",
    "\n",
    "# Mostrar el gráfico\n",
    "plt.tight_layout()\n",
    "plt.show()"
   ]
  },
  {
   "cell_type": "markdown",
   "metadata": {},
   "source": [
    "<div class=\"alert alert-block alert-success\"> <b>Comentario del revisor</b> <a class=\"tocSkip\"></a><br>\n",
    "\n",
    "Correcto!<br/>\n",
    "\n",
    "Buena manera de crear una grafica que nos muestra los lugares más frecuentados\n",
    "</div>"
   ]
  },
  {
   "cell_type": "markdown",
   "metadata": {},
   "source": [
    "<div class=\"alert alert-block alert-warning\"> <b>Comentario del revisor</b> <a class=\"tocSkip\"></a><br>\n",
    "\n",
    "Recomendaría mostrar la información de las compañías de taxis de la misma manera que los lugares más frecuentados\n",
    "</div>"
   ]
  },
  {
   "cell_type": "code",
   "execution_count": 12,
   "metadata": {},
   "outputs": [
    {
     "name": "stdout",
     "output_type": "stream",
     "text": [
      "<class 'pandas.core.frame.DataFrame'>\n",
      "RangeIndex: 1068 entries, 0 to 1067\n",
      "Data columns (total 3 columns):\n",
      " #   Column              Non-Null Count  Dtype         \n",
      "---  ------              --------------  -----         \n",
      " 0   start_ts            1068 non-null   datetime64[ns]\n",
      " 1   weather_conditions  1068 non-null   object        \n",
      " 2   duration_seconds    1068 non-null   float64       \n",
      "dtypes: datetime64[ns](1), float64(1), object(1)\n",
      "memory usage: 25.2+ KB\n"
     ]
    }
   ],
   "source": [
    "#Información general de weather_conditions(clima)\n",
    "weather_conditions.info()"
   ]
  },
  {
   "cell_type": "code",
   "execution_count": 13,
   "metadata": {},
   "outputs": [
    {
     "name": "stdout",
     "output_type": "stream",
     "text": [
      "              start_ts weather_conditions  duration_seconds\n",
      "0  2017-11-25 16:00:00               Good            2410.0\n",
      "1  2017-11-25 14:00:00               Good            1920.0\n",
      "2  2017-11-25 12:00:00               Good            1543.0\n",
      "3  2017-11-04 10:00:00               Good            2512.0\n",
      "4  2017-11-11 07:00:00               Good            1440.0\n",
      "5  2017-11-11 04:00:00               Good            1320.0\n",
      "6  2017-11-04 16:00:00                Bad            2969.0\n",
      "7  2017-11-18 11:00:00               Good            2280.0\n",
      "8  2017-11-11 14:00:00               Good            2460.0\n",
      "9  2017-11-11 12:00:00               Good            2040.0\n",
      "10 2017-11-18 06:00:00               Good            1500.0\n"
     ]
    }
   ],
   "source": [
    "# Ver las primeras filas de dataset weather_conditions(clima)\n",
    "print(weather_conditions.head(11))"
   ]
  },
  {
   "cell_type": "code",
   "execution_count": 14,
   "metadata": {},
   "outputs": [],
   "source": [
    "#hiopotesis nula:duracion promemedio no cambia apesar del clima\n",
    "#hiopotesis nula:duracion promemedio si cambia apesar del clima"
   ]
  },
  {
   "cell_type": "code",
   "execution_count": 15,
   "metadata": {},
   "outputs": [],
   "source": [
    "#muestras a evaluar\n",
    "duracion_lluvia=weather_conditions.query(\"weather_conditions == 'Bad'\")['duration_seconds']\n",
    "duracion_sol=weather_conditions.query(\"weather_conditions == 'Good'\")['duration_seconds']\n"
   ]
  },
  {
   "cell_type": "code",
   "execution_count": 18,
   "metadata": {},
   "outputs": [
    {
     "name": "stdout",
     "output_type": "stream",
     "text": [
      "6.517970327099473e-12\n",
      "p-value:  6.517970327099473e-12\n",
      "Rechazamos la hipótesis nula\n"
     ]
    }
   ],
   "source": [
    "#hacerprueba de hipotesis\n",
    "\n",
    "results=stats.ttest_ind(duracion_lluvia,duracion_sol)\n",
    "\n",
    "#print(pvalue)\n",
    "print(results.pvalue)\n",
    "\n",
    "print('p-value: ', results.pvalue)\n",
    "alpha= 0.05\n",
    "\n",
    "if (results.pvalue < alpha):\n",
    "        print(\"Rechazamos la hipótesis nula\")\n",
    "else:\n",
    "        print(\"No podemos rechazar la hipótesis nula\")"
   ]
  },
  {
   "cell_type": "markdown",
   "metadata": {},
   "source": [
    "<div class=\"alert alert-block alert-success\"> <b>Comentario del revisor</b> <a class=\"tocSkip\"></a><br>\n",
    "\n",
    "Bien hecho!<br/>\n",
    "\n",
    "Es correcto rechazar la hipotesis nula, debido a que sí hay notables cambios entre un día de buenas condiciones y uno con malas condiciones\n",
    "</div>"
   ]
  },
  {
   "cell_type": "markdown",
   "metadata": {},
   "source": [
    "<div class=\"alert alert-block alert-warning\"> <b>Comentario del revisor</b> <a class=\"tocSkip\"></a><br>\n",
    "\n",
    "Cuidado!<br/>\n",
    "\n",
    "Había un error en el código: se estaba utilizando `print(pvalue)` para imprimir el valor, lo cual es incorrecto ya que no se definió una variable de esta manera, lo que se debe hacer (que lo hiciste de buena manera en la parte del if) es lo siguiente `print(results.pvalue)`\n",
    "</div>"
   ]
  },
  {
   "cell_type": "markdown",
   "metadata": {},
   "source": [
    "la duracion promedio si se ve afectada por el clima"
   ]
  },
  {
   "cell_type": "markdown",
   "metadata": {},
   "source": [
    "# Comentario general del revisor\n",
    "<div class=\"alert alert-block alert-success\">\n",
    "<b>Comentario del revisor</b> <a class=\"tocSkip\"></a><br />\n",
    "Has realizado un buen trabajo, me doy cuenta de que has aplicado los conocimientos que has adquirido durante el curso, los procedimientos realizados son correctos, este es un ejercicio que nos ayuda a entender y comprobar las hipotesis con procesos estadisticos.<br/>    \n",
    "<br/>    \n",
    "Continúa con el buen trabajo y mucho éxito en el siguiente Sprint!\n",
    "</div>\n"
   ]
  },
  {
   "cell_type": "markdown",
   "metadata": {},
   "source": [
    "\n",
    "<div class=\"alert alert-block alert-warning\">\n",
    "<b>Aspectos que pueden mejorar del proyecto</b> <a class=\"tocSkip\"></a><br />\n",
    "\n",
    "- Se pueden incluir más graficas para resaltar las observaciones o datos que muestras\n",
    "- Expandir un poco más (o agregar) observaciones intermedias, saber explicar con palabras nuestros hallazgos forma parte importante del análisis de los datos    \n",
    "- Mejorar un poco la limpieza del código, debemos asegurarnos antes de enviar el proyecto que todo funcione de inicio a fin, una manera de comprobar esto es reiniciando el kernel y correr el proyecto, no deberíamos encontrar ningún error\n",
    "- Desarrollar un poco más las conclusiones finales, puedes añadir lo que te pareció complicado del proyecto, que mejoras se pueden hacer, etc.\n",
    "    \n",
    "</div>\n",
    "\n"
   ]
  }
 ],
 "metadata": {
  "kernelspec": {
   "display_name": "Python 3 (ipykernel)",
   "language": "python",
   "name": "python3"
  },
  "language_info": {
   "codemirror_mode": {
    "name": "ipython",
    "version": 3
   },
   "file_extension": ".py",
   "mimetype": "text/x-python",
   "name": "python",
   "nbconvert_exporter": "python",
   "pygments_lexer": "ipython3",
   "version": "3.9.23"
  }
 },
 "nbformat": 4,
 "nbformat_minor": 4
}
