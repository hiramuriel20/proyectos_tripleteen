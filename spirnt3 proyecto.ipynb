{
 "cells": [
  {
   "cell_type": "markdown",
   "metadata": {},
   "source": [
    "# ¡Hola  !🙋🏻‍♂️\n",
    "\n",
    "Te escribe Lisandro Saez, soy revisor de código en Tripleten y tengo el agrado de revisar el proyecto que entregaste.\n",
    "\n",
    "Para simular la dinámica de un ambiente de trabajo, si veo algún error, en primer instancia solo los señalaré, dándote la oportunidad de encontrarlos y corregirlos por tu cuenta. En un trabajo real, el líder de tu equipo hará una dinámica similar. En caso de que no puedas resolver la tarea, te daré una información más precisa en la próxima revisión.\n",
    "\n",
    "Encontrarás mis comentarios más abajo - **por favor, no los muevas, no los modifiques ni los borres**.\n",
    "\n",
    "¿Cómo lo voy a hacer? Voy a leer detenidamente cada una de las implementaciones que has llevado a cabo para cumplir con lo solicitado. Verás los comentarios de esta forma:\n",
    "\n",
    "<div class=\"alert alert-block alert-success\">\n",
    "<b>Comentario del revisor</b> <a class=\"tocSkip\"></a>\n",
    "\n",
    "Si todo está perfecto.\n",
    "</div>\n",
    "\n",
    "\n",
    "<div class=\"alert alert-block alert-warning\">\n",
    "<b>Comentario del revisor</b> <a class=\"tocSkip\"></a>\n",
    "\n",
    "Si tu código está bien pero se puede mejorar o hay algún detalle que le hace falta. Se aceptan uno o dos comentarios de este tipo en el borrador, pero si hay más, deberías hacer las correcciones. Es como una tarea de prueba al solicitar un trabajo: muchos pequeños errores pueden hacer que un candidato sea rechazado.\n",
    "</div>\n",
    "\n",
    "<div class=\"alert alert-block alert-danger\">\n",
    "\n",
    "<b>Comentario del revisor</b> <a class=\"tocSkip\"></a>\n",
    "\n",
    "Si de pronto hace falta algo o existe algún problema con tu código o conclusiones.\n",
    "</div>\n",
    "\n",
    "Puedes responderme de esta forma (no te preocupes, no es obligatorio):\n",
    "\n",
    "<div class=\"alert alert-block alert-info\">\n",
    "<b>Respuesta del estudiante</b> <a class=\"tocSkip\"></a>\n",
    "\n",
    "Hola, muchas gracias por tus comentarios y la revisión.\n",
    "</div>\n",
    "\n",
    "¡Empecemos!"
   ]
  },
  {
   "cell_type": "markdown",
   "metadata": {
    "id": "E0vqbgi9ay0H"
   },
   "source": [
    "# Déjame escuchar la música"
   ]
  },
  {
   "cell_type": "markdown",
   "metadata": {
    "id": "fhq_eyov_Zcs"
   },
   "source": [
    "# Contenido <a id='back'></a>\n",
    "\n",
    "* [Introducción](#intro)\n",
    "* [Etapa 1. Descripción de los datos](#data_review)\n",
    "    * [Conclusiones](#data_review_conclusions)\n",
    "* [Etapa 2. Preprocesamiento de datos](#data_preprocessing)\n",
    "    * [2.1 Estilo del encabezado](#header_style)\n",
    "    * [2.2 Valores ausentes](#missing_values)\n",
    "    * [2.3 Duplicados](#duplicates)\n",
    "    * [2.4 Conclusiones](#data_preprocessing_conclusions)\n",
    "* [Etapa 3. Prueba de hipótesis](#hypothesis)\n",
    "    * [3.1 Hipótesis 1: actividad de los usuarios y las usuarias en las dos ciudades](#activity)\n",
    "* [Conclusiones](#end)"
   ]
  },
  {
   "cell_type": "markdown",
   "metadata": {
    "id": "VUC88oWjTJw2"
   },
   "source": [
    "## Introducción <a id='intro'></a>\n",
    "Como analista de datos, tu trabajo consiste en analizar datos para extraer información valiosa y tomar decisiones basadas en ellos. Esto implica diferentes etapas, como la descripción general de los datos, el preprocesamiento y la prueba de hipótesis.\n",
    "\n",
    "Siempre que investigamos, necesitamos formular hipótesis que después podamos probar. A veces aceptamos estas hipótesis; otras veces, las rechazamos. Para tomar las decisiones correctas, una empresa debe ser capaz de entender si está haciendo las suposiciones correctas.\n",
    "\n",
    "En este proyecto, compararás las preferencias musicales de las ciudades de Springfield y Shelbyville. Estudiarás datos reales de transmisión de música online para probar la hipótesis a continuación y comparar el comportamiento de los usuarios y las usuarias de estas dos ciudades.\n",
    "\n",
    "### Objetivo:\n",
    "Prueba la hipótesis:\n",
    "1. La actividad de los usuarios y las usuarias difiere según el día de la semana y dependiendo de la ciudad.\n",
    "\n",
    "\n",
    "### Etapas\n",
    "Los datos del comportamiento del usuario se almacenan en el archivo `/datasets/music_project_en.csv`. No hay ninguna información sobre la calidad de los datos, así que necesitarás examinarlos antes de probar la hipótesis.\n",
    "\n",
    "Primero, evaluarás la calidad de los datos y verás si los problemas son significativos. Entonces, durante el preprocesamiento de datos, tomarás en cuenta los problemas más críticos.\n",
    "\n",
    "Tu proyecto consistirá en tres etapas:\n",
    " 1. Descripción de los datos.\n",
    " 2. Preprocesamiento de datos.\n",
    " 3. Prueba de hipótesis.\n",
    "\n",
    "\n",
    "\n",
    "\n",
    "\n",
    "\n"
   ]
  },
  {
   "cell_type": "markdown",
   "metadata": {
    "id": "hDt6pg-Rw-1U"
   },
   "source": [
    "[Volver a Contenidos](#back)"
   ]
  },
  {
   "cell_type": "markdown",
   "metadata": {
    "id": "Ml1hmfXC_Zcs"
   },
   "source": [
    "## Etapa 1. Descripción de los datos <a id='data_review'></a>\n",
    "\n",
    "Abre los datos y examínalos."
   ]
  },
  {
   "cell_type": "markdown",
   "metadata": {
    "id": "57eAOGIz_Zcs"
   },
   "source": [
    "Necesitarás `pandas`, así que impórtalo."
   ]
  },
  {
   "cell_type": "code",
   "execution_count": 31,
   "metadata": {
    "id": "AXN7PHPN_Zcs"
   },
   "outputs": [],
   "source": [
    "# Importar pandas\n",
    "import pandas as pd"
   ]
  },
  {
   "cell_type": "markdown",
   "metadata": {
    "id": "SG23P8tt_Zcs"
   },
   "source": [
    "Lee el archivo `music_project_en.csv` de la carpeta `/datasets/` y guárdalo en la variable `df`:"
   ]
  },
  {
   "cell_type": "code",
   "execution_count": 32,
   "metadata": {
    "id": "fFVu7vqh_Zct"
   },
   "outputs": [
    {
     "data": {
      "text/html": [
       "<div>\n",
       "<style scoped>\n",
       "    .dataframe tbody tr th:only-of-type {\n",
       "        vertical-align: middle;\n",
       "    }\n",
       "\n",
       "    .dataframe tbody tr th {\n",
       "        vertical-align: top;\n",
       "    }\n",
       "\n",
       "    .dataframe thead th {\n",
       "        text-align: right;\n",
       "    }\n",
       "</style>\n",
       "<table border=\"1\" class=\"dataframe\">\n",
       "  <thead>\n",
       "    <tr style=\"text-align: right;\">\n",
       "      <th></th>\n",
       "      <th>userID</th>\n",
       "      <th>Track</th>\n",
       "      <th>artist</th>\n",
       "      <th>genre</th>\n",
       "      <th>City</th>\n",
       "      <th>time</th>\n",
       "      <th>Day</th>\n",
       "    </tr>\n",
       "  </thead>\n",
       "  <tbody>\n",
       "    <tr>\n",
       "      <th>0</th>\n",
       "      <td>FFB692EC</td>\n",
       "      <td>Kamigata To Boots</td>\n",
       "      <td>The Mass Missile</td>\n",
       "      <td>rock</td>\n",
       "      <td>Shelbyville</td>\n",
       "      <td>20:28:33</td>\n",
       "      <td>Wednesday</td>\n",
       "    </tr>\n",
       "    <tr>\n",
       "      <th>1</th>\n",
       "      <td>55204538</td>\n",
       "      <td>Delayed Because of Accident</td>\n",
       "      <td>Andreas Rönnberg</td>\n",
       "      <td>rock</td>\n",
       "      <td>Springfield</td>\n",
       "      <td>14:07:09</td>\n",
       "      <td>Friday</td>\n",
       "    </tr>\n",
       "    <tr>\n",
       "      <th>2</th>\n",
       "      <td>20EC38</td>\n",
       "      <td>Funiculì funiculà</td>\n",
       "      <td>Mario Lanza</td>\n",
       "      <td>pop</td>\n",
       "      <td>Shelbyville</td>\n",
       "      <td>20:58:07</td>\n",
       "      <td>Wednesday</td>\n",
       "    </tr>\n",
       "    <tr>\n",
       "      <th>3</th>\n",
       "      <td>A3DD03C9</td>\n",
       "      <td>Dragons in the Sunset</td>\n",
       "      <td>Fire + Ice</td>\n",
       "      <td>folk</td>\n",
       "      <td>Shelbyville</td>\n",
       "      <td>08:37:09</td>\n",
       "      <td>Monday</td>\n",
       "    </tr>\n",
       "    <tr>\n",
       "      <th>4</th>\n",
       "      <td>E2DC1FAE</td>\n",
       "      <td>Soul People</td>\n",
       "      <td>Space Echo</td>\n",
       "      <td>dance</td>\n",
       "      <td>Springfield</td>\n",
       "      <td>08:34:34</td>\n",
       "      <td>Monday</td>\n",
       "    </tr>\n",
       "    <tr>\n",
       "      <th>...</th>\n",
       "      <td>...</td>\n",
       "      <td>...</td>\n",
       "      <td>...</td>\n",
       "      <td>...</td>\n",
       "      <td>...</td>\n",
       "      <td>...</td>\n",
       "      <td>...</td>\n",
       "    </tr>\n",
       "    <tr>\n",
       "      <th>65074</th>\n",
       "      <td>729CBB09</td>\n",
       "      <td>My Name</td>\n",
       "      <td>McLean</td>\n",
       "      <td>rnb</td>\n",
       "      <td>Springfield</td>\n",
       "      <td>13:32:28</td>\n",
       "      <td>Wednesday</td>\n",
       "    </tr>\n",
       "    <tr>\n",
       "      <th>65075</th>\n",
       "      <td>D08D4A55</td>\n",
       "      <td>Maybe One Day (feat. Black Spade)</td>\n",
       "      <td>Blu &amp; Exile</td>\n",
       "      <td>hip</td>\n",
       "      <td>Shelbyville</td>\n",
       "      <td>10:00:00</td>\n",
       "      <td>Monday</td>\n",
       "    </tr>\n",
       "    <tr>\n",
       "      <th>65076</th>\n",
       "      <td>C5E3A0D5</td>\n",
       "      <td>Jalopiina</td>\n",
       "      <td>NaN</td>\n",
       "      <td>industrial</td>\n",
       "      <td>Springfield</td>\n",
       "      <td>20:09:26</td>\n",
       "      <td>Friday</td>\n",
       "    </tr>\n",
       "    <tr>\n",
       "      <th>65077</th>\n",
       "      <td>321D0506</td>\n",
       "      <td>Freight Train</td>\n",
       "      <td>Chas McDevitt</td>\n",
       "      <td>rock</td>\n",
       "      <td>Springfield</td>\n",
       "      <td>21:43:59</td>\n",
       "      <td>Friday</td>\n",
       "    </tr>\n",
       "    <tr>\n",
       "      <th>65078</th>\n",
       "      <td>3A64EF84</td>\n",
       "      <td>Tell Me Sweet Little Lies</td>\n",
       "      <td>Monica Lopez</td>\n",
       "      <td>country</td>\n",
       "      <td>Springfield</td>\n",
       "      <td>21:59:46</td>\n",
       "      <td>Friday</td>\n",
       "    </tr>\n",
       "  </tbody>\n",
       "</table>\n",
       "<p>65079 rows × 7 columns</p>\n",
       "</div>"
      ],
      "text/plain": [
       "         userID                              Track            artist  \\\n",
       "0      FFB692EC                  Kamigata To Boots  The Mass Missile   \n",
       "1      55204538        Delayed Because of Accident  Andreas Rönnberg   \n",
       "2        20EC38                  Funiculì funiculà       Mario Lanza   \n",
       "3      A3DD03C9              Dragons in the Sunset        Fire + Ice   \n",
       "4      E2DC1FAE                        Soul People        Space Echo   \n",
       "...         ...                                ...               ...   \n",
       "65074  729CBB09                            My Name            McLean   \n",
       "65075  D08D4A55  Maybe One Day (feat. Black Spade)       Blu & Exile   \n",
       "65076  C5E3A0D5                          Jalopiina               NaN   \n",
       "65077  321D0506                      Freight Train     Chas McDevitt   \n",
       "65078  3A64EF84          Tell Me Sweet Little Lies      Monica Lopez   \n",
       "\n",
       "            genre       City        time        Day  \n",
       "0            rock  Shelbyville  20:28:33  Wednesday  \n",
       "1            rock  Springfield  14:07:09     Friday  \n",
       "2             pop  Shelbyville  20:58:07  Wednesday  \n",
       "3            folk  Shelbyville  08:37:09     Monday  \n",
       "4           dance  Springfield  08:34:34     Monday  \n",
       "...           ...          ...       ...        ...  \n",
       "65074         rnb  Springfield  13:32:28  Wednesday  \n",
       "65075         hip  Shelbyville  10:00:00     Monday  \n",
       "65076  industrial  Springfield  20:09:26     Friday  \n",
       "65077        rock  Springfield  21:43:59     Friday  \n",
       "65078     country  Springfield  21:59:46     Friday  \n",
       "\n",
       "[65079 rows x 7 columns]"
      ]
     },
     "metadata": {},
     "output_type": "display_data"
    }
   ],
   "source": [
    "# Leer el archivo y almacenarlo en df\n",
    "music_df = pd.read_csv('/datasets/music_project_en.csv')\n",
    "display(music_df)"
   ]
  },
  {
   "cell_type": "markdown",
   "metadata": {},
   "source": [
    "\n",
    "<div class=\"alert alert-block alert-success\">\n",
    "<b>Comentario del revisor</b> <a class=\"tocSkip\"></a>\n",
    "\n",
    "Bien hecho! Siempre es importante que pasemos el set de datos que estamos usando a `DataFrame`!</div>\n",
    "\n"
   ]
  },
  {
   "cell_type": "markdown",
   "metadata": {
    "id": "rDoOMd3uTqnZ"
   },
   "source": [
    "Muestra las 10 primeras filas de la tabla:"
   ]
  },
  {
   "cell_type": "code",
   "execution_count": 33,
   "metadata": {
    "id": "oWTVX3gW_Zct"
   },
   "outputs": [
    {
     "data": {
      "text/html": [
       "<div>\n",
       "<style scoped>\n",
       "    .dataframe tbody tr th:only-of-type {\n",
       "        vertical-align: middle;\n",
       "    }\n",
       "\n",
       "    .dataframe tbody tr th {\n",
       "        vertical-align: top;\n",
       "    }\n",
       "\n",
       "    .dataframe thead th {\n",
       "        text-align: right;\n",
       "    }\n",
       "</style>\n",
       "<table border=\"1\" class=\"dataframe\">\n",
       "  <thead>\n",
       "    <tr style=\"text-align: right;\">\n",
       "      <th></th>\n",
       "      <th>userID</th>\n",
       "      <th>Track</th>\n",
       "      <th>artist</th>\n",
       "      <th>genre</th>\n",
       "      <th>City</th>\n",
       "      <th>time</th>\n",
       "      <th>Day</th>\n",
       "    </tr>\n",
       "  </thead>\n",
       "  <tbody>\n",
       "    <tr>\n",
       "      <th>0</th>\n",
       "      <td>FFB692EC</td>\n",
       "      <td>Kamigata To Boots</td>\n",
       "      <td>The Mass Missile</td>\n",
       "      <td>rock</td>\n",
       "      <td>Shelbyville</td>\n",
       "      <td>20:28:33</td>\n",
       "      <td>Wednesday</td>\n",
       "    </tr>\n",
       "    <tr>\n",
       "      <th>1</th>\n",
       "      <td>55204538</td>\n",
       "      <td>Delayed Because of Accident</td>\n",
       "      <td>Andreas Rönnberg</td>\n",
       "      <td>rock</td>\n",
       "      <td>Springfield</td>\n",
       "      <td>14:07:09</td>\n",
       "      <td>Friday</td>\n",
       "    </tr>\n",
       "    <tr>\n",
       "      <th>2</th>\n",
       "      <td>20EC38</td>\n",
       "      <td>Funiculì funiculà</td>\n",
       "      <td>Mario Lanza</td>\n",
       "      <td>pop</td>\n",
       "      <td>Shelbyville</td>\n",
       "      <td>20:58:07</td>\n",
       "      <td>Wednesday</td>\n",
       "    </tr>\n",
       "    <tr>\n",
       "      <th>3</th>\n",
       "      <td>A3DD03C9</td>\n",
       "      <td>Dragons in the Sunset</td>\n",
       "      <td>Fire + Ice</td>\n",
       "      <td>folk</td>\n",
       "      <td>Shelbyville</td>\n",
       "      <td>08:37:09</td>\n",
       "      <td>Monday</td>\n",
       "    </tr>\n",
       "    <tr>\n",
       "      <th>4</th>\n",
       "      <td>E2DC1FAE</td>\n",
       "      <td>Soul People</td>\n",
       "      <td>Space Echo</td>\n",
       "      <td>dance</td>\n",
       "      <td>Springfield</td>\n",
       "      <td>08:34:34</td>\n",
       "      <td>Monday</td>\n",
       "    </tr>\n",
       "    <tr>\n",
       "      <th>5</th>\n",
       "      <td>842029A1</td>\n",
       "      <td>Chains</td>\n",
       "      <td>Obladaet</td>\n",
       "      <td>rusrap</td>\n",
       "      <td>Shelbyville</td>\n",
       "      <td>13:09:41</td>\n",
       "      <td>Friday</td>\n",
       "    </tr>\n",
       "    <tr>\n",
       "      <th>6</th>\n",
       "      <td>4CB90AA5</td>\n",
       "      <td>True</td>\n",
       "      <td>Roman Messer</td>\n",
       "      <td>dance</td>\n",
       "      <td>Springfield</td>\n",
       "      <td>13:00:07</td>\n",
       "      <td>Wednesday</td>\n",
       "    </tr>\n",
       "    <tr>\n",
       "      <th>7</th>\n",
       "      <td>F03E1C1F</td>\n",
       "      <td>Feeling This Way</td>\n",
       "      <td>Polina Griffith</td>\n",
       "      <td>dance</td>\n",
       "      <td>Springfield</td>\n",
       "      <td>20:47:49</td>\n",
       "      <td>Wednesday</td>\n",
       "    </tr>\n",
       "    <tr>\n",
       "      <th>8</th>\n",
       "      <td>8FA1D3BE</td>\n",
       "      <td>L’estate</td>\n",
       "      <td>Julia Dalia</td>\n",
       "      <td>ruspop</td>\n",
       "      <td>Springfield</td>\n",
       "      <td>09:17:40</td>\n",
       "      <td>Friday</td>\n",
       "    </tr>\n",
       "    <tr>\n",
       "      <th>9</th>\n",
       "      <td>E772D5C0</td>\n",
       "      <td>Pessimist</td>\n",
       "      <td>NaN</td>\n",
       "      <td>dance</td>\n",
       "      <td>Shelbyville</td>\n",
       "      <td>21:20:49</td>\n",
       "      <td>Wednesday</td>\n",
       "    </tr>\n",
       "  </tbody>\n",
       "</table>\n",
       "</div>"
      ],
      "text/plain": [
       "     userID                        Track            artist   genre  \\\n",
       "0  FFB692EC            Kamigata To Boots  The Mass Missile    rock   \n",
       "1  55204538  Delayed Because of Accident  Andreas Rönnberg    rock   \n",
       "2    20EC38            Funiculì funiculà       Mario Lanza     pop   \n",
       "3  A3DD03C9        Dragons in the Sunset        Fire + Ice    folk   \n",
       "4  E2DC1FAE                  Soul People        Space Echo   dance   \n",
       "5  842029A1                       Chains          Obladaet  rusrap   \n",
       "6  4CB90AA5                         True      Roman Messer   dance   \n",
       "7  F03E1C1F             Feeling This Way   Polina Griffith   dance   \n",
       "8  8FA1D3BE                     L’estate       Julia Dalia  ruspop   \n",
       "9  E772D5C0                    Pessimist               NaN   dance   \n",
       "\n",
       "        City        time        Day  \n",
       "0  Shelbyville  20:28:33  Wednesday  \n",
       "1  Springfield  14:07:09     Friday  \n",
       "2  Shelbyville  20:58:07  Wednesday  \n",
       "3  Shelbyville  08:37:09     Monday  \n",
       "4  Springfield  08:34:34     Monday  \n",
       "5  Shelbyville  13:09:41     Friday  \n",
       "6  Springfield  13:00:07  Wednesday  \n",
       "7  Springfield  20:47:49  Wednesday  \n",
       "8  Springfield  09:17:40     Friday  \n",
       "9  Shelbyville  21:20:49  Wednesday  "
      ]
     },
     "metadata": {},
     "output_type": "display_data"
    }
   ],
   "source": [
    "# Obtener las 10 primeras filas de la tabla df\n",
    "display(music_df.head(10))"
   ]
  },
  {
   "cell_type": "markdown",
   "metadata": {
    "id": "EO73Kwic_Zct"
   },
   "source": [
    "Obtén la información general sobre la tabla con un comando. Conoces el método que muestra la información general que necesitamos."
   ]
  },
  {
   "cell_type": "code",
   "execution_count": 34,
   "metadata": {
    "id": "DSf2kIb-_Zct"
   },
   "outputs": [
    {
     "name": "stdout",
     "output_type": "stream",
     "text": [
      "<class 'pandas.core.frame.DataFrame'>\n",
      "RangeIndex: 65079 entries, 0 to 65078\n",
      "Data columns (total 7 columns):\n",
      " #   Column    Non-Null Count  Dtype \n",
      "---  ------    --------------  ----- \n",
      " 0     userID  65079 non-null  object\n",
      " 1   Track     63736 non-null  object\n",
      " 2   artist    57512 non-null  object\n",
      " 3   genre     63881 non-null  object\n",
      " 4     City    65079 non-null  object\n",
      " 5   time      65079 non-null  object\n",
      " 6   Day       65079 non-null  object\n",
      "dtypes: object(7)\n",
      "memory usage: 3.5+ MB\n",
      "  userID    0.000000\n",
      "Track       0.020636\n",
      "artist      0.116274\n",
      "genre       0.018408\n",
      "  City      0.000000\n",
      "time        0.000000\n",
      "Day         0.000000\n",
      "dtype: float64\n",
      "\n",
      "cantidad de duplicados:\n",
      "3826\n"
     ]
    }
   ],
   "source": [
    "# Obtener la información general sobre nuestros datos\n",
    "music_df.info()\n",
    "print(music_df.isna().mean())\n",
    "print()\n",
    "print('cantidad de duplicados:')\n",
    "print(music_df.duplicated().sum())"
   ]
  },
  {
   "cell_type": "markdown",
   "metadata": {
    "id": "TaQ2Iwbr_Zct"
   },
   "source": [
    "Estas son nuestras observaciones sobre la tabla. Contiene siete columnas. Almacenan los mismos tipos de datos: `object`.\n",
    "\n",
    "Según la documentación:\n",
    "- `' userID'`: identificador del usuario o la usuaria;\n",
    "- `'Track'`: título de la canción;\n",
    "- `'artist'`: nombre del artista;\n",
    "- `'genre'`: género de la pista;\n",
    "- `'City'`: ciudad del usuario o la usuaria;\n",
    "- `'time'`: la hora exacta en la que se reprodujo la canción;\n",
    "- `'Day'`: día de la semana.\n",
    "\n",
    "Podemos ver tres problemas con el estilo en los encabezados de la tabla:\n",
    "1. Algunos encabezados están en mayúsculas, otros en minúsculas.\n",
    "2. Hay espacios en algunos encabezados.\n",
    "3. `Detecta el tercer problema por tu cuenta y descríbelo aquí`.\n",
    "\n",
    "\n",
    "EL TERCER PROBLEMA: \n",
    "hay nulos e inconsistencia en el tipo de dato de la columna tiempo\n"
   ]
  },
  {
   "cell_type": "markdown",
   "metadata": {
    "id": "MCB6-dXG_Zct"
   },
   "source": [
    "### Escribe observaciones de tu parte. Estas son algunas de las preguntas que pueden ser útiles: <a id='data_review_conclusions'></a>\n",
    "\n",
    "`1.   ¿Qué tipo de datos tenemos a nuestra disposición en las filas? ¿Y cómo podemos entender lo que almacenan las columnas?`\n",
    "\n",
    "En las filas, tenemos datos deregistros de reproducción de canciones con información sobre el usuario, la canción, el artista, el género musical, la ciudad del usuario y la hora y día de la semana en que se reprodujo la canción.(' userID'\n",
    "'Track', 'artist', 'genre', 'City', 'time' y 'Day')  \n",
    "`2.   ¿Hay suficientes datos para proporcionar respuestas a nuestra hipótesis o necesitamos más información?`\n",
    "Con más de 65,000 filas, parece haber suficientes datos para analizar tendencias y patrones en la reproducción de canciones. Sin embargo, la suficiencia de los datos dependerá de la hipótesis específica que se quiera probar. Es posible que se necesiten más datos para analizar aspectos más detallados o específicos, pero talves halla los suficientes pero una explicacion de otra forma los dejaria mas en claro para cualquier usuario aveces algunos usuaruios con los los mismos datos pero con diferente explicacion lo entiendan mejor\n",
    "\n",
    "\n",
    "`3.   ¿Notaste algún problema en los datos, como valores ausentes, duplicados o tipos de datos incorrectos?`\n",
    "  si HAY VALORES AUSENTES Track artist genre DUPLICADOS 3826\n",
    "  el tiempo esta incorrecto pero el analisis no requiere el cambio"
   ]
  },
  {
   "cell_type": "markdown",
   "metadata": {},
   "source": [
    "\n",
    "\n",
    "<div class=\"alert alert-block alert-success\">\n",
    "<b>Comentario del revisor</b> <a class=\"tocSkip\"></a>\n",
    "\n",
    "Gran trabajo! Es importante que antes de encarar cualquier problema que queramos resolver con Python, nos paremos a pensar bien en qué consisten los datos con los que vamos a trabajar!\n",
    "</div>\n"
   ]
  },
  {
   "cell_type": "markdown",
   "metadata": {
    "id": "3eL__vcwViOi"
   },
   "source": [
    "[Volver a Contenidos](#back)"
   ]
  },
  {
   "cell_type": "markdown",
   "metadata": {
    "id": "SjYF6Ub9_Zct"
   },
   "source": [
    "## Etapa 2. Preprocesamiento de datos <a id='data_preprocessing'></a>\n",
    "\n",
    "El objetivo aquí es preparar los datos para que sean analizados.\n",
    "El primer paso es resolver cualquier problema con los encabezados. Luego podemos avanzar a los valores ausentes y duplicados. Empecemos.\n",
    "\n",
    "Corrige el formato en los encabezados de la tabla.\n"
   ]
  },
  {
   "cell_type": "markdown",
   "metadata": {
    "id": "dIaKXr29_Zct"
   },
   "source": [
    "### Estilo del encabezado <a id='header_style'></a>\n",
    "Muestra los encabezados de la tabla (los nombres de las columnas):"
   ]
  },
  {
   "cell_type": "code",
   "execution_count": 35,
   "metadata": {
    "id": "oKOTdF_Q_Zct"
   },
   "outputs": [
    {
     "name": "stdout",
     "output_type": "stream",
     "text": [
      "Index(['  userID', 'Track', 'artist', 'genre', '  City  ', 'time', 'Day'], dtype='object')\n"
     ]
    }
   ],
   "source": [
    "# Muestra los nombres de las columnas\n",
    "# Importar pandas\n",
    "import pandas as pd\n",
    "\n",
    "# Leer el archivo y almacenarlo en df\n",
    "df = pd.read_csv('/datasets/music_project_en.csv')\n",
    "\n",
    "# Mostrar los nombres de las columnas\n",
    "print(df.columns)"
   ]
  },
  {
   "cell_type": "markdown",
   "metadata": {
    "id": "zj5534cv_Zct"
   },
   "source": [
    "Cambia los encabezados de la tabla de acuerdo con las reglas del buen estilo:\n",
    "* Todos los caracteres deben ser minúsculas.\n",
    "* Elimina los espacios.\n",
    "* Si el nombre tiene varias palabras, utiliza snake_case."
   ]
  },
  {
   "cell_type": "markdown",
   "metadata": {
    "id": "Xu0zkfe5zNJe"
   },
   "source": [
    "Anteriormente, aprendiste acerca de la forma automática de cambiar el nombre de las columnas. Vamos a aplicarla ahora. Utiliza el bucle for para iterar sobre los nombres de las columnas y poner todos los caracteres en minúsculas. Cuando hayas terminado, vuelve a mostrar los encabezados de la tabla:"
   ]
  },
  {
   "cell_type": "code",
   "execution_count": 36,
   "metadata": {
    "id": "6I_RwwMhzM4e"
   },
   "outputs": [],
   "source": [
    "# Bucle en los encabezados poniendo todo en minúsculas\n",
    "for i, col in enumerate(df.columns):\n",
    "    df.rename(columns={col: col.strip().lower()}, inplace=True)"
   ]
  },
  {
   "cell_type": "markdown",
   "metadata": {
    "id": "pweIRxjSzPYW"
   },
   "source": [
    "Ahora, utilizando el mismo método, elimina los espacios al principio y al final de los nombres de las columnas e imprime los nombres de las columnas nuevamente:"
   ]
  },
  {
   "cell_type": "code",
   "execution_count": 37,
   "metadata": {
    "id": "vVQXbFyJzSYl"
   },
   "outputs": [
    {
     "data": {
      "text/plain": [
       "Index(['userid', 'track', 'artist', 'genre', 'city', 'time', 'day'], dtype='object')"
      ]
     },
     "execution_count": 37,
     "metadata": {},
     "output_type": "execute_result"
    }
   ],
   "source": [
    "# Bucle en los encabezados eliminando los espacios\n",
    "df.columns"
   ]
  },
  {
   "cell_type": "markdown",
   "metadata": {
    "id": "yCb8MW1JzURd"
   },
   "source": [
    "Necesitamos aplicar la regla de snake_case a la columna `userid`. Debe ser `user_id`. Cambia el nombre de esta columna y muestra los nombres de todas las columnas cuando hayas terminado."
   ]
  },
  {
   "cell_type": "code",
   "execution_count": 38,
   "metadata": {
    "id": "ISlFqs5y_Zct"
   },
   "outputs": [],
   "source": [
    "# Cambiar el nombre de la columna \"userid\"\n",
    "df = df.rename(columns={'userid': 'user_id'})"
   ]
  },
  {
   "cell_type": "markdown",
   "metadata": {
    "id": "1dqbh00J_Zct"
   },
   "source": [
    "Comprueba el resultado. Muestra los encabezados una vez más:"
   ]
  },
  {
   "cell_type": "code",
   "execution_count": 39,
   "metadata": {
    "id": "d4NOAmTW_Zct"
   },
   "outputs": [
    {
     "name": "stdout",
     "output_type": "stream",
     "text": [
      "Index(['user_id', 'track', 'artist', 'genre', 'city', 'time', 'day'], dtype='object')\n"
     ]
    }
   ],
   "source": [
    "# Comprobar el resultado: la lista de encabezados\n",
    "print(df.columns)"
   ]
  },
  {
   "cell_type": "markdown",
   "metadata": {},
   "source": [
    "\n",
    "\n",
    "<div class=\"alert alert-block alert-success\">\n",
    "<b>Comentario del revisor</b> <a class=\"tocSkip\"></a>\n",
    "    \n",
    "Te felicito, los encabezados se ven geniales!\n",
    "</div> "
   ]
  },
  {
   "cell_type": "markdown",
   "metadata": {
    "id": "xYJk6ksJVpOl"
   },
   "source": [
    "[Volver a Contenidos](#back)"
   ]
  },
  {
   "cell_type": "markdown",
   "metadata": {
    "id": "5ISfbcfY_Zct"
   },
   "source": [
    "### Valores ausentes <a id='missing_values'></a>\n",
    " Primero, encuentra el número de valores ausentes en la tabla. Debes utilizar dos métodos en una secuencia para obtener el número de valores ausentes."
   ]
  },
  {
   "cell_type": "code",
   "execution_count": 40,
   "metadata": {
    "id": "RskX29qr_Zct"
   },
   "outputs": [
    {
     "name": "stdout",
     "output_type": "stream",
     "text": [
      "user_id       0\n",
      "track      1343\n",
      "artist     7567\n",
      "genre      1198\n",
      "city          0\n",
      "time          0\n",
      "day           0\n",
      "dtype: int64\n"
     ]
    }
   ],
   "source": [
    "# Calcular el número de valores ausentes\n",
    "print(df.isnull().sum())"
   ]
  },
  {
   "cell_type": "markdown",
   "metadata": {
    "id": "qubhgnlO_Zct"
   },
   "source": [
    "No todos los valores ausentes afectan a la investigación. Por ejemplo, los valores ausentes en `track` y `artist` no son cruciales. Simplemente puedes reemplazarlos con valores predeterminados como el string `'unknown'` (desconocido).\n",
    "\n",
    "Pero los valores ausentes en `'genre'` pueden afectar la comparación entre las preferencias musicales de Springfield y Shelbyville. En la vida real, sería útil saber las razones por las cuales hay datos ausentes e intentar recuperarlos. Pero no tenemos esa oportunidad en este proyecto. Así que tendrás que:\n",
    "* rellenar estos valores ausentes con un valor predeterminado;\n",
    "* evaluar cuánto podrían afectar los valores ausentes a tus cómputos;"
   ]
  },
  {
   "cell_type": "markdown",
   "metadata": {
    "id": "fSv2laPA_Zct"
   },
   "source": [
    "Reemplazar los valores ausentes en las columnas `'track'`, `'artist'` y `'genre'` con el string `'unknown'`. Como mostramos anteriormente en las lecciones, la mejor forma de hacerlo es crear una lista que almacene los nombres de las columnas donde se necesita el reemplazo. Luego, utiliza esta lista e itera sobre las columnas donde se necesita el reemplazo haciendo el propio reemplazo."
   ]
  },
  {
   "cell_type": "code",
   "execution_count": 41,
   "metadata": {
    "id": "KplB5qWs_Zct"
   },
   "outputs": [],
   "source": [
    "# Bucle en los encabezados reemplazando los valores ausentes con 'unknown'\n",
    "# Crear una lista con los nombres de las columnas donde se necesita el reemplazo\n",
    "columns_to_replace = ['track', 'artist', 'genre']\n",
    "\n",
    "# Bucle en los encabezados reemplazando los valores ausentes con 'unknown'\n",
    "for column in columns_to_replace:\n",
    "    df[column] = df[column].fillna('unknown')"
   ]
  },
  {
   "cell_type": "markdown",
   "metadata": {},
   "source": [
    "\n",
    "\n",
    "\n",
    "<div class=\"alert alert-block alert-success\">\n",
    "<b>Comentario del revisor</b> <a class=\"tocSkip\"></a>\n",
    "\n",
    "Te felicito por haber eliminado los NaNs! Es una parte fundamental del análisis de datos!\n",
    "</div>\n",
    "\n"
   ]
  },
  {
   "cell_type": "markdown",
   "metadata": {
    "id": "Ilsm-MZo_Zct"
   },
   "source": [
    "Ahora comprueba el resultado para asegurarte de que después del reemplazo no haya valores ausentes en el conjunto de datos. Para hacer esto, cuenta los valores ausentes nuevamente."
   ]
  },
  {
   "cell_type": "code",
   "execution_count": 42,
   "metadata": {
    "id": "Tq4nYRX4_Zct"
   },
   "outputs": [
    {
     "name": "stdout",
     "output_type": "stream",
     "text": [
      "user_id    0\n",
      "track      0\n",
      "artist     0\n",
      "genre      0\n",
      "city       0\n",
      "time       0\n",
      "day        0\n",
      "dtype: int64\n"
     ]
    }
   ],
   "source": [
    "# Contar valores ausentes\n",
    "print(df.isnull().sum())"
   ]
  },
  {
   "cell_type": "markdown",
   "metadata": {
    "id": "74ZIBmq9VrsK"
   },
   "source": [
    "[Volver a Contenidos](#back)"
   ]
  },
  {
   "cell_type": "markdown",
   "metadata": {
    "id": "BWKRtBJ3_Zct"
   },
   "source": [
    "### Duplicados <a id='duplicates'></a>\n",
    "Encuentra el número de duplicados explícitos en la tabla. Una vez más, debes aplicar dos métodos en una secuencia para obtener la cantidad de duplicados explícitos."
   ]
  },
  {
   "cell_type": "code",
   "execution_count": 43,
   "metadata": {
    "id": "36eES_S0_Zct"
   },
   "outputs": [
    {
     "name": "stdout",
     "output_type": "stream",
     "text": [
      "3826\n"
     ]
    }
   ],
   "source": [
    "# Contar duplicados explícitos\n",
    "print(df.duplicated().sum())"
   ]
  },
  {
   "cell_type": "markdown",
   "metadata": {
    "id": "Ot25h6XR_Zct"
   },
   "source": [
    "Ahora, elimina todos los duplicados. Para ello, llama al método que hace exactamente esto."
   ]
  },
  {
   "cell_type": "code",
   "execution_count": 44,
   "metadata": {
    "id": "exFHq6tt_Zct"
   },
   "outputs": [
    {
     "name": "stdout",
     "output_type": "stream",
     "text": [
      "None\n"
     ]
    }
   ],
   "source": [
    "# Eliminar duplicados explicitos\n",
    "print(df.drop_duplicates(inplace=True))\n"
   ]
  },
  {
   "cell_type": "markdown",
   "metadata": {
    "id": "Im2YwBEG_Zct"
   },
   "source": [
    "Comprobemos ahora si eliminamos con éxito todos los duplicados. Cuenta los duplicados explícitos una vez más para asegurarte de haberlos eliminado todos:"
   ]
  },
  {
   "cell_type": "code",
   "execution_count": 45,
   "metadata": {
    "id": "-8PuNWQ0_Zct"
   },
   "outputs": [
    {
     "name": "stdout",
     "output_type": "stream",
     "text": [
      "0\n"
     ]
    }
   ],
   "source": [
    "# Comprobar de nuevo si hay duplicados\n",
    "\n",
    "print(df.duplicated().sum())"
   ]
  },
  {
   "cell_type": "markdown",
   "metadata": {
    "id": "QlFBsxAr_Zct"
   },
   "source": [
    "Ahora queremos deshacernos de los duplicados implícitos en la columna `genre`. Por ejemplo, el nombre de un género se puede escribir de varias formas. Dichos errores también pueden afectar al resultado."
   ]
  },
  {
   "cell_type": "markdown",
   "metadata": {
    "id": "eSjWwsOh_Zct"
   },
   "source": [
    "Para hacerlo, primero mostremos una lista de nombres de género únicos, ordenados en orden alfabético. Para ello:\n",
    "* Extrae la columna `genre` del DataFrame.\n",
    "* Llama al método que devolverá todos los valores únicos en la columna extraída.\n"
   ]
  },
  {
   "cell_type": "code",
   "execution_count": 46,
   "metadata": {
    "id": "JIUcqzZN_Zct"
   },
   "outputs": [
    {
     "name": "stdout",
     "output_type": "stream",
     "text": [
      "['acid', 'acoustic', 'action', 'adult', 'africa', 'afrikaans', 'alternative', 'ambient', 'americana', 'animated', 'anime', 'arabesk', 'arabic', 'arena', 'argentinetango', 'art', 'audiobook', 'avantgarde', 'axé', 'baile', 'balkan', 'beats', 'bigroom', 'black', 'bluegrass', 'blues', 'bollywood', 'bossa', 'brazilian', 'breakbeat', 'breaks', 'broadway', 'cantautori', 'cantopop', 'canzone', 'caribbean', 'caucasian', 'celtic', 'chamber', 'children', 'chill', 'chinese', 'choral', 'christian', 'christmas', 'classical', 'classicmetal', 'club', 'colombian', 'comedy', 'conjazz', 'contemporary', 'country', 'cuban', 'dance', 'dancehall', 'dancepop', 'dark', 'death', 'deep', 'deutschrock', 'deutschspr', 'dirty', 'disco', 'dnb', 'documentary', 'downbeat', 'downtempo', 'drum', 'dub', 'dubstep', 'eastern', 'easy', 'electronic', 'electropop', 'emo', 'entehno', 'epicmetal', 'estrada', 'ethnic', 'eurofolk', 'european', 'experimental', 'extrememetal', 'fado', 'film', 'fitness', 'flamenco', 'folk', 'folklore', 'folkmetal', 'folkrock', 'folktronica', 'forró', 'frankreich', 'französisch', 'french', 'funk', 'future', 'gangsta', 'garage', 'german', 'ghazal', 'gitarre', 'glitch', 'gospel', 'gothic', 'grime', 'grunge', 'gypsy', 'handsup', \"hard'n'heavy\", 'hardcore', 'hardstyle', 'hardtechno', 'hip', 'hip-hop', 'hiphop', 'historisch', 'holiday', 'hop', 'horror', 'house', 'idm', 'independent', 'indian', 'indie', 'indipop', 'industrial', 'inspirational', 'instrumental', 'international', 'irish', 'jam', 'japanese', 'jazz', 'jewish', 'jpop', 'jungle', 'k-pop', 'karadeniz', 'karaoke', 'kayokyoku', 'korean', 'laiko', 'latin', 'latino', 'leftfield', 'local', 'lounge', 'loungeelectronic', 'lovers', 'malaysian', 'mandopop', 'marschmusik', 'meditative', 'mediterranean', 'melodic', 'metal', 'metalcore', 'mexican', 'middle', 'minimal', 'miscellaneous', 'modern', 'mood', 'mpb', 'muslim', 'native', 'neoklassik', 'neue', 'new', 'newage', 'newwave', 'nu', 'nujazz', 'numetal', 'oceania', 'old', 'opera', 'orchestral', 'other', 'piano', 'pop', 'popelectronic', 'popeurodance', 'post', 'posthardcore', 'postrock', 'power', 'progmetal', 'progressive', 'psychedelic', 'punjabi', 'punk', 'quebecois', 'ragga', 'ram', 'rancheras', 'rap', 'rave', 'reggae', 'reggaeton', 'regional', 'relax', 'religious', 'retro', 'rhythm', 'rnb', 'rnr', 'rock', 'rockabilly', 'romance', 'roots', 'ruspop', 'rusrap', 'rusrock', 'salsa', 'samba', 'schlager', 'self', 'sertanejo', 'shoegazing', 'showtunes', 'singer', 'ska', 'slow', 'smooth', 'soul', 'soulful', 'sound', 'soundtrack', 'southern', 'specialty', 'speech', 'spiritual', 'sport', 'stonerrock', 'surf', 'swing', 'synthpop', 'sängerportrait', 'tango', 'tanzorchester', 'taraftar', 'tech', 'techno', 'thrash', 'top', 'traditional', 'tradjazz', 'trance', 'tribal', 'trip', 'triphop', 'tropical', 'türk', 'türkçe', 'unknown', 'urban', 'uzbek', 'variété', 'vi', 'videogame', 'vocal', 'western', 'world', 'worldbeat', 'ïîï']\n"
     ]
    }
   ],
   "source": [
    "# Inspeccionar los nombres de géneros únicos\n",
    "print(sorted(df['genre'].unique()))"
   ]
  },
  {
   "cell_type": "markdown",
   "metadata": {
    "id": "qej-Qmuo_Zct"
   },
   "source": [
    "Busca en la lista para encontrar duplicados implícitos del género `hiphop`. Estos pueden ser nombres escritos incorrectamente o nombres alternativos para el mismo género.\n",
    "\n",
    "Verás los siguientes duplicados implícitos:\n",
    "* `hip`\n",
    "* `hop`\n",
    "* `hip-hop`\n",
    "\n",
    "Para deshacerte de ellos, crea una función llamada `replace_wrong_genres()` con dos parámetros:\n",
    "* `wrong_genres=`: esta es una lista que contiene todos los valores que necesitas reemplazar.\n",
    "* `correct_genre=`: este es un string que vas a utilizar como reemplazo.\n",
    "\n",
    "Como resultado, la función debería corregir los nombres en la columna `'genre'` de la tabla `df`, es decir, remplazar cada valor de la lista `wrong_genres` por el valor en `correct_genre`.\n",
    "\n",
    "Dentro del cuerpo de la función, utiliza un bucle `'for'` para iterar sobre la lista de géneros incorrectos, extrae la columna `'genre'` y aplica el método `replace` para hacer correcciones."
   ]
  },
  {
   "cell_type": "markdown",
   "metadata": {},
   "source": [
    "<div class=\"alert alert-block alert-danger\">\n",
    "<b>Comentario del revisor (2da Iteracion)</b> <a class=“tocSkip”></a>\n",
    "\n",
    "Deberías mostrar en orden alfabético los géneros, recuerdas que se revisó la parte de `sort()` en sprint anteriores? Podrías usar ese método\n",
    "</div>"
   ]
  },
  {
   "cell_type": "markdown",
   "metadata": {},
   "source": [
    "<div class=\"alert alert-block alert-success\">\n",
    "<b>Comentario del revisor (3ra Iteracion)</b> <a class=“tocSkip”></a>\n",
    "\n",
    "Muy bien! Ahora es más fácil revisar los géneros que son similares\n",
    "</div>"
   ]
  },
  {
   "cell_type": "code",
   "execution_count": 1,
   "metadata": {
    "id": "ErNDkmns_Zct",
    "scrolled": true
   },
   "outputs": [],
   "source": [
    "# Función para reemplazar duplicados implícitos\n",
    "def replace_wrong_genres(wrong_genres,correct_genre):\n",
    "    df['genre']= df['genre'].replace(wrong_genres,correct_genre)\n",
    "    return df"
   ]
  },
  {
   "cell_type": "markdown",
   "metadata": {},
   "source": [
    "\n",
    "\n",
    "\n",
    "<div class=\"alert alert-block alert-danger\">\n",
    "<b>Comentario del revisor</b> <a class=\"tocSkip\"></a>\n",
    "\n",
    "Recuerda que en este ejercicio debes definir la función `replace_wrong_genres` para eliminar duplicados implícitos y en el próximo ejercicio debes llamarla.</div>\n",
    "\n"
   ]
  },
  {
   "cell_type": "markdown",
   "metadata": {},
   "source": [
    "<div class=\"alert alert-block alert-success\">\n",
    "<b>Comentario del revisor (2da Iteracion)</b> <a class=“tocSkip”></a>\n",
    "\n",
    "Muy bien! Con esto queda correctamente definida la función\n",
    "</div>"
   ]
  },
  {
   "cell_type": "markdown",
   "metadata": {
    "id": "aDoBJxbA_Zct"
   },
   "source": [
    "Ahora, llama a `replace_wrong_genres()` y pásale tales argumentos para que retire los duplicados implícitos (`hip`, `hop` y `hip-hop`) y los reemplace por `hiphop`:"
   ]
  },
  {
   "cell_type": "code",
   "execution_count": 48,
   "metadata": {
    "id": "YN5i2hpmSo09"
   },
   "outputs": [],
   "source": [
    "# Eliminar duplicados implícitos\n",
    "df=replace_wrong_genres(['hip','hop','hip-hop'],'hiphop')"
   ]
  },
  {
   "cell_type": "markdown",
   "metadata": {
    "id": "zQKF16_RG15m"
   },
   "source": [
    "Asegúrate de que los nombres duplicados han sido eliminados. Muestra la lista de valores únicos de la columna `'genre'` una vez más:"
   ]
  },
  {
   "cell_type": "code",
   "execution_count": 49,
   "metadata": {
    "id": "wvixALnFG15m"
   },
   "outputs": [
    {
     "data": {
      "text/plain": [
       "['acid',\n",
       " 'acoustic',\n",
       " 'action',\n",
       " 'adult',\n",
       " 'africa',\n",
       " 'afrikaans',\n",
       " 'alternative',\n",
       " 'ambient',\n",
       " 'americana',\n",
       " 'animated',\n",
       " 'anime',\n",
       " 'arabesk',\n",
       " 'arabic',\n",
       " 'arena',\n",
       " 'argentinetango',\n",
       " 'art',\n",
       " 'audiobook',\n",
       " 'avantgarde',\n",
       " 'axé',\n",
       " 'baile',\n",
       " 'balkan',\n",
       " 'beats',\n",
       " 'bigroom',\n",
       " 'black',\n",
       " 'bluegrass',\n",
       " 'blues',\n",
       " 'bollywood',\n",
       " 'bossa',\n",
       " 'brazilian',\n",
       " 'breakbeat',\n",
       " 'breaks',\n",
       " 'broadway',\n",
       " 'cantautori',\n",
       " 'cantopop',\n",
       " 'canzone',\n",
       " 'caribbean',\n",
       " 'caucasian',\n",
       " 'celtic',\n",
       " 'chamber',\n",
       " 'children',\n",
       " 'chill',\n",
       " 'chinese',\n",
       " 'choral',\n",
       " 'christian',\n",
       " 'christmas',\n",
       " 'classical',\n",
       " 'classicmetal',\n",
       " 'club',\n",
       " 'colombian',\n",
       " 'comedy',\n",
       " 'conjazz',\n",
       " 'contemporary',\n",
       " 'country',\n",
       " 'cuban',\n",
       " 'dance',\n",
       " 'dancehall',\n",
       " 'dancepop',\n",
       " 'dark',\n",
       " 'death',\n",
       " 'deep',\n",
       " 'deutschrock',\n",
       " 'deutschspr',\n",
       " 'dirty',\n",
       " 'disco',\n",
       " 'dnb',\n",
       " 'documentary',\n",
       " 'downbeat',\n",
       " 'downtempo',\n",
       " 'drum',\n",
       " 'dub',\n",
       " 'dubstep',\n",
       " 'eastern',\n",
       " 'easy',\n",
       " 'electronic',\n",
       " 'electropop',\n",
       " 'emo',\n",
       " 'entehno',\n",
       " 'epicmetal',\n",
       " 'estrada',\n",
       " 'ethnic',\n",
       " 'eurofolk',\n",
       " 'european',\n",
       " 'experimental',\n",
       " 'extrememetal',\n",
       " 'fado',\n",
       " 'film',\n",
       " 'fitness',\n",
       " 'flamenco',\n",
       " 'folk',\n",
       " 'folklore',\n",
       " 'folkmetal',\n",
       " 'folkrock',\n",
       " 'folktronica',\n",
       " 'forró',\n",
       " 'frankreich',\n",
       " 'französisch',\n",
       " 'french',\n",
       " 'funk',\n",
       " 'future',\n",
       " 'gangsta',\n",
       " 'garage',\n",
       " 'german',\n",
       " 'ghazal',\n",
       " 'gitarre',\n",
       " 'glitch',\n",
       " 'gospel',\n",
       " 'gothic',\n",
       " 'grime',\n",
       " 'grunge',\n",
       " 'gypsy',\n",
       " 'handsup',\n",
       " \"hard'n'heavy\",\n",
       " 'hardcore',\n",
       " 'hardstyle',\n",
       " 'hardtechno',\n",
       " 'hiphop',\n",
       " 'historisch',\n",
       " 'holiday',\n",
       " 'horror',\n",
       " 'house',\n",
       " 'idm',\n",
       " 'independent',\n",
       " 'indian',\n",
       " 'indie',\n",
       " 'indipop',\n",
       " 'industrial',\n",
       " 'inspirational',\n",
       " 'instrumental',\n",
       " 'international',\n",
       " 'irish',\n",
       " 'jam',\n",
       " 'japanese',\n",
       " 'jazz',\n",
       " 'jewish',\n",
       " 'jpop',\n",
       " 'jungle',\n",
       " 'k-pop',\n",
       " 'karadeniz',\n",
       " 'karaoke',\n",
       " 'kayokyoku',\n",
       " 'korean',\n",
       " 'laiko',\n",
       " 'latin',\n",
       " 'latino',\n",
       " 'leftfield',\n",
       " 'local',\n",
       " 'lounge',\n",
       " 'loungeelectronic',\n",
       " 'lovers',\n",
       " 'malaysian',\n",
       " 'mandopop',\n",
       " 'marschmusik',\n",
       " 'meditative',\n",
       " 'mediterranean',\n",
       " 'melodic',\n",
       " 'metal',\n",
       " 'metalcore',\n",
       " 'mexican',\n",
       " 'middle',\n",
       " 'minimal',\n",
       " 'miscellaneous',\n",
       " 'modern',\n",
       " 'mood',\n",
       " 'mpb',\n",
       " 'muslim',\n",
       " 'native',\n",
       " 'neoklassik',\n",
       " 'neue',\n",
       " 'new',\n",
       " 'newage',\n",
       " 'newwave',\n",
       " 'nu',\n",
       " 'nujazz',\n",
       " 'numetal',\n",
       " 'oceania',\n",
       " 'old',\n",
       " 'opera',\n",
       " 'orchestral',\n",
       " 'other',\n",
       " 'piano',\n",
       " 'pop',\n",
       " 'popelectronic',\n",
       " 'popeurodance',\n",
       " 'post',\n",
       " 'posthardcore',\n",
       " 'postrock',\n",
       " 'power',\n",
       " 'progmetal',\n",
       " 'progressive',\n",
       " 'psychedelic',\n",
       " 'punjabi',\n",
       " 'punk',\n",
       " 'quebecois',\n",
       " 'ragga',\n",
       " 'ram',\n",
       " 'rancheras',\n",
       " 'rap',\n",
       " 'rave',\n",
       " 'reggae',\n",
       " 'reggaeton',\n",
       " 'regional',\n",
       " 'relax',\n",
       " 'religious',\n",
       " 'retro',\n",
       " 'rhythm',\n",
       " 'rnb',\n",
       " 'rnr',\n",
       " 'rock',\n",
       " 'rockabilly',\n",
       " 'romance',\n",
       " 'roots',\n",
       " 'ruspop',\n",
       " 'rusrap',\n",
       " 'rusrock',\n",
       " 'salsa',\n",
       " 'samba',\n",
       " 'schlager',\n",
       " 'self',\n",
       " 'sertanejo',\n",
       " 'shoegazing',\n",
       " 'showtunes',\n",
       " 'singer',\n",
       " 'ska',\n",
       " 'slow',\n",
       " 'smooth',\n",
       " 'soul',\n",
       " 'soulful',\n",
       " 'sound',\n",
       " 'soundtrack',\n",
       " 'southern',\n",
       " 'specialty',\n",
       " 'speech',\n",
       " 'spiritual',\n",
       " 'sport',\n",
       " 'stonerrock',\n",
       " 'surf',\n",
       " 'swing',\n",
       " 'synthpop',\n",
       " 'sängerportrait',\n",
       " 'tango',\n",
       " 'tanzorchester',\n",
       " 'taraftar',\n",
       " 'tech',\n",
       " 'techno',\n",
       " 'thrash',\n",
       " 'top',\n",
       " 'traditional',\n",
       " 'tradjazz',\n",
       " 'trance',\n",
       " 'tribal',\n",
       " 'trip',\n",
       " 'triphop',\n",
       " 'tropical',\n",
       " 'türk',\n",
       " 'türkçe',\n",
       " 'unknown',\n",
       " 'urban',\n",
       " 'uzbek',\n",
       " 'variété',\n",
       " 'vi',\n",
       " 'videogame',\n",
       " 'vocal',\n",
       " 'western',\n",
       " 'world',\n",
       " 'worldbeat',\n",
       " 'ïîï']"
      ]
     },
     "execution_count": 49,
     "metadata": {},
     "output_type": "execute_result"
    }
   ],
   "source": [
    "# Comprobación de duplicados implícitos\n",
    "sorted(df['genre'].unique())"
   ]
  },
  {
   "cell_type": "markdown",
   "metadata": {
    "id": "ALgNbvF3VtPA"
   },
   "source": [
    "[Volver a Contenidos](#back)"
   ]
  },
  {
   "cell_type": "markdown",
   "metadata": {
    "id": "jz6a9-7HQUDd"
   },
   "source": [
    "### Tus observaciones <a id='data_preprocessing_conclusions'></a>\n",
    "\n",
    "`Describe brevemente lo que has notado al analizar duplicados, cómo abordaste sus eliminaciones y qué resultados obtuviste.`\n",
    "tilicé el método duplicated() para identificar los duplicados explícitos en la tabla.\n",
    "Luego, utilicé el método drop_duplicates() para eliminar los duplicados explícitos.\n",
    "Finalmente, verifiqué que los duplicados explícitos habían sido eliminados correctamente, utilizando nuevamente el método duplicated().\n",
    "en los Duplicados Implícitos    \n",
    "Identifiqué los duplicados implícitos en la columna 'genre', específicamente en los géneros 'hip', 'hop' y 'hip-hop'.\n",
    "Creé una función llamada replace_wrong_genres() que reemplazó estos valores por 'hiphop'.\n",
    "    Luego, llamé a la función replace_wrong_genres() y pasé los argumentos necesarios para reemplazar los duplicados implícitos.\n",
    "    Finalmente, verifiqué que los duplicados implícitos habían sido eliminados correctamente, utilizando el método unique() para mostrar la lista de valores únicos en la columna 'genre'.\n",
    "\n",
    "\n"
   ]
  },
  {
   "cell_type": "markdown",
   "metadata": {
    "id": "eK1es74rVujj"
   },
   "source": [
    "[Volver a Contenidos](#back)"
   ]
  },
  {
   "cell_type": "markdown",
   "metadata": {
    "id": "WttZHXH0SqKk"
   },
   "source": [
    "## Etapa 3. Prueba de hipótesis <a id='hypothesis'></a>"
   ]
  },
  {
   "cell_type": "markdown",
   "metadata": {
    "id": "Im936VVi_Zcu"
   },
   "source": [
    "### Hipótesis: comparar el comportamiento del usuario o la usuaria en las dos ciudades <a id='activity'></a>"
   ]
  },
  {
   "cell_type": "markdown",
   "metadata": {
    "id": "nwt_MuaL_Zcu"
   },
   "source": [
    "La hipótesis afirma que existen diferencias en la forma en que los usuarios y las usuarias de Springfield y Shelbyville consumen música. Para comprobar esto, usa los datos de tres días de la semana: lunes, miércoles y viernes.\n",
    "\n",
    "* Agrupa a los usuarios y las usuarias por ciudad.\n",
    "* Compara el número de canciones que cada grupo reprodujo el lunes, el miércoles y el viernes.\n"
   ]
  },
  {
   "cell_type": "markdown",
   "metadata": {
    "id": "8Dw_YMmT_Zcu"
   },
   "source": [
    "Realiza cada cálculo por separado.\n",
    "\n",
    "El primer paso es evaluar la actividad del usuario en cada ciudad. Recuerda las etapas dividir-aplicar-combinar de las que hablamos anteriormente en la lección. Tu objetivo ahora es agrupar los datos por ciudad, aplicar el método apropiado para contar durante la etapa de aplicación y luego encontrar la cantidad de canciones reproducidas en cada grupo especificando la columna para obtener el recuento.\n",
    "\n",
    "A continuación se muestra un ejemplo de cómo debería verse el resultado final:\n",
    "`df.groupby(by='....')['column'].method()`Realiza cada cálculo por separado.\n",
    "\n",
    "Para evaluar la actividad de los usuarios y las usuarias en cada ciudad, agrupa los datos por ciudad y encuentra la cantidad de canciones reproducidas en cada grupo.\n",
    "\n"
   ]
  },
  {
   "cell_type": "code",
   "execution_count": 50,
   "metadata": {
    "id": "0_Qs96oh_Zcu"
   },
   "outputs": [
    {
     "data": {
      "text/plain": [
       "city\n",
       "Shelbyville    18512\n",
       "Springfield    42741\n",
       "Name: track, dtype: int64"
      ]
     },
     "execution_count": 50,
     "metadata": {},
     "output_type": "execute_result"
    }
   ],
   "source": [
    "# Contar las canciones reproducidas en cada ciudad\n",
    "df.groupby(by='city')['track'].count()"
   ]
  },
  {
   "cell_type": "markdown",
   "metadata": {},
   "source": [
    "\n",
    "\n",
    "\n",
    "<div class=\"alert alert-block alert-success\">\n",
    "<b>Comentario del revisor</b> <a class=\"tocSkip\"></a>\n",
    "\n",
    "Gran trabajo utilizando `groupby()`!</div>\n",
    "\n"
   ]
  },
  {
   "cell_type": "markdown",
   "metadata": {
    "id": "t_Qx-3NewAnK"
   },
   "source": [
    "`Comenta tus observaciones aquí`\n",
    "springfield parece tener mas reproduccines de tracks "
   ]
  },
  {
   "cell_type": "markdown",
   "metadata": {
    "id": "dzli3w8o_Zcu"
   },
   "source": [
    "Ahora agrupemos los datos por día de la semana y encontremos el número de canciones reproducidas el lunes, miércoles y viernes. Utiliza el mismo método que antes, pero ahora necesitamos una agrupación diferente.\n"
   ]
  },
  {
   "cell_type": "code",
   "execution_count": 51,
   "metadata": {
    "id": "uZMKjiJz_Zcu"
   },
   "outputs": [
    {
     "data": {
      "text/plain": [
       "day\n",
       "Friday       21840\n",
       "Monday       21354\n",
       "Wednesday    18059\n",
       "Name: track, dtype: int64"
      ]
     },
     "execution_count": 51,
     "metadata": {},
     "output_type": "execute_result"
    }
   ],
   "source": [
    "# Calcular las canciones reproducidas en cada uno de los tres días\n",
    "df.groupby(by='day')['track'].count()"
   ]
  },
  {
   "cell_type": "markdown",
   "metadata": {
    "id": "cC2tNrlL_Zcu"
   },
   "source": [
    "`Comenta tus observaciones aquí` en viernes se reproducen mas canciones y en lunes menos eso quiere decir que entre mas se acerca el fin de semana mas hay la necesidad de escuchar musica"
   ]
  },
  {
   "cell_type": "markdown",
   "metadata": {
    "id": "POzs8bGa_Zcu"
   },
   "source": [
    "Ya sabes cómo contar entradas agrupándolas por ciudad o día. Ahora necesitas escribir una función que pueda contar entradas según ambos criterios simultáneamente.\n",
    "\n",
    "Crea la función `number_tracks()` para calcular el número de canciones reproducidas en un determinado día **y** ciudad. La función debe aceptar dos parámetros:\n",
    "\n",
    "- `day`: un día de la semana para filtrar. Por ejemplo, `'Monday'` (lunes).\n",
    "- `city`: una ciudad para filtrar. Por ejemplo, `'Springfield'`.\n",
    "\n",
    "Dentro de la función, aplicarás un filtrado consecutivo con indexación lógica.\n",
    "\n",
    "Primero filtra los datos por día y luego filtra la tabla resultante por ciudad.\n",
    "\n",
    "Después de filtrar los datos por dos criterios, cuenta el número de valores de la columna 'user_id' en la tabla resultante. Este recuento representa el número de entradas que estás buscando. Guarda el resultado en una nueva variable y devuélvelo desde la función."
   ]
  },
  {
   "cell_type": "code",
   "execution_count": 52,
   "metadata": {
    "id": "Nz3GdQB1_Zcu"
   },
   "outputs": [],
   "source": [
    "# Declara la función number_tracks() con dos parámetros: day= y city=.\n",
    "def number_tracks(day, city):\n",
    "    # Almacena las filas del DataFrame donde el valor en la columna 'day' es igual al parámetro day=\n",
    "    day=df_filtered_by_day = df[df['day'] == day]\n",
    "    # Filtra las filas donde el valor en la columna 'city' es igual al parámetro city=\n",
    "    df_filtered_by_day_and_city = df_filtered_by_day[df_filtered_by_day['city'] == city]\n",
    "    # Extrae la columna 'user_id' de la tabla filtrada y aplica el método count()\n",
    "    number_of_tracks = df_filtered_by_day_and_city['user_id'].count()\n",
    "    # Devolve el número de valores de la columna 'user_id'\n",
    "    return number_of_tracks"
   ]
  },
  {
   "cell_type": "markdown",
   "metadata": {},
   "source": [
    "\n",
    "<div class=\"alert alert-block alert-success\">\n",
    "<b>Comentario del revisor</b> <a class=\"tocSkip\"></a>\n",
    "\n",
    "Te felicito por el excelente trabajo que has hecho con esta función!</div>\n"
   ]
  },
  {
   "cell_type": "markdown",
   "metadata": {
    "id": "ytf7xFrFJQ2r"
   },
   "source": [
    "Llama a `number_tracks()` seis veces, cambiando los valores de los parámetros para que recuperes los datos de ambas ciudades para cada uno de los tres días."
   ]
  },
  {
   "cell_type": "code",
   "execution_count": 53,
   "metadata": {
    "id": "rJcRATNQ_Zcu"
   },
   "outputs": [
    {
     "name": "stdout",
     "output_type": "stream",
     "text": [
      "15740\n"
     ]
    }
   ],
   "source": [
    "# El número de canciones reproducidas en Springfield el lunes\n",
    "springfield_monday = number_tracks('Monday', 'Springfield')\n",
    "print(springfield_monday)"
   ]
  },
  {
   "cell_type": "markdown",
   "metadata": {},
   "source": []
  },
  {
   "cell_type": "code",
   "execution_count": 54,
   "metadata": {
    "id": "hq_ncZ5T_Zcu"
   },
   "outputs": [
    {
     "name": "stdout",
     "output_type": "stream",
     "text": [
      "5614\n"
     ]
    }
   ],
   "source": [
    "# El número de canciones reproducidas en Shelbyville el lunes\n",
    "shelbyville_monday = number_tracks('Monday', 'Shelbyville')\n",
    "print(shelbyville_monday)"
   ]
  },
  {
   "cell_type": "code",
   "execution_count": 55,
   "metadata": {
    "id": "_NTy2VPU_Zcu"
   },
   "outputs": [
    {
     "name": "stdout",
     "output_type": "stream",
     "text": [
      "11056\n"
     ]
    }
   ],
   "source": [
    "# El número de canciones reproducidas en Springfield el miércoles\n",
    "springfield_wednesday = number_tracks('Wednesday', 'Springfield')\n",
    "print(springfield_wednesday)"
   ]
  },
  {
   "cell_type": "code",
   "execution_count": 56,
   "metadata": {
    "id": "j2y3TAwo_Zcu"
   },
   "outputs": [
    {
     "name": "stdout",
     "output_type": "stream",
     "text": [
      "7003\n"
     ]
    }
   ],
   "source": [
    "# El número de canciones reproducidas en Shelbyville el miércoles\n",
    "shelbyville_wednesday = number_tracks('Wednesday', 'Shelbyville')\n",
    "print(shelbyville_wednesday)"
   ]
  },
  {
   "cell_type": "code",
   "execution_count": 57,
   "metadata": {
    "id": "vYDw5u_K_Zcu"
   },
   "outputs": [
    {
     "name": "stdout",
     "output_type": "stream",
     "text": [
      "15945\n"
     ]
    }
   ],
   "source": [
    "# El número de canciones reproducidas en Springfield el viernes\n",
    "springfield_friday = number_tracks('Friday', 'Springfield')\n",
    "print(springfield_friday)"
   ]
  },
  {
   "cell_type": "code",
   "execution_count": 58,
   "metadata": {
    "id": "8_yzFtW3_Zcu"
   },
   "outputs": [
    {
     "name": "stdout",
     "output_type": "stream",
     "text": [
      "5895\n"
     ]
    }
   ],
   "source": [
    "# El número de canciones reproducidas en Shelbyville el viernes\n",
    "shelbyville_friday = number_tracks('Friday', 'Shelbyville')\n",
    "print(shelbyville_friday)"
   ]
  },
  {
   "cell_type": "markdown",
   "metadata": {
    "id": "-EgPIHYu_Zcu"
   },
   "source": [
    "**Conclusiones**\n",
    "\n",
    "`Comenta si la hipótesis es correcta o se debe rechazar. Explica tu razonamiento.`\n",
    "La hipótesis es correcta.\n",
    "\n",
    "\n",
    "segun los numeros en los datos muestran que la actividad de los usuarios y las usuarias difiere según el día de la semana y dependiendo de la ciudad. \n",
    "En Springfield, el número de canciones reproducidas es mayor el viernes (15945) y menor el miércoles (11056). En Shelbyville, el número de canciones reproducidas también es mayor el viernes (5895) y menor el miércoles (7003). \n",
    "Además, en ambos días, Springfield tiene un número significativamente mayor de canciones reproducidas que Shelbyville. Esto sugiere que la actividad musical es más intensa en Springfield que en Shelbyville. una variacion notable"
   ]
  },
  {
   "cell_type": "markdown",
   "metadata": {},
   "source": [
    "\n",
    "\n",
    "<div class=\"alert alert-block alert-success\">\n",
    "<b>Comentario del revisor</b> <a class=\"tocSkip\"></a>\n",
    "\n",
    "Muy buen análisis de hipótesis!</div>\n"
   ]
  },
  {
   "cell_type": "markdown",
   "metadata": {
    "id": "p7nFQajCVw5B"
   },
   "source": [
    "[Volver a Contenidos](#back)"
   ]
  },
  {
   "cell_type": "markdown",
   "metadata": {
    "id": "ykKQ0N65_Zcv"
   },
   "source": [
    "# Conclusiones <a id='end'></a>"
   ]
  },
  {
   "cell_type": "markdown",
   "metadata": {
    "id": "tjUwbHb3_Zcv"
   },
   "source": [
    "`Resume aquí tus conclusiones sobre la hipótesis.` \n",
    "el número de canciones reproducidas en ambas ciudades muestran su variacion notable y que ciudad es mejor para ofrecer musica en cualquier tipo de ventas y los dias ideales para ello. asi mismo cuando la puclicidad se es propicio poner en lo relacionado a la musica. DETALLE IMPORTANTE PARA REVISOR: CREOQUE ALTERE ALGUNA CELDA Y SE MODIFICO\n"
   ]
  },
  {
   "cell_type": "markdown",
   "metadata": {},
   "source": [
    "\n",
    "\n",
    "<div class=\"alert alert-block alert-success\">\n",
    "<b>Comentario del revisor</b> <a class=\"tocSkip\"></a>\n",
    "\n",
    "Muy buen análisis de hipótesis!</div>\n"
   ]
  },
  {
   "cell_type": "markdown",
   "metadata": {},
   "source": [
    "<div class=\"alert alert-block alert-danger\">\n",
    "<b>Comentario del revisor (2da Iteracion)</b> <a class=“tocSkip”></a>\n",
    "\n",
    "Buen trabajo con la corrección de la función, sólo hace falta que corrijas la forma en la que se presentan los géneros la primera vez ya que el enunciado requiere que sea en órden alfabético. Por el resto está casi completo tu proyecto!\n",
    "</div>"
   ]
  },
  {
   "cell_type": "markdown",
   "metadata": {
    "id": "azLHu64yOIp7"
   },
   "source": [
    "### Nota\n",
    "En proyectos de investigación reales, la prueba de hipótesis estadística es más precisa y cuantitativa. También ten en cuenta que no siempre se pueden sacar conclusiones sobre una ciudad entera a partir de datos de una sola fuente.\n",
    "\n",
    "Aprenderás más sobre la prueba de hipótesis en el sprint de análisis estadístico de datos."
   ]
  },
  {
   "cell_type": "markdown",
   "metadata": {
    "id": "Ju4AHDSgV1FE"
   },
   "source": [
    "[Volver a Contenidos](#back)"
   ]
  }
 ],
 "metadata": {
  "ExecuteTimeLog": [
   {
    "duration": 4,
    "start_time": "2025-01-31T00:20:51.035Z"
   },
   {
    "duration": 158,
    "start_time": "2025-01-31T00:20:59.949Z"
   },
   {
    "duration": 11,
    "start_time": "2025-01-31T00:21:12.158Z"
   },
   {
    "duration": 11,
    "start_time": "2025-01-31T00:21:15.892Z"
   },
   {
    "duration": 12,
    "start_time": "2025-01-31T00:43:36.489Z"
   },
   {
    "duration": 11,
    "start_time": "2025-01-31T00:44:20.528Z"
   },
   {
    "duration": 327,
    "start_time": "2025-01-31T00:47:43.351Z"
   },
   {
    "duration": 2,
    "start_time": "2025-01-31T00:47:49.363Z"
   },
   {
    "duration": 371,
    "start_time": "2025-01-31T00:50:07.991Z"
   },
   {
    "duration": 174,
    "start_time": "2025-01-31T00:50:50.261Z"
   },
   {
    "duration": 12,
    "start_time": "2025-01-31T00:55:00.319Z"
   },
   {
    "duration": 3,
    "start_time": "2025-01-31T00:55:56.016Z"
   },
   {
    "duration": 3,
    "start_time": "2025-01-31T00:56:06.028Z"
   },
   {
    "duration": 11,
    "start_time": "2025-01-31T00:56:16.825Z"
   },
   {
    "duration": 98,
    "start_time": "2025-01-31T01:21:58.436Z"
   },
   {
    "duration": 15,
    "start_time": "2025-01-31T01:26:07.799Z"
   },
   {
    "duration": 4,
    "start_time": "2025-01-31T01:27:28.803Z"
   },
   {
    "duration": 101,
    "start_time": "2025-01-31T01:28:03.942Z"
   },
   {
    "duration": 13,
    "start_time": "2025-01-31T01:56:44.889Z"
   },
   {
    "duration": 89,
    "start_time": "2025-01-31T01:57:44.325Z"
   },
   {
    "duration": 4,
    "start_time": "2025-01-31T02:02:27.842Z"
   },
   {
    "duration": 4,
    "start_time": "2025-01-31T02:02:34.406Z"
   },
   {
    "duration": 3,
    "start_time": "2025-01-31T02:08:54.322Z"
   },
   {
    "duration": 3,
    "start_time": "2025-01-31T02:08:58.182Z"
   },
   {
    "duration": 7,
    "start_time": "2025-01-31T02:11:03.823Z"
   },
   {
    "duration": 3,
    "start_time": "2025-01-31T02:12:46.157Z"
   },
   {
    "duration": 18,
    "start_time": "2025-01-31T02:25:58.149Z"
   },
   {
    "duration": 12,
    "start_time": "2025-01-31T02:33:26.320Z"
   },
   {
    "duration": 16,
    "start_time": "2025-01-31T02:33:46.969Z"
   },
   {
    "duration": 15,
    "start_time": "2025-01-31T02:33:54.381Z"
   },
   {
    "duration": 28,
    "start_time": "2025-01-31T02:35:19.045Z"
   },
   {
    "duration": 44,
    "start_time": "2025-01-31T02:37:42.865Z"
   },
   {
    "duration": 13,
    "start_time": "2025-01-31T02:37:49.059Z"
   },
   {
    "duration": 157,
    "start_time": "2025-01-31T03:18:08.470Z"
   },
   {
    "duration": 11,
    "start_time": "2025-01-31T03:20:05.414Z"
   },
   {
    "duration": 12,
    "start_time": "2025-01-31T03:20:33.817Z"
   },
   {
    "duration": 13,
    "start_time": "2025-01-31T03:21:23.830Z"
   },
   {
    "duration": 11,
    "start_time": "2025-01-31T03:45:45.609Z"
   },
   {
    "duration": 15,
    "start_time": "2025-01-31T03:52:50.801Z"
   },
   {
    "duration": 268,
    "start_time": "2025-01-31T03:57:58.111Z"
   },
   {
    "duration": 119,
    "start_time": "2025-01-31T03:57:58.381Z"
   },
   {
    "duration": 98,
    "start_time": "2025-01-31T03:57:58.502Z"
   },
   {
    "duration": 101,
    "start_time": "2025-01-31T03:57:58.604Z"
   },
   {
    "duration": 92,
    "start_time": "2025-01-31T03:57:58.706Z"
   },
   {
    "duration": 5,
    "start_time": "2025-01-31T03:57:58.799Z"
   },
   {
    "duration": 3,
    "start_time": "2025-01-31T03:57:58.806Z"
   },
   {
    "duration": 5,
    "start_time": "2025-01-31T03:57:58.811Z"
   },
   {
    "duration": 3,
    "start_time": "2025-01-31T03:57:58.817Z"
   },
   {
    "duration": 15,
    "start_time": "2025-01-31T03:57:58.845Z"
   },
   {
    "duration": 12,
    "start_time": "2025-01-31T03:57:58.862Z"
   },
   {
    "duration": 19,
    "start_time": "2025-01-31T03:57:58.875Z"
   },
   {
    "duration": 65,
    "start_time": "2025-01-31T03:57:58.896Z"
   },
   {
    "duration": 34,
    "start_time": "2025-01-31T03:57:58.963Z"
   },
   {
    "duration": 0,
    "start_time": "2025-01-31T03:57:58.999Z"
   },
   {
    "duration": 0,
    "start_time": "2025-01-31T03:57:59.000Z"
   },
   {
    "duration": 0,
    "start_time": "2025-01-31T03:57:59.001Z"
   },
   {
    "duration": 0,
    "start_time": "2025-01-31T03:57:59.002Z"
   },
   {
    "duration": 0,
    "start_time": "2025-01-31T03:57:59.003Z"
   },
   {
    "duration": 0,
    "start_time": "2025-01-31T03:57:59.004Z"
   },
   {
    "duration": 0,
    "start_time": "2025-01-31T03:57:59.005Z"
   },
   {
    "duration": 0,
    "start_time": "2025-01-31T03:57:59.006Z"
   },
   {
    "duration": 0,
    "start_time": "2025-01-31T03:57:59.007Z"
   },
   {
    "duration": 0,
    "start_time": "2025-01-31T03:57:59.008Z"
   },
   {
    "duration": 0,
    "start_time": "2025-01-31T03:57:59.009Z"
   },
   {
    "duration": 0,
    "start_time": "2025-01-31T03:57:59.010Z"
   },
   {
    "duration": 0,
    "start_time": "2025-01-31T03:57:59.011Z"
   },
   {
    "duration": 0,
    "start_time": "2025-01-31T03:57:59.012Z"
   },
   {
    "duration": 10,
    "start_time": "2025-01-31T03:58:27.280Z"
   },
   {
    "duration": 10,
    "start_time": "2025-01-31T03:58:31.084Z"
   },
   {
    "duration": 49,
    "start_time": "2025-01-31T03:59:12.075Z"
   },
   {
    "duration": 39,
    "start_time": "2025-01-31T04:00:46.279Z"
   },
   {
    "duration": 12,
    "start_time": "2025-01-31T04:02:17.567Z"
   },
   {
    "duration": 7,
    "start_time": "2025-01-31T04:05:59.091Z"
   },
   {
    "duration": 39,
    "start_time": "2025-01-31T04:09:30.998Z"
   },
   {
    "duration": 39,
    "start_time": "2025-01-31T04:10:45.800Z"
   },
   {
    "duration": 10,
    "start_time": "2025-01-31T04:29:19.006Z"
   },
   {
    "duration": 2,
    "start_time": "2025-01-31T04:31:36.737Z"
   },
   {
    "duration": 129,
    "start_time": "2025-01-31T04:31:36.743Z"
   },
   {
    "duration": 102,
    "start_time": "2025-01-31T04:31:36.874Z"
   },
   {
    "duration": 103,
    "start_time": "2025-01-31T04:31:36.978Z"
   },
   {
    "duration": 91,
    "start_time": "2025-01-31T04:31:37.083Z"
   },
   {
    "duration": 4,
    "start_time": "2025-01-31T04:31:37.177Z"
   },
   {
    "duration": 3,
    "start_time": "2025-01-31T04:31:37.183Z"
   },
   {
    "duration": 7,
    "start_time": "2025-01-31T04:31:37.187Z"
   },
   {
    "duration": 3,
    "start_time": "2025-01-31T04:31:37.195Z"
   },
   {
    "duration": 45,
    "start_time": "2025-01-31T04:31:37.200Z"
   },
   {
    "duration": 11,
    "start_time": "2025-01-31T04:31:37.247Z"
   },
   {
    "duration": 16,
    "start_time": "2025-01-31T04:31:37.259Z"
   },
   {
    "duration": 40,
    "start_time": "2025-01-31T04:31:37.277Z"
   },
   {
    "duration": 60,
    "start_time": "2025-01-31T04:31:37.319Z"
   },
   {
    "duration": 37,
    "start_time": "2025-01-31T04:31:37.383Z"
   },
   {
    "duration": 23,
    "start_time": "2025-01-31T04:31:37.421Z"
   },
   {
    "duration": 39,
    "start_time": "2025-01-31T04:31:37.446Z"
   },
   {
    "duration": 56,
    "start_time": "2025-01-31T04:31:37.487Z"
   },
   {
    "duration": 38,
    "start_time": "2025-01-31T04:31:37.544Z"
   },
   {
    "duration": 10,
    "start_time": "2025-01-31T04:31:37.583Z"
   },
   {
    "duration": 2,
    "start_time": "2025-01-31T04:31:37.596Z"
   },
   {
    "duration": 2,
    "start_time": "2025-01-31T04:31:37.600Z"
   },
   {
    "duration": 3,
    "start_time": "2025-01-31T04:31:37.604Z"
   },
   {
    "duration": 2,
    "start_time": "2025-01-31T04:31:37.609Z"
   },
   {
    "duration": 30,
    "start_time": "2025-01-31T04:31:37.613Z"
   },
   {
    "duration": 5,
    "start_time": "2025-01-31T04:31:37.644Z"
   },
   {
    "duration": 3,
    "start_time": "2025-01-31T04:31:37.650Z"
   },
   {
    "duration": 3,
    "start_time": "2025-01-31T04:31:37.655Z"
   },
   {
    "duration": 165,
    "start_time": "2025-01-31T16:53:10.765Z"
   },
   {
    "duration": 298,
    "start_time": "2025-01-31T16:53:27.491Z"
   },
   {
    "duration": 123,
    "start_time": "2025-01-31T16:53:27.791Z"
   },
   {
    "duration": 121,
    "start_time": "2025-01-31T16:53:27.916Z"
   },
   {
    "duration": 102,
    "start_time": "2025-01-31T16:53:28.039Z"
   },
   {
    "duration": 121,
    "start_time": "2025-01-31T16:53:28.143Z"
   },
   {
    "duration": 5,
    "start_time": "2025-01-31T16:53:28.266Z"
   },
   {
    "duration": 3,
    "start_time": "2025-01-31T16:53:28.273Z"
   },
   {
    "duration": 8,
    "start_time": "2025-01-31T16:53:28.278Z"
   },
   {
    "duration": 4,
    "start_time": "2025-01-31T16:53:28.290Z"
   },
   {
    "duration": 47,
    "start_time": "2025-01-31T16:53:28.296Z"
   },
   {
    "duration": 16,
    "start_time": "2025-01-31T16:53:28.345Z"
   },
   {
    "duration": 24,
    "start_time": "2025-01-31T16:53:28.363Z"
   },
   {
    "duration": 58,
    "start_time": "2025-01-31T16:53:28.390Z"
   },
   {
    "duration": 46,
    "start_time": "2025-01-31T16:53:28.452Z"
   },
   {
    "duration": 52,
    "start_time": "2025-01-31T16:53:28.501Z"
   },
   {
    "duration": 7,
    "start_time": "2025-01-31T16:53:28.555Z"
   },
   {
    "duration": 41,
    "start_time": "2025-01-31T16:53:28.566Z"
   },
   {
    "duration": 66,
    "start_time": "2025-01-31T16:53:28.609Z"
   },
   {
    "duration": 39,
    "start_time": "2025-01-31T16:53:28.676Z"
   },
   {
    "duration": 10,
    "start_time": "2025-01-31T16:53:28.717Z"
   },
   {
    "duration": 11,
    "start_time": "2025-01-31T16:53:28.743Z"
   },
   {
    "duration": 4,
    "start_time": "2025-01-31T16:53:28.755Z"
   },
   {
    "duration": 3,
    "start_time": "2025-01-31T16:53:28.761Z"
   },
   {
    "duration": 3,
    "start_time": "2025-01-31T16:53:28.765Z"
   },
   {
    "duration": 2,
    "start_time": "2025-01-31T16:53:28.770Z"
   },
   {
    "duration": 3,
    "start_time": "2025-01-31T16:53:28.776Z"
   },
   {
    "duration": 3,
    "start_time": "2025-01-31T16:53:28.780Z"
   },
   {
    "duration": 3,
    "start_time": "2025-01-31T16:53:28.785Z"
   },
   {
    "duration": 3,
    "start_time": "2025-01-31T17:04:09.226Z"
   },
   {
    "duration": 112,
    "start_time": "2025-01-31T17:04:09.231Z"
   },
   {
    "duration": 105,
    "start_time": "2025-01-31T17:04:09.344Z"
   },
   {
    "duration": 128,
    "start_time": "2025-01-31T17:04:09.452Z"
   },
   {
    "duration": 98,
    "start_time": "2025-01-31T17:04:09.582Z"
   },
   {
    "duration": 5,
    "start_time": "2025-01-31T17:04:09.682Z"
   },
   {
    "duration": 3,
    "start_time": "2025-01-31T17:04:09.689Z"
   },
   {
    "duration": 7,
    "start_time": "2025-01-31T17:04:09.694Z"
   },
   {
    "duration": 3,
    "start_time": "2025-01-31T17:04:09.704Z"
   },
   {
    "duration": 41,
    "start_time": "2025-01-31T17:04:09.709Z"
   },
   {
    "duration": 11,
    "start_time": "2025-01-31T17:04:09.752Z"
   },
   {
    "duration": 17,
    "start_time": "2025-01-31T17:04:09.765Z"
   },
   {
    "duration": 59,
    "start_time": "2025-01-31T17:04:09.784Z"
   },
   {
    "duration": 45,
    "start_time": "2025-01-31T17:04:09.845Z"
   },
   {
    "duration": 51,
    "start_time": "2025-01-31T17:04:09.892Z"
   },
   {
    "duration": 8,
    "start_time": "2025-01-31T17:04:09.945Z"
   },
   {
    "duration": 56,
    "start_time": "2025-01-31T17:04:09.955Z"
   },
   {
    "duration": 60,
    "start_time": "2025-01-31T17:04:10.014Z"
   },
   {
    "duration": 38,
    "start_time": "2025-01-31T17:04:10.076Z"
   },
   {
    "duration": 9,
    "start_time": "2025-01-31T17:04:10.116Z"
   },
   {
    "duration": 23,
    "start_time": "2025-01-31T17:04:10.126Z"
   },
   {
    "duration": 6,
    "start_time": "2025-01-31T17:04:10.151Z"
   },
   {
    "duration": 0,
    "start_time": "2025-01-31T17:04:10.158Z"
   },
   {
    "duration": 0,
    "start_time": "2025-01-31T17:04:10.159Z"
   },
   {
    "duration": 0,
    "start_time": "2025-01-31T17:04:10.160Z"
   },
   {
    "duration": 0,
    "start_time": "2025-01-31T17:04:10.162Z"
   },
   {
    "duration": 0,
    "start_time": "2025-01-31T17:04:10.163Z"
   },
   {
    "duration": 0,
    "start_time": "2025-01-31T17:04:10.165Z"
   },
   {
    "duration": 4,
    "start_time": "2025-01-31T17:05:35.552Z"
   },
   {
    "duration": 4,
    "start_time": "2025-01-31T17:05:46.243Z"
   },
   {
    "duration": 109,
    "start_time": "2025-01-31T17:05:46.250Z"
   },
   {
    "duration": 110,
    "start_time": "2025-01-31T17:05:46.361Z"
   },
   {
    "duration": 98,
    "start_time": "2025-01-31T17:05:46.473Z"
   },
   {
    "duration": 99,
    "start_time": "2025-01-31T17:05:46.574Z"
   },
   {
    "duration": 4,
    "start_time": "2025-01-31T17:05:46.675Z"
   },
   {
    "duration": 4,
    "start_time": "2025-01-31T17:05:46.681Z"
   },
   {
    "duration": 6,
    "start_time": "2025-01-31T17:05:46.686Z"
   },
   {
    "duration": 3,
    "start_time": "2025-01-31T17:05:46.694Z"
   },
   {
    "duration": 45,
    "start_time": "2025-01-31T17:05:46.699Z"
   },
   {
    "duration": 13,
    "start_time": "2025-01-31T17:05:46.746Z"
   },
   {
    "duration": 17,
    "start_time": "2025-01-31T17:05:46.762Z"
   },
   {
    "duration": 61,
    "start_time": "2025-01-31T17:05:46.783Z"
   },
   {
    "duration": 45,
    "start_time": "2025-01-31T17:05:46.846Z"
   },
   {
    "duration": 50,
    "start_time": "2025-01-31T17:05:46.893Z"
   },
   {
    "duration": 6,
    "start_time": "2025-01-31T17:05:46.945Z"
   },
   {
    "duration": 39,
    "start_time": "2025-01-31T17:05:46.953Z"
   },
   {
    "duration": 63,
    "start_time": "2025-01-31T17:05:46.994Z"
   },
   {
    "duration": 38,
    "start_time": "2025-01-31T17:05:47.060Z"
   },
   {
    "duration": 10,
    "start_time": "2025-01-31T17:05:47.100Z"
   },
   {
    "duration": 9,
    "start_time": "2025-01-31T17:05:47.112Z"
   },
   {
    "duration": 4,
    "start_time": "2025-01-31T17:05:47.142Z"
   },
   {
    "duration": 0,
    "start_time": "2025-01-31T17:05:47.148Z"
   },
   {
    "duration": 0,
    "start_time": "2025-01-31T17:05:47.149Z"
   },
   {
    "duration": 0,
    "start_time": "2025-01-31T17:05:47.150Z"
   },
   {
    "duration": 0,
    "start_time": "2025-01-31T17:05:47.151Z"
   },
   {
    "duration": 0,
    "start_time": "2025-01-31T17:05:47.153Z"
   },
   {
    "duration": 0,
    "start_time": "2025-01-31T17:05:47.154Z"
   },
   {
    "duration": 3,
    "start_time": "2025-01-31T17:06:13.441Z"
   },
   {
    "duration": 3,
    "start_time": "2025-01-31T17:06:26.781Z"
   },
   {
    "duration": 14,
    "start_time": "2025-01-31T17:07:43.380Z"
   },
   {
    "duration": 13,
    "start_time": "2025-01-31T17:07:45.337Z"
   },
   {
    "duration": 14,
    "start_time": "2025-01-31T17:08:08.042Z"
   },
   {
    "duration": 11,
    "start_time": "2025-01-31T17:08:28.294Z"
   },
   {
    "duration": 12,
    "start_time": "2025-01-31T17:09:21.550Z"
   },
   {
    "duration": 13,
    "start_time": "2025-01-31T17:09:24.098Z"
   },
   {
    "duration": 2,
    "start_time": "2025-01-31T17:09:54.218Z"
   },
   {
    "duration": 99,
    "start_time": "2025-01-31T17:09:54.223Z"
   },
   {
    "duration": 102,
    "start_time": "2025-01-31T17:09:54.323Z"
   },
   {
    "duration": 99,
    "start_time": "2025-01-31T17:09:54.428Z"
   },
   {
    "duration": 95,
    "start_time": "2025-01-31T17:09:54.529Z"
   },
   {
    "duration": 4,
    "start_time": "2025-01-31T17:09:54.626Z"
   },
   {
    "duration": 3,
    "start_time": "2025-01-31T17:09:54.643Z"
   },
   {
    "duration": 7,
    "start_time": "2025-01-31T17:09:54.648Z"
   },
   {
    "duration": 4,
    "start_time": "2025-01-31T17:09:54.657Z"
   },
   {
    "duration": 17,
    "start_time": "2025-01-31T17:09:54.663Z"
   },
   {
    "duration": 10,
    "start_time": "2025-01-31T17:09:54.682Z"
   },
   {
    "duration": 16,
    "start_time": "2025-01-31T17:09:54.694Z"
   },
   {
    "duration": 39,
    "start_time": "2025-01-31T17:09:54.743Z"
   },
   {
    "duration": 44,
    "start_time": "2025-01-31T17:09:54.784Z"
   },
   {
    "duration": 41,
    "start_time": "2025-01-31T17:09:54.843Z"
   },
   {
    "duration": 7,
    "start_time": "2025-01-31T17:09:54.886Z"
   },
   {
    "duration": 60,
    "start_time": "2025-01-31T17:09:54.895Z"
   },
   {
    "duration": 38,
    "start_time": "2025-01-31T17:09:54.959Z"
   },
   {
    "duration": 46,
    "start_time": "2025-01-31T17:09:54.999Z"
   },
   {
    "duration": 10,
    "start_time": "2025-01-31T17:09:55.047Z"
   },
   {
    "duration": 10,
    "start_time": "2025-01-31T17:09:55.058Z"
   },
   {
    "duration": 3,
    "start_time": "2025-01-31T17:09:55.069Z"
   },
   {
    "duration": 12,
    "start_time": "2025-01-31T17:09:55.073Z"
   },
   {
    "duration": 9,
    "start_time": "2025-01-31T17:09:55.089Z"
   },
   {
    "duration": 47,
    "start_time": "2025-01-31T17:09:55.100Z"
   },
   {
    "duration": 10,
    "start_time": "2025-01-31T17:09:55.148Z"
   },
   {
    "duration": 13,
    "start_time": "2025-01-31T17:09:55.160Z"
   },
   {
    "duration": 14,
    "start_time": "2025-01-31T17:09:55.176Z"
   },
   {
    "duration": 344,
    "start_time": "2025-01-31T23:15:55.268Z"
   },
   {
    "duration": 143,
    "start_time": "2025-01-31T23:15:55.613Z"
   },
   {
    "duration": 120,
    "start_time": "2025-01-31T23:15:55.759Z"
   },
   {
    "duration": 115,
    "start_time": "2025-01-31T23:15:55.882Z"
   },
   {
    "duration": 108,
    "start_time": "2025-01-31T23:15:55.999Z"
   },
   {
    "duration": 4,
    "start_time": "2025-01-31T23:15:56.109Z"
   },
   {
    "duration": 4,
    "start_time": "2025-01-31T23:15:56.115Z"
   },
   {
    "duration": 6,
    "start_time": "2025-01-31T23:15:56.120Z"
   },
   {
    "duration": 25,
    "start_time": "2025-01-31T23:15:56.127Z"
   },
   {
    "duration": 24,
    "start_time": "2025-01-31T23:15:56.156Z"
   },
   {
    "duration": 11,
    "start_time": "2025-01-31T23:15:56.183Z"
   },
   {
    "duration": 17,
    "start_time": "2025-01-31T23:15:56.195Z"
   },
   {
    "duration": 76,
    "start_time": "2025-01-31T23:15:56.214Z"
   },
   {
    "duration": 74,
    "start_time": "2025-01-31T23:15:56.292Z"
   },
   {
    "duration": 41,
    "start_time": "2025-01-31T23:15:56.369Z"
   },
   {
    "duration": 6,
    "start_time": "2025-01-31T23:15:56.412Z"
   },
   {
    "duration": 48,
    "start_time": "2025-01-31T23:15:56.420Z"
   },
   {
    "duration": 42,
    "start_time": "2025-01-31T23:15:56.479Z"
   },
   {
    "duration": 50,
    "start_time": "2025-01-31T23:15:56.522Z"
   },
   {
    "duration": 10,
    "start_time": "2025-01-31T23:15:56.574Z"
   },
   {
    "duration": 15,
    "start_time": "2025-01-31T23:15:56.586Z"
   },
   {
    "duration": 3,
    "start_time": "2025-01-31T23:15:56.603Z"
   },
   {
    "duration": 39,
    "start_time": "2025-01-31T23:15:56.608Z"
   },
   {
    "duration": 25,
    "start_time": "2025-01-31T23:15:56.649Z"
   },
   {
    "duration": 12,
    "start_time": "2025-01-31T23:15:56.677Z"
   },
   {
    "duration": 10,
    "start_time": "2025-01-31T23:15:56.691Z"
   },
   {
    "duration": 11,
    "start_time": "2025-01-31T23:15:56.704Z"
   },
   {
    "duration": 29,
    "start_time": "2025-01-31T23:15:56.720Z"
   },
   {
    "duration": 3,
    "start_time": "2025-02-01T00:00:11.736Z"
   },
   {
    "duration": 92,
    "start_time": "2025-02-01T00:00:20.203Z"
   },
   {
    "duration": 96,
    "start_time": "2025-02-01T00:00:56.502Z"
   },
   {
    "duration": 2,
    "start_time": "2025-02-01T00:01:17.899Z"
   },
   {
    "duration": 96,
    "start_time": "2025-02-01T00:01:47.380Z"
   },
   {
    "duration": 97,
    "start_time": "2025-02-01T00:02:39.510Z"
   },
   {
    "duration": 97,
    "start_time": "2025-02-01T00:03:12.729Z"
   },
   {
    "duration": 180,
    "start_time": "2025-02-01T00:03:53.187Z"
   },
   {
    "duration": 95,
    "start_time": "2025-02-01T00:04:04.400Z"
   },
   {
    "duration": 96,
    "start_time": "2025-02-01T00:04:18.393Z"
   },
   {
    "duration": 8,
    "start_time": "2025-02-01T00:08:36.482Z"
   },
   {
    "duration": 22,
    "start_time": "2025-02-01T00:12:17.873Z"
   },
   {
    "duration": 17,
    "start_time": "2025-02-01T00:13:08.321Z"
   },
   {
    "duration": 22,
    "start_time": "2025-02-01T00:13:32.989Z"
   },
   {
    "duration": 2,
    "start_time": "2025-02-01T00:28:22.508Z"
   },
   {
    "duration": 104,
    "start_time": "2025-02-01T00:28:22.530Z"
   },
   {
    "duration": 8,
    "start_time": "2025-02-01T00:28:22.636Z"
   },
   {
    "duration": 22,
    "start_time": "2025-02-01T00:28:22.645Z"
   },
   {
    "duration": 113,
    "start_time": "2025-02-01T00:28:22.702Z"
   },
   {
    "duration": 4,
    "start_time": "2025-02-01T00:28:22.817Z"
   },
   {
    "duration": 4,
    "start_time": "2025-02-01T00:28:22.823Z"
   },
   {
    "duration": 14,
    "start_time": "2025-02-01T00:28:22.829Z"
   },
   {
    "duration": 3,
    "start_time": "2025-02-01T00:28:22.845Z"
   },
   {
    "duration": 23,
    "start_time": "2025-02-01T00:28:22.849Z"
   },
   {
    "duration": 14,
    "start_time": "2025-02-01T00:28:22.873Z"
   },
   {
    "duration": 18,
    "start_time": "2025-02-01T00:28:22.888Z"
   },
   {
    "duration": 80,
    "start_time": "2025-02-01T00:28:22.907Z"
   },
   {
    "duration": 52,
    "start_time": "2025-02-01T00:28:22.991Z"
   },
   {
    "duration": 40,
    "start_time": "2025-02-01T00:28:23.045Z"
   },
   {
    "duration": 7,
    "start_time": "2025-02-01T00:28:23.086Z"
   },
   {
    "duration": 55,
    "start_time": "2025-02-01T00:28:23.095Z"
   },
   {
    "duration": 39,
    "start_time": "2025-02-01T00:28:23.152Z"
   },
   {
    "duration": 55,
    "start_time": "2025-02-01T00:28:23.193Z"
   },
   {
    "duration": 11,
    "start_time": "2025-02-01T00:28:23.250Z"
   },
   {
    "duration": 9,
    "start_time": "2025-02-01T00:28:23.263Z"
   },
   {
    "duration": 3,
    "start_time": "2025-02-01T00:28:23.274Z"
   },
   {
    "duration": 15,
    "start_time": "2025-02-01T00:28:23.278Z"
   },
   {
    "duration": 12,
    "start_time": "2025-02-01T00:28:23.295Z"
   },
   {
    "duration": 43,
    "start_time": "2025-02-01T00:28:23.309Z"
   },
   {
    "duration": 11,
    "start_time": "2025-02-01T00:28:23.354Z"
   },
   {
    "duration": 12,
    "start_time": "2025-02-01T00:28:23.366Z"
   },
   {
    "duration": 10,
    "start_time": "2025-02-01T00:28:23.380Z"
   },
   {
    "duration": 91,
    "start_time": "2025-02-01T00:37:48.461Z"
   },
   {
    "duration": 71,
    "start_time": "2025-02-01T00:40:03.486Z"
   },
   {
    "duration": 76,
    "start_time": "2025-02-01T00:44:59.612Z"
   },
   {
    "duration": 5,
    "start_time": "2025-02-01T00:56:40.293Z"
   },
   {
    "duration": 4,
    "start_time": "2025-02-01T00:58:20.801Z"
   },
   {
    "duration": 4,
    "start_time": "2025-02-01T01:00:17.976Z"
   },
   {
    "duration": 4,
    "start_time": "2025-02-01T01:27:03.281Z"
   },
   {
    "duration": 14,
    "start_time": "2025-02-01T01:28:16.063Z"
   },
   {
    "duration": 3,
    "start_time": "2025-02-01T01:30:30.860Z"
   },
   {
    "duration": 2,
    "start_time": "2025-02-01T01:33:30.978Z"
   },
   {
    "duration": 107,
    "start_time": "2025-02-01T01:33:30.984Z"
   },
   {
    "duration": 11,
    "start_time": "2025-02-01T01:33:31.093Z"
   },
   {
    "duration": 106,
    "start_time": "2025-02-01T01:33:31.105Z"
   },
   {
    "duration": 107,
    "start_time": "2025-02-01T01:33:31.214Z"
   },
   {
    "duration": 5,
    "start_time": "2025-02-01T01:33:31.322Z"
   },
   {
    "duration": 14,
    "start_time": "2025-02-01T01:33:31.329Z"
   },
   {
    "duration": 14,
    "start_time": "2025-02-01T01:33:31.347Z"
   },
   {
    "duration": 3,
    "start_time": "2025-02-01T01:33:31.363Z"
   },
   {
    "duration": 19,
    "start_time": "2025-02-01T01:33:31.368Z"
   },
   {
    "duration": 13,
    "start_time": "2025-02-01T01:33:31.391Z"
   },
   {
    "duration": 48,
    "start_time": "2025-02-01T01:33:31.406Z"
   },
   {
    "duration": 57,
    "start_time": "2025-02-01T01:33:31.456Z"
   },
   {
    "duration": 68,
    "start_time": "2025-02-01T01:33:31.515Z"
   },
   {
    "duration": 46,
    "start_time": "2025-02-01T01:33:31.585Z"
   },
   {
    "duration": 16,
    "start_time": "2025-02-01T01:33:31.633Z"
   },
   {
    "duration": 42,
    "start_time": "2025-02-01T01:33:31.651Z"
   },
   {
    "duration": 61,
    "start_time": "2025-02-01T01:33:31.695Z"
   },
   {
    "duration": 47,
    "start_time": "2025-02-01T01:33:31.758Z"
   },
   {
    "duration": 12,
    "start_time": "2025-02-01T01:33:31.808Z"
   },
   {
    "duration": 29,
    "start_time": "2025-02-01T01:33:31.821Z"
   },
   {
    "duration": 5,
    "start_time": "2025-02-01T01:33:31.852Z"
   },
   {
    "duration": 14,
    "start_time": "2025-02-01T01:33:31.858Z"
   },
   {
    "duration": 12,
    "start_time": "2025-02-01T01:33:31.874Z"
   },
   {
    "duration": 12,
    "start_time": "2025-02-01T01:33:31.888Z"
   },
   {
    "duration": 41,
    "start_time": "2025-02-01T01:33:31.902Z"
   },
   {
    "duration": 15,
    "start_time": "2025-02-01T01:33:31.945Z"
   },
   {
    "duration": 12,
    "start_time": "2025-02-01T01:33:31.961Z"
   },
   {
    "duration": 312,
    "start_time": "2025-02-01T06:06:30.275Z"
   },
   {
    "duration": 120,
    "start_time": "2025-02-01T06:06:31.644Z"
   },
   {
    "duration": 4,
    "start_time": "2025-02-01T06:06:38.812Z"
   },
   {
    "duration": 182,
    "start_time": "2025-02-01T06:07:05.618Z"
   },
   {
    "duration": 96,
    "start_time": "2025-02-01T06:07:10.215Z"
   },
   {
    "duration": 4,
    "start_time": "2025-02-01T06:07:11.785Z"
   },
   {
    "duration": 4,
    "start_time": "2025-02-01T06:07:14.168Z"
   },
   {
    "duration": 8,
    "start_time": "2025-02-01T06:07:16.228Z"
   },
   {
    "duration": 3,
    "start_time": "2025-02-01T06:07:18.424Z"
   },
   {
    "duration": 14,
    "start_time": "2025-02-01T06:07:27.981Z"
   },
   {
    "duration": 3,
    "start_time": "2025-02-01T06:09:06.415Z"
   },
   {
    "duration": 14,
    "start_time": "2025-02-01T06:09:07.981Z"
   },
   {
    "duration": 155,
    "start_time": "2025-02-01T17:49:28.904Z"
   },
   {
    "duration": 4,
    "start_time": "2025-02-01T18:06:17.513Z"
   },
   {
    "duration": 17,
    "start_time": "2025-02-01T18:10:26.540Z"
   },
   {
    "duration": 301,
    "start_time": "2025-02-01T18:11:07.990Z"
   },
   {
    "duration": 118,
    "start_time": "2025-02-01T18:11:08.293Z"
   },
   {
    "duration": 8,
    "start_time": "2025-02-01T18:11:08.413Z"
   },
   {
    "duration": 85,
    "start_time": "2025-02-01T18:11:08.424Z"
   },
   {
    "duration": 92,
    "start_time": "2025-02-01T18:11:08.510Z"
   },
   {
    "duration": 4,
    "start_time": "2025-02-01T18:11:08.609Z"
   },
   {
    "duration": 5,
    "start_time": "2025-02-01T18:11:08.615Z"
   },
   {
    "duration": 7,
    "start_time": "2025-02-01T18:11:08.622Z"
   },
   {
    "duration": 4,
    "start_time": "2025-02-01T18:11:08.630Z"
   },
   {
    "duration": 14,
    "start_time": "2025-02-01T18:11:08.637Z"
   },
   {
    "duration": 13,
    "start_time": "2025-02-01T18:11:08.653Z"
   },
   {
    "duration": 48,
    "start_time": "2025-02-01T18:11:08.667Z"
   },
   {
    "duration": 42,
    "start_time": "2025-02-01T18:11:08.717Z"
   },
   {
    "duration": 62,
    "start_time": "2025-02-01T18:11:08.761Z"
   },
   {
    "duration": 39,
    "start_time": "2025-02-01T18:11:08.825Z"
   },
   {
    "duration": 6,
    "start_time": "2025-02-01T18:11:08.866Z"
   },
   {
    "duration": 2,
    "start_time": "2025-02-01T18:11:08.874Z"
   },
   {
    "duration": 33,
    "start_time": "2025-02-01T18:11:08.878Z"
   },
   {
    "duration": 40,
    "start_time": "2025-02-01T18:11:08.912Z"
   },
   {
    "duration": 9,
    "start_time": "2025-02-01T18:11:08.954Z"
   },
   {
    "duration": 11,
    "start_time": "2025-02-01T18:11:08.965Z"
   },
   {
    "duration": 3,
    "start_time": "2025-02-01T18:11:08.977Z"
   },
   {
    "duration": 37,
    "start_time": "2025-02-01T18:11:08.981Z"
   },
   {
    "duration": 10,
    "start_time": "2025-02-01T18:11:09.020Z"
   },
   {
    "duration": 11,
    "start_time": "2025-02-01T18:11:09.032Z"
   },
   {
    "duration": 10,
    "start_time": "2025-02-01T18:11:09.044Z"
   },
   {
    "duration": 12,
    "start_time": "2025-02-01T18:11:09.056Z"
   },
   {
    "duration": 37,
    "start_time": "2025-02-01T18:11:09.072Z"
   },
   {
    "duration": 8,
    "start_time": "2025-02-01T18:13:52.026Z"
   },
   {
    "duration": 285,
    "start_time": "2025-02-02T18:06:17.048Z"
   },
   {
    "duration": 121,
    "start_time": "2025-02-02T18:06:17.335Z"
   },
   {
    "duration": 15,
    "start_time": "2025-02-02T18:06:17.459Z"
   },
   {
    "duration": 74,
    "start_time": "2025-02-02T18:06:17.476Z"
   },
   {
    "duration": 102,
    "start_time": "2025-02-02T18:06:17.552Z"
   },
   {
    "duration": 4,
    "start_time": "2025-02-02T18:06:17.656Z"
   },
   {
    "duration": 4,
    "start_time": "2025-02-02T18:06:17.670Z"
   },
   {
    "duration": 8,
    "start_time": "2025-02-02T18:06:17.676Z"
   },
   {
    "duration": 3,
    "start_time": "2025-02-02T18:06:17.685Z"
   },
   {
    "duration": 16,
    "start_time": "2025-02-02T18:06:17.690Z"
   },
   {
    "duration": 12,
    "start_time": "2025-02-02T18:06:17.707Z"
   },
   {
    "duration": 16,
    "start_time": "2025-02-02T18:06:17.721Z"
   },
   {
    "duration": 72,
    "start_time": "2025-02-02T18:06:17.740Z"
   },
   {
    "duration": 58,
    "start_time": "2025-02-02T18:06:17.816Z"
   },
   {
    "duration": 37,
    "start_time": "2025-02-02T18:06:17.877Z"
   },
   {
    "duration": 7,
    "start_time": "2025-02-02T18:06:17.916Z"
   },
   {
    "duration": 3,
    "start_time": "2025-02-02T18:06:17.925Z"
   },
   {
    "duration": 8,
    "start_time": "2025-02-02T18:06:17.929Z"
   },
   {
    "duration": 35,
    "start_time": "2025-02-02T18:06:17.939Z"
   },
   {
    "duration": 9,
    "start_time": "2025-02-02T18:06:17.976Z"
   },
   {
    "duration": 9,
    "start_time": "2025-02-02T18:06:17.987Z"
   },
   {
    "duration": 3,
    "start_time": "2025-02-02T18:06:17.997Z"
   },
   {
    "duration": 13,
    "start_time": "2025-02-02T18:06:18.002Z"
   },
   {
    "duration": 12,
    "start_time": "2025-02-02T18:06:18.017Z"
   },
   {
    "duration": 40,
    "start_time": "2025-02-02T18:06:18.031Z"
   },
   {
    "duration": 11,
    "start_time": "2025-02-02T18:06:18.072Z"
   },
   {
    "duration": 12,
    "start_time": "2025-02-02T18:06:18.085Z"
   },
   {
    "duration": 10,
    "start_time": "2025-02-02T18:06:18.099Z"
   },
   {
    "duration": 155,
    "start_time": "2025-02-02T20:05:40.354Z"
   },
   {
    "duration": 11,
    "start_time": "2025-02-02T20:05:55.170Z"
   },
   {
    "duration": 11,
    "start_time": "2025-02-02T20:05:58.949Z"
   },
   {
    "duration": 327,
    "start_time": "2025-02-02T20:06:17.882Z"
   },
   {
    "duration": 116,
    "start_time": "2025-02-02T20:06:18.211Z"
   },
   {
    "duration": 8,
    "start_time": "2025-02-02T20:06:18.329Z"
   },
   {
    "duration": 76,
    "start_time": "2025-02-02T20:06:18.338Z"
   },
   {
    "duration": 97,
    "start_time": "2025-02-02T20:06:18.417Z"
   },
   {
    "duration": 5,
    "start_time": "2025-02-02T20:06:18.516Z"
   },
   {
    "duration": 4,
    "start_time": "2025-02-02T20:06:18.522Z"
   },
   {
    "duration": 7,
    "start_time": "2025-02-02T20:06:18.528Z"
   },
   {
    "duration": 4,
    "start_time": "2025-02-02T20:06:18.537Z"
   },
   {
    "duration": 38,
    "start_time": "2025-02-02T20:06:18.542Z"
   },
   {
    "duration": 11,
    "start_time": "2025-02-02T20:06:18.582Z"
   },
   {
    "duration": 16,
    "start_time": "2025-02-02T20:06:18.594Z"
   },
   {
    "duration": 61,
    "start_time": "2025-02-02T20:06:18.611Z"
   },
   {
    "duration": 49,
    "start_time": "2025-02-02T20:06:18.677Z"
   },
   {
    "duration": 55,
    "start_time": "2025-02-02T20:06:18.727Z"
   },
   {
    "duration": 36,
    "start_time": "2025-02-02T20:06:18.783Z"
   },
   {
    "duration": 0,
    "start_time": "2025-02-02T20:06:18.821Z"
   },
   {
    "duration": 0,
    "start_time": "2025-02-02T20:06:18.823Z"
   },
   {
    "duration": 0,
    "start_time": "2025-02-02T20:06:18.824Z"
   },
   {
    "duration": 0,
    "start_time": "2025-02-02T20:06:18.825Z"
   },
   {
    "duration": 0,
    "start_time": "2025-02-02T20:06:18.826Z"
   },
   {
    "duration": 0,
    "start_time": "2025-02-02T20:06:18.827Z"
   },
   {
    "duration": 0,
    "start_time": "2025-02-02T20:06:18.828Z"
   },
   {
    "duration": 0,
    "start_time": "2025-02-02T20:06:18.829Z"
   },
   {
    "duration": 0,
    "start_time": "2025-02-02T20:06:18.830Z"
   },
   {
    "duration": 0,
    "start_time": "2025-02-02T20:06:18.831Z"
   },
   {
    "duration": 0,
    "start_time": "2025-02-02T20:06:18.833Z"
   },
   {
    "duration": 0,
    "start_time": "2025-02-02T20:06:18.834Z"
   },
   {
    "duration": 15,
    "start_time": "2025-02-02T20:06:35.325Z"
   },
   {
    "duration": 7,
    "start_time": "2025-02-02T20:06:44.173Z"
   },
   {
    "duration": 14,
    "start_time": "2025-02-02T20:10:45.249Z"
   },
   {
    "duration": 6,
    "start_time": "2025-02-02T20:11:51.054Z"
   },
   {
    "duration": 5,
    "start_time": "2025-02-02T20:15:35.260Z"
   },
   {
    "duration": 6,
    "start_time": "2025-02-02T20:28:42.365Z"
   },
   {
    "duration": 4,
    "start_time": "2025-02-02T20:29:35.415Z"
   },
   {
    "duration": 11,
    "start_time": "2025-02-02T20:30:01.861Z"
   },
   {
    "duration": 12,
    "start_time": "2025-02-02T20:30:13.751Z"
   },
   {
    "duration": 6,
    "start_time": "2025-02-02T20:30:34.686Z"
   },
   {
    "duration": 5,
    "start_time": "2025-02-02T20:34:09.430Z"
   },
   {
    "duration": 2,
    "start_time": "2025-02-02T20:45:21.626Z"
   },
   {
    "duration": 104,
    "start_time": "2025-02-02T20:45:21.632Z"
   },
   {
    "duration": 8,
    "start_time": "2025-02-02T20:45:21.738Z"
   },
   {
    "duration": 85,
    "start_time": "2025-02-02T20:45:21.748Z"
   },
   {
    "duration": 100,
    "start_time": "2025-02-02T20:45:21.835Z"
   },
   {
    "duration": 4,
    "start_time": "2025-02-02T20:45:21.938Z"
   },
   {
    "duration": 5,
    "start_time": "2025-02-02T20:45:21.944Z"
   },
   {
    "duration": 22,
    "start_time": "2025-02-02T20:45:21.950Z"
   },
   {
    "duration": 3,
    "start_time": "2025-02-02T20:45:21.973Z"
   },
   {
    "duration": 17,
    "start_time": "2025-02-02T20:45:21.977Z"
   },
   {
    "duration": 12,
    "start_time": "2025-02-02T20:45:21.995Z"
   },
   {
    "duration": 17,
    "start_time": "2025-02-02T20:45:22.008Z"
   },
   {
    "duration": 66,
    "start_time": "2025-02-02T20:45:22.027Z"
   },
   {
    "duration": 44,
    "start_time": "2025-02-02T20:45:22.095Z"
   },
   {
    "duration": 52,
    "start_time": "2025-02-02T20:45:22.144Z"
   },
   {
    "duration": 5,
    "start_time": "2025-02-02T20:45:22.198Z"
   },
   {
    "duration": 3,
    "start_time": "2025-02-02T20:45:22.205Z"
   },
   {
    "duration": 9,
    "start_time": "2025-02-02T20:45:22.209Z"
   },
   {
    "duration": 7,
    "start_time": "2025-02-02T20:45:22.220Z"
   },
   {
    "duration": 9,
    "start_time": "2025-02-02T20:45:22.229Z"
   },
   {
    "duration": 9,
    "start_time": "2025-02-02T20:45:22.270Z"
   },
   {
    "duration": 3,
    "start_time": "2025-02-02T20:45:22.280Z"
   },
   {
    "duration": 13,
    "start_time": "2025-02-02T20:45:22.285Z"
   },
   {
    "duration": 11,
    "start_time": "2025-02-02T20:45:22.300Z"
   },
   {
    "duration": 12,
    "start_time": "2025-02-02T20:45:22.312Z"
   },
   {
    "duration": 11,
    "start_time": "2025-02-02T20:45:22.325Z"
   },
   {
    "duration": 42,
    "start_time": "2025-02-02T20:45:22.337Z"
   },
   {
    "duration": 10,
    "start_time": "2025-02-02T20:45:22.381Z"
   },
   {
    "duration": 5,
    "start_time": "2025-02-02T22:15:44.365Z"
   }
  ],
  "colab": {
   "collapsed_sections": [
    "E0vqbgi9ay0H",
    "VUC88oWjTJw2"
   ],
   "provenance": []
  },
  "kernelspec": {
   "display_name": "Python 3 (ipykernel)",
   "language": "python",
   "name": "python3"
  },
  "language_info": {
   "codemirror_mode": {
    "name": "ipython",
    "version": 3
   },
   "file_extension": ".py",
   "mimetype": "text/x-python",
   "name": "python",
   "nbconvert_exporter": "python",
   "pygments_lexer": "ipython3",
   "version": "3.9.19"
  },
  "toc": {
   "base_numbering": 1,
   "nav_menu": {},
   "number_sections": true,
   "sideBar": true,
   "skip_h1_title": true,
   "title_cell": "Table of Contents",
   "title_sidebar": "Contents",
   "toc_cell": false,
   "toc_position": {},
   "toc_section_display": true,
   "toc_window_display": false
  }
 },
 "nbformat": 4,
 "nbformat_minor": 1
}
