{
 "cells": [
  {
   "cell_type": "markdown",
   "metadata": {},
   "source": [
    "<b>¡Hola Hiram!</b>\n",
    "\n",
    "Mi nombre es Alejandro Abia y tengo el gusto de revisar tu proyecto.\n",
    "\n",
    "A continuación, encontrarás mis comentarios en celdas pintadas de tres colores (verde, amarillo y rojo), a manera de semáforo. Por favor, <b>no las borres ni muevas de posición</b> mientras dure el proceso de revisión.\n",
    "\n",
    "<div class=\"alert alert-block alert-success\">\n",
    "<b>Éxito</b> <a class=\"tocSkip\"></a>\n",
    "En celdas verdes encontrarás comentarios en relación a tus aciertos y fortalezas.\n",
    "</div>\n",
    "<div class=\"alert alert-block alert-warning\">\n",
    "<b>Atención</b> <a class=\"tocSkip\"></a>\n",
    "Utilizaré el color amarillo para llamar tu atención, expresar algo importante o compartirte alguna idea de valor.\n",
    "</div>\n",
    "<div class=\"alert alert-block alert-danger\">\n",
    "<b>A resolver</b> <a class=\"tocSkip\"></a>\n",
    "En rojo emitiré aquellos puntos que podrían impedir que el proyecto se ejecute correctamente. No son errores, sino oportunidades importantes de mejora.\n",
    "</div>\n",
    "<div class=\"alert alert-block alert-info\">\n",
    "<b>Comentario estudiante</b> <a class=\"tocSkip\"></a>\n",
    "Si durante la revisión deseas dejarme algún comentario, por favor utiliza celdas azules como esta.\n",
    "</div>\n",
    "Tu proyecto será considerado aprobado cuando las observaciones en rojo hayan sido atendidas.  \n",
    "¡Empecemos!\n"
   ]
  },
  {
   "cell_type": "markdown",
   "metadata": {},
   "source": [
    "### Sprint 11 - Proyecto\n",
    "Trabajas en una empresa emergente que vende productos alimenticios. Debes investigar el comportamiento del usuario para la aplicación de la empresa.\n",
    "\n",
    "# Primero, estudia el embudo de ventas. Descubre cómo los usuarios llegan a la etapa de compra. ¿Cuántos usuarios realmente llegan a esta etapa? ¿Cuántos se atascan en etapas anteriores? ¿Qué etapas en particular?\n",
    "\n",
    "# Luego, observa los resultados de un test A/A/B (sigue leyendo para obtener más información sobre los test A/A/B). Al equipo de diseño le gustaría cambiar las fuentes de toda la aplicación, pero la gerencia teme que los usuarios piensen que el nuevo diseño es intimidante. Por ello, deciden tomar una decisión basada en los resultados de un test A/A/B.\n",
    "\n",
    "# Los usuarios se dividen en tres grupos: dos grupos de control obtienen las fuentes antiguas y un grupo de prueba obtiene las nuevas. Descubre qué conjunto de fuentes produce mejores resultados.\n",
    "\n",
    "# Crear dos grupos A tiene ciertas ventajas. Podemos establecer el principio de que solo confiaremos en la exactitud de nuestras pruebas cuando los dos grupos de control sean similares. Si hay diferencias significativas entre los grupos A, esto puede ayudarnos a descubrir factores que pueden estar distorsionando los resultados. La comparación de grupos de control también nos dice cuánto tiempo y datos necesitaremos cuando realicemos más tests.\n",
    "\n",
    "# Utilizarás el mismo dataset para el análisis general y para el análisis A/A/B. En proyectos reales, los experimentos se llevan a cabo constantemente. El equipo de análisis estudia la calidad de una aplicación utilizando datos generales, sin prestar atención a si los usuarios participan en experimentos."
   ]
  },
  {
   "cell_type": "markdown",
   "metadata": {},
   "source": [
    "## Descripción de los datos\n",
    "Cada entrada de registro es una acción de usuario o un evento.\n",
    "\n",
    "$ EventName:$ nombre del evento.\n",
    "\n",
    "$ DeviceIDHash:$ identificador de usuario unívoco.\n",
    "\n",
    "$ EventTimestamp: $ hora del evento.\n",
    "\n",
    "$ ExpId:$ número de experimento. 246 y 247 son los grupos de control, y 248 es el grupo de prueba."
   ]
  },
  {
   "cell_type": "markdown",
   "metadata": {},
   "source": [
    "## Paso 1. Abrir el archivo de datos y leer la información general"
   ]
  },
  {
   "cell_type": "code",
   "execution_count": 1,
   "metadata": {},
   "outputs": [],
   "source": [
    "import pandas as pd\n",
    "import matplotlib.pyplot as plt\n",
    "from pandas.plotting import register_matplotlib_converters\n",
    "pd.set_option('display.max_columns', None)\n",
    "import math"
   ]
  },
  {
   "cell_type": "code",
   "execution_count": 2,
   "metadata": {},
   "outputs": [],
   "source": [
    "data=pd.read_csv('/datasets/logs_exp_us.csv', sep='\\t')"
   ]
  },
  {
   "cell_type": "code",
   "execution_count": 3,
   "metadata": {},
   "outputs": [
    {
     "data": {
      "text/html": [
       "<div>\n",
       "<style scoped>\n",
       "    .dataframe tbody tr th:only-of-type {\n",
       "        vertical-align: middle;\n",
       "    }\n",
       "\n",
       "    .dataframe tbody tr th {\n",
       "        vertical-align: top;\n",
       "    }\n",
       "\n",
       "    .dataframe thead th {\n",
       "        text-align: right;\n",
       "    }\n",
       "</style>\n",
       "<table border=\"1\" class=\"dataframe\">\n",
       "  <thead>\n",
       "    <tr style=\"text-align: right;\">\n",
       "      <th></th>\n",
       "      <th>EventName</th>\n",
       "      <th>DeviceIDHash</th>\n",
       "      <th>EventTimestamp</th>\n",
       "      <th>ExpId</th>\n",
       "    </tr>\n",
       "  </thead>\n",
       "  <tbody>\n",
       "    <tr>\n",
       "      <th>0</th>\n",
       "      <td>MainScreenAppear</td>\n",
       "      <td>4575588528974610257</td>\n",
       "      <td>1564029816</td>\n",
       "      <td>246</td>\n",
       "    </tr>\n",
       "    <tr>\n",
       "      <th>1</th>\n",
       "      <td>MainScreenAppear</td>\n",
       "      <td>7416695313311560658</td>\n",
       "      <td>1564053102</td>\n",
       "      <td>246</td>\n",
       "    </tr>\n",
       "    <tr>\n",
       "      <th>2</th>\n",
       "      <td>PaymentScreenSuccessful</td>\n",
       "      <td>3518123091307005509</td>\n",
       "      <td>1564054127</td>\n",
       "      <td>248</td>\n",
       "    </tr>\n",
       "    <tr>\n",
       "      <th>3</th>\n",
       "      <td>CartScreenAppear</td>\n",
       "      <td>3518123091307005509</td>\n",
       "      <td>1564054127</td>\n",
       "      <td>248</td>\n",
       "    </tr>\n",
       "    <tr>\n",
       "      <th>4</th>\n",
       "      <td>PaymentScreenSuccessful</td>\n",
       "      <td>6217807653094995999</td>\n",
       "      <td>1564055322</td>\n",
       "      <td>248</td>\n",
       "    </tr>\n",
       "    <tr>\n",
       "      <th>...</th>\n",
       "      <td>...</td>\n",
       "      <td>...</td>\n",
       "      <td>...</td>\n",
       "      <td>...</td>\n",
       "    </tr>\n",
       "    <tr>\n",
       "      <th>244121</th>\n",
       "      <td>MainScreenAppear</td>\n",
       "      <td>4599628364049201812</td>\n",
       "      <td>1565212345</td>\n",
       "      <td>247</td>\n",
       "    </tr>\n",
       "    <tr>\n",
       "      <th>244122</th>\n",
       "      <td>MainScreenAppear</td>\n",
       "      <td>5849806612437486590</td>\n",
       "      <td>1565212439</td>\n",
       "      <td>246</td>\n",
       "    </tr>\n",
       "    <tr>\n",
       "      <th>244123</th>\n",
       "      <td>MainScreenAppear</td>\n",
       "      <td>5746969938801999050</td>\n",
       "      <td>1565212483</td>\n",
       "      <td>246</td>\n",
       "    </tr>\n",
       "    <tr>\n",
       "      <th>244124</th>\n",
       "      <td>MainScreenAppear</td>\n",
       "      <td>5746969938801999050</td>\n",
       "      <td>1565212498</td>\n",
       "      <td>246</td>\n",
       "    </tr>\n",
       "    <tr>\n",
       "      <th>244125</th>\n",
       "      <td>OffersScreenAppear</td>\n",
       "      <td>5746969938801999050</td>\n",
       "      <td>1565212517</td>\n",
       "      <td>246</td>\n",
       "    </tr>\n",
       "  </tbody>\n",
       "</table>\n",
       "<p>244126 rows × 4 columns</p>\n",
       "</div>"
      ],
      "text/plain": [
       "                      EventName         DeviceIDHash  EventTimestamp  ExpId\n",
       "0              MainScreenAppear  4575588528974610257      1564029816    246\n",
       "1              MainScreenAppear  7416695313311560658      1564053102    246\n",
       "2       PaymentScreenSuccessful  3518123091307005509      1564054127    248\n",
       "3              CartScreenAppear  3518123091307005509      1564054127    248\n",
       "4       PaymentScreenSuccessful  6217807653094995999      1564055322    248\n",
       "...                         ...                  ...             ...    ...\n",
       "244121         MainScreenAppear  4599628364049201812      1565212345    247\n",
       "244122         MainScreenAppear  5849806612437486590      1565212439    246\n",
       "244123         MainScreenAppear  5746969938801999050      1565212483    246\n",
       "244124         MainScreenAppear  5746969938801999050      1565212498    246\n",
       "244125       OffersScreenAppear  5746969938801999050      1565212517    246\n",
       "\n",
       "[244126 rows x 4 columns]"
      ]
     },
     "execution_count": 3,
     "metadata": {},
     "output_type": "execute_result"
    }
   ],
   "source": [
    "data"
   ]
  },
  {
   "cell_type": "markdown",
   "metadata": {},
   "source": [
    "<div class=\"alert alert-block alert-success\">\n",
    "<b>Celda [3]</b> <a class=\"tocSkip\"></a><br>\n",
    "Has cargado y visualizado los datos correctamente. Esto es fundamental para familiarizarte con el conjunto de datos y entender su estructura y contenido, lo cual es clave para cualquier análisis posterior.\n",
    "</div>\n"
   ]
  },
  {
   "cell_type": "code",
   "execution_count": 4,
   "metadata": {},
   "outputs": [
    {
     "name": "stdout",
     "output_type": "stream",
     "text": [
      "<class 'pandas.core.frame.DataFrame'>\n",
      "RangeIndex: 244126 entries, 0 to 244125\n",
      "Data columns (total 4 columns):\n",
      " #   Column          Non-Null Count   Dtype \n",
      "---  ------          --------------   ----- \n",
      " 0   EventName       244126 non-null  object\n",
      " 1   DeviceIDHash    244126 non-null  int64 \n",
      " 2   EventTimestamp  244126 non-null  int64 \n",
      " 3   ExpId           244126 non-null  int64 \n",
      "dtypes: int64(3), object(1)\n",
      "memory usage: 7.5+ MB\n"
     ]
    }
   ],
   "source": [
    "data.info()"
   ]
  },
  {
   "cell_type": "markdown",
   "metadata": {},
   "source": [
    "<div class=\"alert alert-block alert-warning\">\n",
    "<b>Celda [4]</b> <a class=\"tocSkip\"></a><br>\n",
    "Has utilizado <code>data.info()</code> para revisar el tipo de datos y la presencia de valores nulos. Para asegurar la calidad de los datos, considera verificar la existencia de duplicados, ya que estos pueden sesgar los resultados del análisis.\n",
    "<pre><code>if data.duplicated().sum() > 0:\n",
    "    print('Hay duplicados en los datos')\n",
    "else:\n",
    "    print('No hay duplicados en los datos')</code></pre>\n",
    "</div>\n"
   ]
  },
  {
   "cell_type": "code",
   "execution_count": 5,
   "metadata": {},
   "outputs": [
    {
     "data": {
      "text/html": [
       "<div>\n",
       "<style scoped>\n",
       "    .dataframe tbody tr th:only-of-type {\n",
       "        vertical-align: middle;\n",
       "    }\n",
       "\n",
       "    .dataframe tbody tr th {\n",
       "        vertical-align: top;\n",
       "    }\n",
       "\n",
       "    .dataframe thead th {\n",
       "        text-align: right;\n",
       "    }\n",
       "</style>\n",
       "<table border=\"1\" class=\"dataframe\">\n",
       "  <thead>\n",
       "    <tr style=\"text-align: right;\">\n",
       "      <th></th>\n",
       "      <th>DeviceIDHash</th>\n",
       "      <th>EventTimestamp</th>\n",
       "      <th>ExpId</th>\n",
       "    </tr>\n",
       "  </thead>\n",
       "  <tbody>\n",
       "    <tr>\n",
       "      <th>count</th>\n",
       "      <td>2.441260e+05</td>\n",
       "      <td>2.441260e+05</td>\n",
       "      <td>244126.000000</td>\n",
       "    </tr>\n",
       "    <tr>\n",
       "      <th>mean</th>\n",
       "      <td>4.627568e+18</td>\n",
       "      <td>1.564914e+09</td>\n",
       "      <td>247.022296</td>\n",
       "    </tr>\n",
       "    <tr>\n",
       "      <th>std</th>\n",
       "      <td>2.642425e+18</td>\n",
       "      <td>1.771343e+05</td>\n",
       "      <td>0.824434</td>\n",
       "    </tr>\n",
       "    <tr>\n",
       "      <th>min</th>\n",
       "      <td>6.888747e+15</td>\n",
       "      <td>1.564030e+09</td>\n",
       "      <td>246.000000</td>\n",
       "    </tr>\n",
       "    <tr>\n",
       "      <th>25%</th>\n",
       "      <td>2.372212e+18</td>\n",
       "      <td>1.564757e+09</td>\n",
       "      <td>246.000000</td>\n",
       "    </tr>\n",
       "    <tr>\n",
       "      <th>50%</th>\n",
       "      <td>4.623192e+18</td>\n",
       "      <td>1.564919e+09</td>\n",
       "      <td>247.000000</td>\n",
       "    </tr>\n",
       "    <tr>\n",
       "      <th>75%</th>\n",
       "      <td>6.932517e+18</td>\n",
       "      <td>1.565075e+09</td>\n",
       "      <td>248.000000</td>\n",
       "    </tr>\n",
       "    <tr>\n",
       "      <th>max</th>\n",
       "      <td>9.222603e+18</td>\n",
       "      <td>1.565213e+09</td>\n",
       "      <td>248.000000</td>\n",
       "    </tr>\n",
       "  </tbody>\n",
       "</table>\n",
       "</div>"
      ],
      "text/plain": [
       "       DeviceIDHash  EventTimestamp          ExpId\n",
       "count  2.441260e+05    2.441260e+05  244126.000000\n",
       "mean   4.627568e+18    1.564914e+09     247.022296\n",
       "std    2.642425e+18    1.771343e+05       0.824434\n",
       "min    6.888747e+15    1.564030e+09     246.000000\n",
       "25%    2.372212e+18    1.564757e+09     246.000000\n",
       "50%    4.623192e+18    1.564919e+09     247.000000\n",
       "75%    6.932517e+18    1.565075e+09     248.000000\n",
       "max    9.222603e+18    1.565213e+09     248.000000"
      ]
     },
     "execution_count": 5,
     "metadata": {},
     "output_type": "execute_result"
    }
   ],
   "source": [
    "data.describe()"
   ]
  },
  {
   "cell_type": "markdown",
   "metadata": {},
   "source": [
    "## Paso 2. Preparar los datos para el análisis"
   ]
  },
  {
   "cell_type": "code",
   "execution_count": 6,
   "metadata": {},
   "outputs": [
    {
     "data": {
      "text/html": [
       "<div>\n",
       "<style scoped>\n",
       "    .dataframe tbody tr th:only-of-type {\n",
       "        vertical-align: middle;\n",
       "    }\n",
       "\n",
       "    .dataframe tbody tr th {\n",
       "        vertical-align: top;\n",
       "    }\n",
       "\n",
       "    .dataframe thead th {\n",
       "        text-align: right;\n",
       "    }\n",
       "</style>\n",
       "<table border=\"1\" class=\"dataframe\">\n",
       "  <thead>\n",
       "    <tr style=\"text-align: right;\">\n",
       "      <th></th>\n",
       "      <th>event</th>\n",
       "      <th>user</th>\n",
       "      <th>timestamp</th>\n",
       "      <th>exp_id</th>\n",
       "    </tr>\n",
       "  </thead>\n",
       "  <tbody>\n",
       "    <tr>\n",
       "      <th>0</th>\n",
       "      <td>MainScreenAppear</td>\n",
       "      <td>4575588528974610257</td>\n",
       "      <td>1564029816</td>\n",
       "      <td>246</td>\n",
       "    </tr>\n",
       "    <tr>\n",
       "      <th>1</th>\n",
       "      <td>MainScreenAppear</td>\n",
       "      <td>7416695313311560658</td>\n",
       "      <td>1564053102</td>\n",
       "      <td>246</td>\n",
       "    </tr>\n",
       "    <tr>\n",
       "      <th>2</th>\n",
       "      <td>PaymentScreenSuccessful</td>\n",
       "      <td>3518123091307005509</td>\n",
       "      <td>1564054127</td>\n",
       "      <td>248</td>\n",
       "    </tr>\n",
       "    <tr>\n",
       "      <th>3</th>\n",
       "      <td>CartScreenAppear</td>\n",
       "      <td>3518123091307005509</td>\n",
       "      <td>1564054127</td>\n",
       "      <td>248</td>\n",
       "    </tr>\n",
       "    <tr>\n",
       "      <th>4</th>\n",
       "      <td>PaymentScreenSuccessful</td>\n",
       "      <td>6217807653094995999</td>\n",
       "      <td>1564055322</td>\n",
       "      <td>248</td>\n",
       "    </tr>\n",
       "  </tbody>\n",
       "</table>\n",
       "</div>"
      ],
      "text/plain": [
       "                     event                 user   timestamp  exp_id\n",
       "0         MainScreenAppear  4575588528974610257  1564029816     246\n",
       "1         MainScreenAppear  7416695313311560658  1564053102     246\n",
       "2  PaymentScreenSuccessful  3518123091307005509  1564054127     248\n",
       "3         CartScreenAppear  3518123091307005509  1564054127     248\n",
       "4  PaymentScreenSuccessful  6217807653094995999  1564055322     248"
      ]
     },
     "execution_count": 6,
     "metadata": {},
     "output_type": "execute_result"
    }
   ],
   "source": [
    "data.rename(columns={\n",
    "    'EventName':'event',\n",
    "    'DeviceIDHash':'user',\n",
    "    'EventTimestamp':'timestamp',\n",
    "    'ExpId':'exp_id'\n",
    "}, inplace=True)\n",
    "data.head()"
   ]
  },
  {
   "cell_type": "code",
   "execution_count": 7,
   "metadata": {},
   "outputs": [
    {
     "data": {
      "text/html": [
       "<div>\n",
       "<style scoped>\n",
       "    .dataframe tbody tr th:only-of-type {\n",
       "        vertical-align: middle;\n",
       "    }\n",
       "\n",
       "    .dataframe tbody tr th {\n",
       "        vertical-align: top;\n",
       "    }\n",
       "\n",
       "    .dataframe thead th {\n",
       "        text-align: right;\n",
       "    }\n",
       "</style>\n",
       "<table border=\"1\" class=\"dataframe\">\n",
       "  <thead>\n",
       "    <tr style=\"text-align: right;\">\n",
       "      <th></th>\n",
       "      <th>event</th>\n",
       "      <th>user</th>\n",
       "      <th>timestamp</th>\n",
       "      <th>exp_id</th>\n",
       "      <th>date_time</th>\n",
       "      <th>date</th>\n",
       "    </tr>\n",
       "  </thead>\n",
       "  <tbody>\n",
       "    <tr>\n",
       "      <th>0</th>\n",
       "      <td>MainScreenAppear</td>\n",
       "      <td>4575588528974610257</td>\n",
       "      <td>1564029816</td>\n",
       "      <td>246</td>\n",
       "      <td>2019-07-25 04:43:36</td>\n",
       "      <td>2019-07-25</td>\n",
       "    </tr>\n",
       "    <tr>\n",
       "      <th>1</th>\n",
       "      <td>MainScreenAppear</td>\n",
       "      <td>7416695313311560658</td>\n",
       "      <td>1564053102</td>\n",
       "      <td>246</td>\n",
       "      <td>2019-07-25 11:11:42</td>\n",
       "      <td>2019-07-25</td>\n",
       "    </tr>\n",
       "    <tr>\n",
       "      <th>2</th>\n",
       "      <td>PaymentScreenSuccessful</td>\n",
       "      <td>3518123091307005509</td>\n",
       "      <td>1564054127</td>\n",
       "      <td>248</td>\n",
       "      <td>2019-07-25 11:28:47</td>\n",
       "      <td>2019-07-25</td>\n",
       "    </tr>\n",
       "    <tr>\n",
       "      <th>3</th>\n",
       "      <td>CartScreenAppear</td>\n",
       "      <td>3518123091307005509</td>\n",
       "      <td>1564054127</td>\n",
       "      <td>248</td>\n",
       "      <td>2019-07-25 11:28:47</td>\n",
       "      <td>2019-07-25</td>\n",
       "    </tr>\n",
       "    <tr>\n",
       "      <th>4</th>\n",
       "      <td>PaymentScreenSuccessful</td>\n",
       "      <td>6217807653094995999</td>\n",
       "      <td>1564055322</td>\n",
       "      <td>248</td>\n",
       "      <td>2019-07-25 11:48:42</td>\n",
       "      <td>2019-07-25</td>\n",
       "    </tr>\n",
       "  </tbody>\n",
       "</table>\n",
       "</div>"
      ],
      "text/plain": [
       "                     event                 user   timestamp  exp_id  \\\n",
       "0         MainScreenAppear  4575588528974610257  1564029816     246   \n",
       "1         MainScreenAppear  7416695313311560658  1564053102     246   \n",
       "2  PaymentScreenSuccessful  3518123091307005509  1564054127     248   \n",
       "3         CartScreenAppear  3518123091307005509  1564054127     248   \n",
       "4  PaymentScreenSuccessful  6217807653094995999  1564055322     248   \n",
       "\n",
       "            date_time       date  \n",
       "0 2019-07-25 04:43:36 2019-07-25  \n",
       "1 2019-07-25 11:11:42 2019-07-25  \n",
       "2 2019-07-25 11:28:47 2019-07-25  \n",
       "3 2019-07-25 11:28:47 2019-07-25  \n",
       "4 2019-07-25 11:48:42 2019-07-25  "
      ]
     },
     "execution_count": 7,
     "metadata": {},
     "output_type": "execute_result"
    }
   ],
   "source": [
    "data['date_time']=pd.to_datetime(data['timestamp'], unit='s')\n",
    "data['date']=data['date_time'].dt.floor('1D')\n",
    "data.head()"
   ]
  },
  {
   "cell_type": "markdown",
   "metadata": {},
   "source": [
    "<div class=\"alert alert-block alert-success\">\n",
    "<b>Celda [7]</b> <a class=\"tocSkip\"></a><br>\n",
    "Has convertido correctamente el timestamp a un formato de fecha más legible. Esta conversión es crucial para realizar un análisis temporal de los eventos, permitiéndote identificar patrones y tendencias en los datos.\n",
    "</div>\n"
   ]
  },
  {
   "cell_type": "markdown",
   "metadata": {},
   "source": [
    "## Paso 3. Estudiar y comprobar los datos"
   ]
  },
  {
   "cell_type": "code",
   "execution_count": 8,
   "metadata": {},
   "outputs": [],
   "source": [
    "#¿Cuántos eventos hay en los registros?\n",
    "events=len(data)"
   ]
  },
  {
   "cell_type": "code",
   "execution_count": 9,
   "metadata": {},
   "outputs": [],
   "source": [
    "#¿Cuántos usuarios hay en los registros?\n",
    "users=len(data['user'].unique())"
   ]
  },
  {
   "cell_type": "markdown",
   "metadata": {},
   "source": [
    "<div class=\"alert alert-block alert-warning\">\n",
    "<b>Celda [9]</b> <a class=\"tocSkip\"></a><br>\n",
    "Al calcular el número de usuarios únicos, es recomendable revisar si hay usuarios con un número inusualmente alto de eventos. Esto podría indicar comportamientos atípicos o errores en los datos que podrían afectar tus análisis.\n",
    "<pre><code>data['user'].value_counts().head()</code></pre>\n",
    "</div>\n"
   ]
  },
  {
   "cell_type": "code",
   "execution_count": 10,
   "metadata": {},
   "outputs": [],
   "source": [
    "#¿Cuál es el promedio de eventos por usuario?\n",
    "events_per_users=events/users"
   ]
  },
  {
   "cell_type": "code",
   "execution_count": 11,
   "metadata": {},
   "outputs": [
    {
     "name": "stdout",
     "output_type": "stream",
     "text": [
      "244126 events\n"
     ]
    }
   ],
   "source": [
    "#eventos que hay en los registros\n",
    "print(f'{events} events')"
   ]
  },
  {
   "cell_type": "code",
   "execution_count": 12,
   "metadata": {},
   "outputs": [
    {
     "name": "stdout",
     "output_type": "stream",
     "text": [
      "7551 users\n"
     ]
    }
   ],
   "source": [
    "#usuarios que hay en los registros\n",
    "print(f'{users} users')"
   ]
  },
  {
   "cell_type": "code",
   "execution_count": 13,
   "metadata": {},
   "outputs": [
    {
     "name": "stdout",
     "output_type": "stream",
     "text": [
      "32.33028737915508 events_per_users\n"
     ]
    }
   ],
   "source": [
    "# promedio de eventos por usuario\n",
    "print(f'{events/users} events_per_users')"
   ]
  },
  {
   "cell_type": "markdown",
   "metadata": {},
   "source": [
    "<div class=\"alert alert-block alert-success\">\n",
    "<b>Celda [13]</b> <a class=\"tocSkip\"></a><br>\n",
    "Has calculado correctamente el promedio de eventos por usuario. Esta métrica es útil para entender el comportamiento promedio de los usuarios en la aplicación y puede ayudar a identificar patrones de uso.\n",
    "</div>\n"
   ]
  },
  {
   "cell_type": "markdown",
   "metadata": {},
   "source": [
    "¿Qué periodo de tiempo cubren los datos? Encuentra la fecha máxima y mínima. Traza un histograma por fecha y hora. \n",
    "\n",
    "¿Puedes tener seguridad de que tienes datos igualmente completos para todo el periodo? Los eventos más antiguos podrían terminar en los registros de algunos usuarios por razones técnicas y esto podría sesgar el panorama general. Encuentra el momento en el que los datos comienzan a estar completos e ignora la sección anterior. \n",
    "\n",
    "¿Qué periodo representan realmente los datos?"
   ]
  },
  {
   "cell_type": "code",
   "execution_count": 14,
   "metadata": {},
   "outputs": [
    {
     "name": "stdout",
     "output_type": "stream",
     "text": [
      "2019-07-25 04:43:36 2019-08-07 21:15:17\n"
     ]
    }
   ],
   "source": [
    "#fecha maxima y minima\n",
    "print(data['date_time'].min(), data['date_time'].max())"
   ]
  },
  {
   "cell_type": "code",
   "execution_count": 15,
   "metadata": {},
   "outputs": [
    {
     "data": {
      "text/html": [
       "<div>\n",
       "<style scoped>\n",
       "    .dataframe tbody tr th:only-of-type {\n",
       "        vertical-align: middle;\n",
       "    }\n",
       "\n",
       "    .dataframe tbody tr th {\n",
       "        vertical-align: top;\n",
       "    }\n",
       "\n",
       "    .dataframe thead th {\n",
       "        text-align: right;\n",
       "    }\n",
       "</style>\n",
       "<table border=\"1\" class=\"dataframe\">\n",
       "  <thead>\n",
       "    <tr style=\"text-align: right;\">\n",
       "      <th></th>\n",
       "      <th>event</th>\n",
       "      <th>user</th>\n",
       "      <th>timestamp</th>\n",
       "      <th>exp_id</th>\n",
       "      <th>date_time</th>\n",
       "      <th>date</th>\n",
       "    </tr>\n",
       "  </thead>\n",
       "  <tbody>\n",
       "    <tr>\n",
       "      <th>0</th>\n",
       "      <td>MainScreenAppear</td>\n",
       "      <td>4575588528974610257</td>\n",
       "      <td>1564029816</td>\n",
       "      <td>246</td>\n",
       "      <td>2019-07-25 04:43:36</td>\n",
       "      <td>2019-07-25</td>\n",
       "    </tr>\n",
       "    <tr>\n",
       "      <th>1</th>\n",
       "      <td>MainScreenAppear</td>\n",
       "      <td>7416695313311560658</td>\n",
       "      <td>1564053102</td>\n",
       "      <td>246</td>\n",
       "      <td>2019-07-25 11:11:42</td>\n",
       "      <td>2019-07-25</td>\n",
       "    </tr>\n",
       "    <tr>\n",
       "      <th>2</th>\n",
       "      <td>PaymentScreenSuccessful</td>\n",
       "      <td>3518123091307005509</td>\n",
       "      <td>1564054127</td>\n",
       "      <td>248</td>\n",
       "      <td>2019-07-25 11:28:47</td>\n",
       "      <td>2019-07-25</td>\n",
       "    </tr>\n",
       "    <tr>\n",
       "      <th>3</th>\n",
       "      <td>CartScreenAppear</td>\n",
       "      <td>3518123091307005509</td>\n",
       "      <td>1564054127</td>\n",
       "      <td>248</td>\n",
       "      <td>2019-07-25 11:28:47</td>\n",
       "      <td>2019-07-25</td>\n",
       "    </tr>\n",
       "    <tr>\n",
       "      <th>4</th>\n",
       "      <td>PaymentScreenSuccessful</td>\n",
       "      <td>6217807653094995999</td>\n",
       "      <td>1564055322</td>\n",
       "      <td>248</td>\n",
       "      <td>2019-07-25 11:48:42</td>\n",
       "      <td>2019-07-25</td>\n",
       "    </tr>\n",
       "  </tbody>\n",
       "</table>\n",
       "</div>"
      ],
      "text/plain": [
       "                     event                 user   timestamp  exp_id  \\\n",
       "0         MainScreenAppear  4575588528974610257  1564029816     246   \n",
       "1         MainScreenAppear  7416695313311560658  1564053102     246   \n",
       "2  PaymentScreenSuccessful  3518123091307005509  1564054127     248   \n",
       "3         CartScreenAppear  3518123091307005509  1564054127     248   \n",
       "4  PaymentScreenSuccessful  6217807653094995999  1564055322     248   \n",
       "\n",
       "            date_time       date  \n",
       "0 2019-07-25 04:43:36 2019-07-25  \n",
       "1 2019-07-25 11:11:42 2019-07-25  \n",
       "2 2019-07-25 11:28:47 2019-07-25  \n",
       "3 2019-07-25 11:28:47 2019-07-25  \n",
       "4 2019-07-25 11:48:42 2019-07-25  "
      ]
     },
     "execution_count": 15,
     "metadata": {},
     "output_type": "execute_result"
    }
   ],
   "source": [
    "data.head()"
   ]
  },
  {
   "cell_type": "code",
   "execution_count": 16,
   "metadata": {},
   "outputs": [
    {
     "data": {
      "text/plain": [
       "<AxesSubplot:>"
      ]
     },
     "execution_count": 16,
     "metadata": {},
     "output_type": "execute_result"
    },
    {
     "data": {
      "image/png": "[encoded data removed]",
      "text/plain": [
       "<Figure size 1400x500 with 1 Axes>"
      ]
     },
     "metadata": {},
     "output_type": "display_data"
    }
   ],
   "source": [
    "register_matplotlib_converters()\n",
    "data['date_time'].hist(bins=100, figsize=(14,5))"
   ]
  },
  {
   "cell_type": "markdown",
   "metadata": {},
   "source": [
    "<div class=\"alert alert-block alert-warning\">\n",
    "<b>Celda [16]</b> <a class=\"tocSkip\"></a><br>\n",
    "El histograma de <code>date_time</code> es útil para visualizar la distribución de los eventos a lo largo del tiempo. Incluir una línea de tendencia o analizar la estacionalidad podría proporcionar información adicional sobre patrones temporales en los datos.\n",
    "</div>\n"
   ]
  },
  {
   "cell_type": "code",
   "execution_count": 17,
   "metadata": {},
   "outputs": [
    {
     "data": {
      "text/plain": [
       "array([[<AxesSubplot:title={'center':'user'}>,\n",
       "        <AxesSubplot:title={'center':'timestamp'}>],\n",
       "       [<AxesSubplot:title={'center':'exp_id'}>,\n",
       "        <AxesSubplot:title={'center':'date_time'}>],\n",
       "       [<AxesSubplot:title={'center':'date'}>, <AxesSubplot:>]],\n",
       "      dtype=object)"
      ]
     },
     "execution_count": 17,
     "metadata": {},
     "output_type": "execute_result"
    },
    {
     "data": {
      "image/png": "[encoded data removed]",
      "text/plain": [
       "<Figure size 640x480 with 6 Axes>"
      ]
     },
     "metadata": {},
     "output_type": "display_data"
    }
   ],
   "source": [
    "data.hist()"
   ]
  },
  {
   "cell_type": "code",
   "execution_count": 18,
   "metadata": {},
   "outputs": [
    {
     "data": {
      "text/plain": [
       "<AxesSubplot:xlabel='date'>"
      ]
     },
     "execution_count": 18,
     "metadata": {},
     "output_type": "execute_result"
    },
    {
     "data": {
      "image/png": "[encoded data removed]",
      "text/plain": [
       "<Figure size 640x480 with 1 Axes>"
      ]
     },
     "metadata": {},
     "output_type": "display_data"
    }
   ],
   "source": [
    "#Encuentra el momento en que los datoto empiesan a estar completos\n",
    "data.pivot_table(\n",
    "    index='date',\n",
    "    values='user',\n",
    "    aggfunc='count'\n",
    ").plot(style='o-',grid=True)"
   ]
  },
  {
   "cell_type": "code",
   "execution_count": 19,
   "metadata": {},
   "outputs": [
    {
     "data": {
      "image/png": "[encoded data removed]",
      "text/plain": [
       "<Figure size 640x480 with 1 Axes>"
      ]
     },
     "metadata": {},
     "output_type": "display_data"
    },
    {
     "data": {
      "text/html": [
       "<div>\n",
       "<style scoped>\n",
       "    .dataframe tbody tr th:only-of-type {\n",
       "        vertical-align: middle;\n",
       "    }\n",
       "\n",
       "    .dataframe tbody tr th {\n",
       "        vertical-align: top;\n",
       "    }\n",
       "\n",
       "    .dataframe thead th {\n",
       "        text-align: right;\n",
       "    }\n",
       "</style>\n",
       "<table border=\"1\" class=\"dataframe\">\n",
       "  <thead>\n",
       "    <tr style=\"text-align: right;\">\n",
       "      <th></th>\n",
       "      <th>event</th>\n",
       "      <th>user</th>\n",
       "      <th>timestamp</th>\n",
       "      <th>exp_id</th>\n",
       "      <th>date_time</th>\n",
       "      <th>date</th>\n",
       "    </tr>\n",
       "  </thead>\n",
       "  <tbody>\n",
       "    <tr>\n",
       "      <th>1990</th>\n",
       "      <td>MainScreenAppear</td>\n",
       "      <td>7701922487875823903</td>\n",
       "      <td>1564606857</td>\n",
       "      <td>247</td>\n",
       "      <td>2019-07-31 21:00:57</td>\n",
       "      <td>2019-07-31</td>\n",
       "    </tr>\n",
       "    <tr>\n",
       "      <th>1991</th>\n",
       "      <td>MainScreenAppear</td>\n",
       "      <td>2539077412200498909</td>\n",
       "      <td>1564606905</td>\n",
       "      <td>247</td>\n",
       "      <td>2019-07-31 21:01:45</td>\n",
       "      <td>2019-07-31</td>\n",
       "    </tr>\n",
       "    <tr>\n",
       "      <th>1992</th>\n",
       "      <td>OffersScreenAppear</td>\n",
       "      <td>3286987355161301427</td>\n",
       "      <td>1564606941</td>\n",
       "      <td>248</td>\n",
       "      <td>2019-07-31 21:02:21</td>\n",
       "      <td>2019-07-31</td>\n",
       "    </tr>\n",
       "    <tr>\n",
       "      <th>1993</th>\n",
       "      <td>OffersScreenAppear</td>\n",
       "      <td>3187166762535343300</td>\n",
       "      <td>1564606943</td>\n",
       "      <td>247</td>\n",
       "      <td>2019-07-31 21:02:23</td>\n",
       "      <td>2019-07-31</td>\n",
       "    </tr>\n",
       "    <tr>\n",
       "      <th>1994</th>\n",
       "      <td>MainScreenAppear</td>\n",
       "      <td>1118952406011435924</td>\n",
       "      <td>1564607005</td>\n",
       "      <td>248</td>\n",
       "      <td>2019-07-31 21:03:25</td>\n",
       "      <td>2019-07-31</td>\n",
       "    </tr>\n",
       "  </tbody>\n",
       "</table>\n",
       "</div>"
      ],
      "text/plain": [
       "                   event                 user   timestamp  exp_id  \\\n",
       "1990    MainScreenAppear  7701922487875823903  1564606857     247   \n",
       "1991    MainScreenAppear  2539077412200498909  1564606905     247   \n",
       "1992  OffersScreenAppear  3286987355161301427  1564606941     248   \n",
       "1993  OffersScreenAppear  3187166762535343300  1564606943     247   \n",
       "1994    MainScreenAppear  1118952406011435924  1564607005     248   \n",
       "\n",
       "               date_time       date  \n",
       "1990 2019-07-31 21:00:57 2019-07-31  \n",
       "1991 2019-07-31 21:01:45 2019-07-31  \n",
       "1992 2019-07-31 21:02:21 2019-07-31  \n",
       "1993 2019-07-31 21:02:23 2019-07-31  \n",
       "1994 2019-07-31 21:03:25 2019-07-31  "
      ]
     },
     "execution_count": 19,
     "metadata": {},
     "output_type": "execute_result"
    }
   ],
   "source": [
    "data.groupby('date_time')['user'].count().plot()\n",
    "plt.show()\n",
    "data.query('date_time>\"2019-07-31 21:00\"',inplace=True)\n",
    "data.head()"
   ]
  },
  {
   "cell_type": "markdown",
   "metadata": {},
   "source": [
    "<div class=\"alert alert-block alert-success\">\n",
    "<b>Celda [19]</b> <a class=\"tocSkip\"></a><br>\n",
    "Has identificado correctamente el periodo en el que los datos son más completos. Esto es crucial para garantizar que las conclusiones que extraigas sean representativas y precisas.\n",
    "</div>\n"
   ]
  },
  {
   "cell_type": "code",
   "execution_count": 20,
   "metadata": {},
   "outputs": [
    {
     "data": {
      "text/plain": [
       "<AxesSubplot:>"
      ]
     },
     "execution_count": 20,
     "metadata": {},
     "output_type": "execute_result"
    },
    {
     "data": {
      "image/png": "[encoded data removed]",
      "text/plain": [
       "<Figure size 1400x500 with 1 Axes>"
      ]
     },
     "metadata": {},
     "output_type": "display_data"
    }
   ],
   "source": [
    "#¿Qué periodo representan realmente los datos?\n",
    "data['date_time'].hist(bins=7*24, figsize=(14,5))"
   ]
  },
  {
   "cell_type": "code",
   "execution_count": 21,
   "metadata": {},
   "outputs": [
    {
     "name": "stdout",
     "output_type": "stream",
     "text": [
      "242136\n",
      "7551\n",
      "32.06674612634088\n"
     ]
    }
   ],
   "source": [
    "#¿Perdiste muchos eventos y usuarios al excluir los datos más antiguos?\n",
    "events=len(data)\n",
    "user=len(data['user'].unique())\n",
    "events_per_user=events/users\n",
    "print(events)\n",
    "print(users)\n",
    "print(events_per_user)"
   ]
  },
  {
   "cell_type": "code",
   "execution_count": null,
   "metadata": {},
   "outputs": [],
   "source": []
  },
  {
   "cell_type": "code",
   "execution_count": 22,
   "metadata": {},
   "outputs": [
    {
     "data": {
      "text/html": [
       "<div>\n",
       "<style scoped>\n",
       "    .dataframe tbody tr th:only-of-type {\n",
       "        vertical-align: middle;\n",
       "    }\n",
       "\n",
       "    .dataframe tbody tr th {\n",
       "        vertical-align: top;\n",
       "    }\n",
       "\n",
       "    .dataframe thead th {\n",
       "        text-align: right;\n",
       "    }\n",
       "</style>\n",
       "<table border=\"1\" class=\"dataframe\">\n",
       "  <thead>\n",
       "    <tr style=\"text-align: right;\">\n",
       "      <th></th>\n",
       "      <th>event</th>\n",
       "      <th>user</th>\n",
       "      <th>timestamp</th>\n",
       "      <th>exp_id</th>\n",
       "      <th>date_time</th>\n",
       "      <th>date</th>\n",
       "    </tr>\n",
       "  </thead>\n",
       "  <tbody>\n",
       "    <tr>\n",
       "      <th>1990</th>\n",
       "      <td>MainScreenAppear</td>\n",
       "      <td>7701922487875823903</td>\n",
       "      <td>1564606857</td>\n",
       "      <td>247</td>\n",
       "      <td>2019-07-31 21:00:57</td>\n",
       "      <td>2019-07-31</td>\n",
       "    </tr>\n",
       "    <tr>\n",
       "      <th>1991</th>\n",
       "      <td>MainScreenAppear</td>\n",
       "      <td>2539077412200498909</td>\n",
       "      <td>1564606905</td>\n",
       "      <td>247</td>\n",
       "      <td>2019-07-31 21:01:45</td>\n",
       "      <td>2019-07-31</td>\n",
       "    </tr>\n",
       "    <tr>\n",
       "      <th>1992</th>\n",
       "      <td>OffersScreenAppear</td>\n",
       "      <td>3286987355161301427</td>\n",
       "      <td>1564606941</td>\n",
       "      <td>248</td>\n",
       "      <td>2019-07-31 21:02:21</td>\n",
       "      <td>2019-07-31</td>\n",
       "    </tr>\n",
       "    <tr>\n",
       "      <th>1993</th>\n",
       "      <td>OffersScreenAppear</td>\n",
       "      <td>3187166762535343300</td>\n",
       "      <td>1564606943</td>\n",
       "      <td>247</td>\n",
       "      <td>2019-07-31 21:02:23</td>\n",
       "      <td>2019-07-31</td>\n",
       "    </tr>\n",
       "    <tr>\n",
       "      <th>1994</th>\n",
       "      <td>MainScreenAppear</td>\n",
       "      <td>1118952406011435924</td>\n",
       "      <td>1564607005</td>\n",
       "      <td>248</td>\n",
       "      <td>2019-07-31 21:03:25</td>\n",
       "      <td>2019-07-31</td>\n",
       "    </tr>\n",
       "    <tr>\n",
       "      <th>...</th>\n",
       "      <td>...</td>\n",
       "      <td>...</td>\n",
       "      <td>...</td>\n",
       "      <td>...</td>\n",
       "      <td>...</td>\n",
       "      <td>...</td>\n",
       "    </tr>\n",
       "    <tr>\n",
       "      <th>244121</th>\n",
       "      <td>MainScreenAppear</td>\n",
       "      <td>4599628364049201812</td>\n",
       "      <td>1565212345</td>\n",
       "      <td>247</td>\n",
       "      <td>2019-08-07 21:12:25</td>\n",
       "      <td>2019-08-07</td>\n",
       "    </tr>\n",
       "    <tr>\n",
       "      <th>244122</th>\n",
       "      <td>MainScreenAppear</td>\n",
       "      <td>5849806612437486590</td>\n",
       "      <td>1565212439</td>\n",
       "      <td>246</td>\n",
       "      <td>2019-08-07 21:13:59</td>\n",
       "      <td>2019-08-07</td>\n",
       "    </tr>\n",
       "    <tr>\n",
       "      <th>244123</th>\n",
       "      <td>MainScreenAppear</td>\n",
       "      <td>5746969938801999050</td>\n",
       "      <td>1565212483</td>\n",
       "      <td>246</td>\n",
       "      <td>2019-08-07 21:14:43</td>\n",
       "      <td>2019-08-07</td>\n",
       "    </tr>\n",
       "    <tr>\n",
       "      <th>244124</th>\n",
       "      <td>MainScreenAppear</td>\n",
       "      <td>5746969938801999050</td>\n",
       "      <td>1565212498</td>\n",
       "      <td>246</td>\n",
       "      <td>2019-08-07 21:14:58</td>\n",
       "      <td>2019-08-07</td>\n",
       "    </tr>\n",
       "    <tr>\n",
       "      <th>244125</th>\n",
       "      <td>OffersScreenAppear</td>\n",
       "      <td>5746969938801999050</td>\n",
       "      <td>1565212517</td>\n",
       "      <td>246</td>\n",
       "      <td>2019-08-07 21:15:17</td>\n",
       "      <td>2019-08-07</td>\n",
       "    </tr>\n",
       "  </tbody>\n",
       "</table>\n",
       "<p>242136 rows × 6 columns</p>\n",
       "</div>"
      ],
      "text/plain": [
       "                     event                 user   timestamp  exp_id  \\\n",
       "1990      MainScreenAppear  7701922487875823903  1564606857     247   \n",
       "1991      MainScreenAppear  2539077412200498909  1564606905     247   \n",
       "1992    OffersScreenAppear  3286987355161301427  1564606941     248   \n",
       "1993    OffersScreenAppear  3187166762535343300  1564606943     247   \n",
       "1994      MainScreenAppear  1118952406011435924  1564607005     248   \n",
       "...                    ...                  ...         ...     ...   \n",
       "244121    MainScreenAppear  4599628364049201812  1565212345     247   \n",
       "244122    MainScreenAppear  5849806612437486590  1565212439     246   \n",
       "244123    MainScreenAppear  5746969938801999050  1565212483     246   \n",
       "244124    MainScreenAppear  5746969938801999050  1565212498     246   \n",
       "244125  OffersScreenAppear  5746969938801999050  1565212517     246   \n",
       "\n",
       "                 date_time       date  \n",
       "1990   2019-07-31 21:00:57 2019-07-31  \n",
       "1991   2019-07-31 21:01:45 2019-07-31  \n",
       "1992   2019-07-31 21:02:21 2019-07-31  \n",
       "1993   2019-07-31 21:02:23 2019-07-31  \n",
       "1994   2019-07-31 21:03:25 2019-07-31  \n",
       "...                    ...        ...  \n",
       "244121 2019-08-07 21:12:25 2019-08-07  \n",
       "244122 2019-08-07 21:13:59 2019-08-07  \n",
       "244123 2019-08-07 21:14:43 2019-08-07  \n",
       "244124 2019-08-07 21:14:58 2019-08-07  \n",
       "244125 2019-08-07 21:15:17 2019-08-07  \n",
       "\n",
       "[242136 rows x 6 columns]"
      ]
     },
     "execution_count": 22,
     "metadata": {},
     "output_type": "execute_result"
    }
   ],
   "source": [
    "#Asegúrate de tener usuarios de los tres grupos experimentales.\n",
    "data"
   ]
  },
  {
   "cell_type": "code",
   "execution_count": 23,
   "metadata": {},
   "outputs": [
    {
     "data": {
      "text/plain": [
       "248    85039\n",
       "246    79679\n",
       "247    77418\n",
       "Name: exp_id, dtype: int64"
      ]
     },
     "execution_count": 23,
     "metadata": {},
     "output_type": "execute_result"
    }
   ],
   "source": [
    "data['exp_id'].value_counts()"
   ]
  },
  {
   "cell_type": "markdown",
   "metadata": {},
   "source": [
    "<div class=\"alert alert-block alert-success\">\n",
    "<b>Celda [23]</b> <a class=\"tocSkip\"></a><br>\n",
    "Has verificado correctamente que los datos contienen usuarios de los tres grupos experimentales. Esto es esencial para asegurar que el análisis posterior sea válido y que las comparaciones entre grupos sean significativas.\n",
    "</div>\n"
   ]
  },
  {
   "cell_type": "markdown",
   "metadata": {},
   "source": [
    "# Paso 4. Estudiar el embudo de eventos"
   ]
  },
  {
   "cell_type": "code",
   "execution_count": 24,
   "metadata": {},
   "outputs": [
    {
     "data": {
      "text/html": [
       "<div>\n",
       "<style scoped>\n",
       "    .dataframe tbody tr th:only-of-type {\n",
       "        vertical-align: middle;\n",
       "    }\n",
       "\n",
       "    .dataframe tbody tr th {\n",
       "        vertical-align: top;\n",
       "    }\n",
       "\n",
       "    .dataframe thead th {\n",
       "        text-align: right;\n",
       "    }\n",
       "</style>\n",
       "<table border=\"1\" class=\"dataframe\">\n",
       "  <thead>\n",
       "    <tr style=\"text-align: right;\">\n",
       "      <th></th>\n",
       "      <th>user</th>\n",
       "    </tr>\n",
       "    <tr>\n",
       "      <th>event</th>\n",
       "      <th></th>\n",
       "    </tr>\n",
       "  </thead>\n",
       "  <tbody>\n",
       "    <tr>\n",
       "      <th>MainScreenAppear</th>\n",
       "      <td>117992</td>\n",
       "    </tr>\n",
       "    <tr>\n",
       "      <th>OffersScreenAppear</th>\n",
       "      <td>46548</td>\n",
       "    </tr>\n",
       "    <tr>\n",
       "      <th>CartScreenAppear</th>\n",
       "      <td>42406</td>\n",
       "    </tr>\n",
       "    <tr>\n",
       "      <th>PaymentScreenSuccessful</th>\n",
       "      <td>34146</td>\n",
       "    </tr>\n",
       "    <tr>\n",
       "      <th>Tutorial</th>\n",
       "      <td>1044</td>\n",
       "    </tr>\n",
       "  </tbody>\n",
       "</table>\n",
       "</div>"
      ],
      "text/plain": [
       "                           user\n",
       "event                          \n",
       "MainScreenAppear         117992\n",
       "OffersScreenAppear        46548\n",
       "CartScreenAppear          42406\n",
       "PaymentScreenSuccessful   34146\n",
       "Tutorial                   1044"
      ]
     },
     "execution_count": 24,
     "metadata": {},
     "output_type": "execute_result"
    }
   ],
   "source": [
    "#Observa qué eventos hay en los registros y su frecuencia de suceso. Ordénalos por frecuencia.\n",
    "data.pivot_table(\n",
    "    index='event',\n",
    "    values='user',\n",
    "    aggfunc='count'\n",
    ").sort_values('user', ascending=False)"
   ]
  },
  {
   "cell_type": "code",
   "execution_count": null,
   "metadata": {},
   "outputs": [],
   "source": []
  },
  {
   "cell_type": "code",
   "execution_count": 25,
   "metadata": {},
   "outputs": [
    {
     "data": {
      "text/html": [
       "<div>\n",
       "<style scoped>\n",
       "    .dataframe tbody tr th:only-of-type {\n",
       "        vertical-align: middle;\n",
       "    }\n",
       "\n",
       "    .dataframe tbody tr th {\n",
       "        vertical-align: top;\n",
       "    }\n",
       "\n",
       "    .dataframe thead th {\n",
       "        text-align: right;\n",
       "    }\n",
       "</style>\n",
       "<table border=\"1\" class=\"dataframe\">\n",
       "  <thead>\n",
       "    <tr style=\"text-align: right;\">\n",
       "      <th></th>\n",
       "      <th>user</th>\n",
       "    </tr>\n",
       "    <tr>\n",
       "      <th>event</th>\n",
       "      <th></th>\n",
       "    </tr>\n",
       "  </thead>\n",
       "  <tbody>\n",
       "    <tr>\n",
       "      <th>MainScreenAppear</th>\n",
       "      <td>7423</td>\n",
       "    </tr>\n",
       "    <tr>\n",
       "      <th>OffersScreenAppear</th>\n",
       "      <td>4597</td>\n",
       "    </tr>\n",
       "    <tr>\n",
       "      <th>CartScreenAppear</th>\n",
       "      <td>3736</td>\n",
       "    </tr>\n",
       "    <tr>\n",
       "      <th>PaymentScreenSuccessful</th>\n",
       "      <td>3540</td>\n",
       "    </tr>\n",
       "    <tr>\n",
       "      <th>Tutorial</th>\n",
       "      <td>843</td>\n",
       "    </tr>\n",
       "  </tbody>\n",
       "</table>\n",
       "</div>"
      ],
      "text/plain": [
       "                         user\n",
       "event                        \n",
       "MainScreenAppear         7423\n",
       "OffersScreenAppear       4597\n",
       "CartScreenAppear         3736\n",
       "PaymentScreenSuccessful  3540\n",
       "Tutorial                  843"
      ]
     },
     "execution_count": 25,
     "metadata": {},
     "output_type": "execute_result"
    }
   ],
   "source": [
    "#Encuentra la cantidad de usuarios que realizaron cada una de estas acciones. Ordena los eventos por el número de usuarios. Calcula la proporción de usuarios que realizaron la acción al menos una vez.\n",
    "users_per_event=data.pivot_table(\n",
    "    index='event',\n",
    "    values='user',\n",
    "    aggfunc='nunique'\n",
    ").sort_values('user', ascending=False)\n",
    "users_per_event.head()"
   ]
  },
  {
   "cell_type": "code",
   "execution_count": 26,
   "metadata": {},
   "outputs": [
    {
     "data": {
      "text/html": [
       "<div>\n",
       "<style scoped>\n",
       "    .dataframe tbody tr th:only-of-type {\n",
       "        vertical-align: middle;\n",
       "    }\n",
       "\n",
       "    .dataframe tbody tr th {\n",
       "        vertical-align: top;\n",
       "    }\n",
       "\n",
       "    .dataframe thead th {\n",
       "        text-align: right;\n",
       "    }\n",
       "</style>\n",
       "<table border=\"1\" class=\"dataframe\">\n",
       "  <thead>\n",
       "    <tr style=\"text-align: right;\">\n",
       "      <th></th>\n",
       "      <th>user</th>\n",
       "    </tr>\n",
       "    <tr>\n",
       "      <th>event</th>\n",
       "      <th></th>\n",
       "    </tr>\n",
       "  </thead>\n",
       "  <tbody>\n",
       "    <tr>\n",
       "      <th>MainScreenAppear</th>\n",
       "      <td>0.984744</td>\n",
       "    </tr>\n",
       "    <tr>\n",
       "      <th>OffersScreenAppear</th>\n",
       "      <td>0.609843</td>\n",
       "    </tr>\n",
       "    <tr>\n",
       "      <th>CartScreenAppear</th>\n",
       "      <td>0.495622</td>\n",
       "    </tr>\n",
       "    <tr>\n",
       "      <th>PaymentScreenSuccessful</th>\n",
       "      <td>0.469621</td>\n",
       "    </tr>\n",
       "    <tr>\n",
       "      <th>Tutorial</th>\n",
       "      <td>0.111833</td>\n",
       "    </tr>\n",
       "  </tbody>\n",
       "</table>\n",
       "</div>"
      ],
      "text/plain": [
       "                             user\n",
       "event                            \n",
       "MainScreenAppear         0.984744\n",
       "OffersScreenAppear       0.609843\n",
       "CartScreenAppear         0.495622\n",
       "PaymentScreenSuccessful  0.469621\n",
       "Tutorial                 0.111833"
      ]
     },
     "execution_count": 26,
     "metadata": {},
     "output_type": "execute_result"
    }
   ],
   "source": [
    "#Calcula la proporción de usuarios que realizaron la acción al menos una vez.\n",
    "users_per_event/ len(data['user'].unique()) "
   ]
  },
  {
   "cell_type": "markdown",
   "metadata": {},
   "source": [
    "<div class=\"alert alert-block alert-success\">\n",
    "<b>Celda [26]</b> <a class=\"tocSkip\"></a><br>\n",
    "El cálculo de la proporción de usuarios que realizaron cada acción es una excelente manera de entender el embudo de conversión. Esto te ayuda a visualizar cómo los usuarios interactúan con la aplicación y en qué etapas se pierden.\n",
    "</div>\n"
   ]
  },
  {
   "cell_type": "code",
   "execution_count": null,
   "metadata": {},
   "outputs": [],
   "source": []
  },
  {
   "cell_type": "markdown",
   "metadata": {},
   "source": [
    "# ¿En qué orden crees que ocurrieron las acciones? ¿Todas son parte de una sola secuencia? No es necesario tenerlas en cuenta al calcular el embudo.\n"
   ]
  },
  {
   "cell_type": "markdown",
   "metadata": {},
   "source": [
    " Si es nesesario tenerlas encuenta\n",
    "\n",
    "esta es la sescuencia de mayor a menor por usuarios\n",
    "1. MainScreenAppear\n",
    "2. OffersScreenAppear\n",
    "3. CartScreenAppear\n",
    "4. PaymentScreenSuccessful\t"
   ]
  },
  {
   "cell_type": "code",
   "execution_count": null,
   "metadata": {},
   "outputs": [],
   "source": []
  },
  {
   "cell_type": "markdown",
   "metadata": {},
   "source": [
    "Utiliza el embudo de eventos para encontrar la proporción de usuarios que pasan de una etapa a la siguiente. Por ejemplo, para la secuencia de eventos A → B → C, calcula la proporción de usuarios en la etapa B a la cantidad de usuarios en la etapa A y la proporción de usuarios en la etapa C a la cantidad en la etapa B."
   ]
  },
  {
   "cell_type": "code",
   "execution_count": 27,
   "metadata": {},
   "outputs": [],
   "source": [
    "usuarios_evento_1 = data.query('event == \"MainScreenAppear\"')[['user']].drop_duplicates()\n",
    "usuarios_evento_2 = (\n",
    "    data\n",
    "    .query('event == \"OffersScreenAppear\"')\n",
    "    .query(f'user.isin({tuple(usuarios_evento_1[\"user\"].values)})')\n",
    "    [['user']].drop_duplicates()\n",
    ")\n",
    "usuarios_evento_3 = (\n",
    "    data\n",
    "    .query('event == \"CartScreenAppear\"')\n",
    "    .query(f'user.isin({tuple(usuarios_evento_2[\"user\"].values)})')\n",
    "    [['user']].drop_duplicates()\n",
    ")\n",
    "\n",
    "usuarios_evento_4 = (\n",
    "    data\n",
    "    .query('event == \"PaymentScreenSuccessful\"')\n",
    "    .query(f'user.isin({tuple(usuarios_evento_3[\"user\"].values)})')\n",
    "    [['user']].drop_duplicates()\n",
    ")\n",
    "\n",
    "usuarios_old=pd.DataFrame(\n",
    "    {\n",
    "        'event':['MainScreenAppear','OffersScreenAppear','CartScreenAppear','PaymentScreenSuccessful'],\n",
    "        'n_usuarios':[usuarios_evento_1['user'].count(),usuarios_evento_2['user'].count(),usuarios_evento_3['user'].count(),usuarios_evento_4['user'].count(),]\n",
    "    }\n",
    ")"
   ]
  },
  {
   "cell_type": "markdown",
   "metadata": {},
   "source": [
    "¿En qué etapa pierdes más usuarios?"
   ]
  },
  {
   "cell_type": "markdown",
   "metadata": {},
   "source": [
    "COSIDERANDO ESTOS DATOS "
   ]
  },
  {
   "cell_type": "code",
   "execution_count": 28,
   "metadata": {},
   "outputs": [
    {
     "data": {
      "text/html": [
       "<div>\n",
       "<style scoped>\n",
       "    .dataframe tbody tr th:only-of-type {\n",
       "        vertical-align: middle;\n",
       "    }\n",
       "\n",
       "    .dataframe tbody tr th {\n",
       "        vertical-align: top;\n",
       "    }\n",
       "\n",
       "    .dataframe thead th {\n",
       "        text-align: right;\n",
       "    }\n",
       "</style>\n",
       "<table border=\"1\" class=\"dataframe\">\n",
       "  <thead>\n",
       "    <tr style=\"text-align: right;\">\n",
       "      <th></th>\n",
       "      <th>event</th>\n",
       "      <th>n_usuarios</th>\n",
       "    </tr>\n",
       "  </thead>\n",
       "  <tbody>\n",
       "    <tr>\n",
       "      <th>0</th>\n",
       "      <td>MainScreenAppear</td>\n",
       "      <td>7423</td>\n",
       "    </tr>\n",
       "    <tr>\n",
       "      <th>1</th>\n",
       "      <td>OffersScreenAppear</td>\n",
       "      <td>4486</td>\n",
       "    </tr>\n",
       "    <tr>\n",
       "      <th>2</th>\n",
       "      <td>CartScreenAppear</td>\n",
       "      <td>3581</td>\n",
       "    </tr>\n",
       "    <tr>\n",
       "      <th>3</th>\n",
       "      <td>PaymentScreenSuccessful</td>\n",
       "      <td>3430</td>\n",
       "    </tr>\n",
       "  </tbody>\n",
       "</table>\n",
       "</div>"
      ],
      "text/plain": [
       "                     event  n_usuarios\n",
       "0         MainScreenAppear        7423\n",
       "1       OffersScreenAppear        4486\n",
       "2         CartScreenAppear        3581\n",
       "3  PaymentScreenSuccessful        3430"
      ]
     },
     "execution_count": 28,
     "metadata": {},
     "output_type": "execute_result"
    }
   ],
   "source": [
    "#usuarios viejos o retenidos\n",
    "usuarios_old"
   ]
  },
  {
   "cell_type": "code",
   "execution_count": 29,
   "metadata": {},
   "outputs": [
    {
     "data": {
      "text/html": [
       "<div>\n",
       "<style scoped>\n",
       "    .dataframe tbody tr th:only-of-type {\n",
       "        vertical-align: middle;\n",
       "    }\n",
       "\n",
       "    .dataframe tbody tr th {\n",
       "        vertical-align: top;\n",
       "    }\n",
       "\n",
       "    .dataframe thead th {\n",
       "        text-align: right;\n",
       "    }\n",
       "</style>\n",
       "<table border=\"1\" class=\"dataframe\">\n",
       "  <thead>\n",
       "    <tr style=\"text-align: right;\">\n",
       "      <th></th>\n",
       "      <th>event</th>\n",
       "      <th>n_usuarios</th>\n",
       "    </tr>\n",
       "  </thead>\n",
       "  <tbody>\n",
       "    <tr>\n",
       "      <th>0</th>\n",
       "      <td>MainScreenAppear</td>\n",
       "      <td>7423</td>\n",
       "    </tr>\n",
       "    <tr>\n",
       "      <th>1</th>\n",
       "      <td>OffersScreenAppear</td>\n",
       "      <td>4486</td>\n",
       "    </tr>\n",
       "    <tr>\n",
       "      <th>2</th>\n",
       "      <td>CartScreenAppear</td>\n",
       "      <td>3581</td>\n",
       "    </tr>\n",
       "    <tr>\n",
       "      <th>3</th>\n",
       "      <td>PaymentScreenSuccessful</td>\n",
       "      <td>3430</td>\n",
       "    </tr>\n",
       "  </tbody>\n",
       "</table>\n",
       "</div>"
      ],
      "text/plain": [
       "                     event  n_usuarios\n",
       "0         MainScreenAppear        7423\n",
       "1       OffersScreenAppear        4486\n",
       "2         CartScreenAppear        3581\n",
       "3  PaymentScreenSuccessful        3430"
      ]
     },
     "execution_count": 29,
     "metadata": {},
     "output_type": "execute_result"
    }
   ],
   "source": [
    "#proporcion de usuarios que pasan de una etapa ala sigiente\n",
    "usuarios_embudo=usuarios_old\n",
    "usuarios_embudo"
   ]
  },
  {
   "cell_type": "code",
   "execution_count": 30,
   "metadata": {},
   "outputs": [
    {
     "data": {
      "text/html": [
       "<div>\n",
       "<style scoped>\n",
       "    .dataframe tbody tr th:only-of-type {\n",
       "        vertical-align: middle;\n",
       "    }\n",
       "\n",
       "    .dataframe tbody tr th {\n",
       "        vertical-align: top;\n",
       "    }\n",
       "\n",
       "    .dataframe thead th {\n",
       "        text-align: right;\n",
       "    }\n",
       "</style>\n",
       "<table border=\"1\" class=\"dataframe\">\n",
       "  <thead>\n",
       "    <tr style=\"text-align: right;\">\n",
       "      <th></th>\n",
       "      <th>event</th>\n",
       "      <th>n_usuarios</th>\n",
       "      <th>proporcion</th>\n",
       "    </tr>\n",
       "  </thead>\n",
       "  <tbody>\n",
       "    <tr>\n",
       "      <th>0</th>\n",
       "      <td>MainScreenAppear</td>\n",
       "      <td>7423</td>\n",
       "      <td>NaN</td>\n",
       "    </tr>\n",
       "    <tr>\n",
       "      <th>1</th>\n",
       "      <td>OffersScreenAppear</td>\n",
       "      <td>4486</td>\n",
       "      <td>0.604338</td>\n",
       "    </tr>\n",
       "    <tr>\n",
       "      <th>2</th>\n",
       "      <td>CartScreenAppear</td>\n",
       "      <td>3581</td>\n",
       "      <td>0.798261</td>\n",
       "    </tr>\n",
       "    <tr>\n",
       "      <th>3</th>\n",
       "      <td>PaymentScreenSuccessful</td>\n",
       "      <td>3430</td>\n",
       "      <td>0.957833</td>\n",
       "    </tr>\n",
       "  </tbody>\n",
       "</table>\n",
       "</div>"
      ],
      "text/plain": [
       "                     event  n_usuarios  proporcion\n",
       "0         MainScreenAppear        7423         NaN\n",
       "1       OffersScreenAppear        4486    0.604338\n",
       "2         CartScreenAppear        3581    0.798261\n",
       "3  PaymentScreenSuccessful        3430    0.957833"
      ]
     },
     "execution_count": 30,
     "metadata": {},
     "output_type": "execute_result"
    }
   ],
   "source": [
    "usuarios_embudo['proporcion']=usuarios_embudo['n_usuarios']/usuarios_embudo['n_usuarios'].shift()\n",
    "usuarios_embudo"
   ]
  },
  {
   "cell_type": "markdown",
   "metadata": {},
   "source": [
    "<div class=\"alert alert-block alert-warning\">\n",
    "<b>Celda [30]</b> <a class=\"tocSkip\"></a><br>\n",
    "El cálculo de las proporciones de usuarios que pasan de una etapa a la siguiente es correcto. Una visualización de este embudo facilitaría la interpretación de los resultados, permitiendo identificar mejor las áreas de mejora en el proceso de conversión.\n",
    "<pre><code>usuarios_embudo.plot(kind='bar', x='event', y='proporcion', legend=False)\n",
    "plt.title('Proporción de usuarios en cada etapa del embudo')\n",
    "plt.ylabel('Proporción')\n",
    "plt.show()</code></pre>\n",
    "</div>\n"
   ]
  },
  {
   "cell_type": "markdown",
   "metadata": {},
   "source": [
    "dela primera ala segunda etapa de (7423) a(4486) se pierde el 40% delos usuarios\n",
    "delas segunda ala tercera se perde el 21%\n",
    "dela tercera a la cuarta se pierde solo el 5%"
   ]
  },
  {
   "cell_type": "code",
   "execution_count": null,
   "metadata": {},
   "outputs": [],
   "source": []
  },
  {
   "cell_type": "code",
   "execution_count": null,
   "metadata": {},
   "outputs": [],
   "source": []
  },
  {
   "cell_type": "code",
   "execution_count": null,
   "metadata": {},
   "outputs": [],
   "source": []
  },
  {
   "cell_type": "code",
   "execution_count": 31,
   "metadata": {},
   "outputs": [
    {
     "data": {
      "text/plain": [
       "([2937], [905], [151])"
      ]
     },
     "execution_count": 31,
     "metadata": {},
     "output_type": "execute_result"
    }
   ],
   "source": [
    "#LOS USUARIOS PERDIDOS\n",
    "lost_users=([usuarios_old['n_usuarios'][0] - usuarios_old['n_usuarios'][1]],[usuarios_old['n_usuarios'][1] - usuarios_old['n_usuarios'][2]],[usuarios_old['n_usuarios'][2] - usuarios_old['n_usuarios'][3]])\n",
    "lost_users"
   ]
  },
  {
   "cell_type": "markdown",
   "metadata": {},
   "source": [
    " SE PIERDE MAS EN LA PRIMERA ETAPA\n",
    " 1. 2937\n",
    " 2. 905\n",
    " 3. 151"
   ]
  },
  {
   "cell_type": "markdown",
   "metadata": {},
   "source": [
    "## ¿Qué porcentaje de usuarios hace todo el viaje desde su primer evento hasta el pago?"
   ]
  },
  {
   "cell_type": "code",
   "execution_count": 32,
   "metadata": {},
   "outputs": [
    {
     "name": "stdout",
     "output_type": "stream",
     "text": [
      "porcentaje de usuarios que viajan del primer evento hasta el final\n"
     ]
    },
    {
     "data": {
      "text/plain": [
       "0.4620773272261889"
      ]
     },
     "execution_count": 32,
     "metadata": {},
     "output_type": "execute_result"
    }
   ],
   "source": [
    "print('porcentaje de usuarios que viajan del primer evento hasta el final')\n",
    "usuarios_embudo.loc[3,'n_usuarios']/usuarios_embudo.loc[0,'n_usuarios']"
   ]
  },
  {
   "cell_type": "markdown",
   "metadata": {},
   "source": [
    "porcentaje de usuarios queviajan del primer evento hasta el final"
   ]
  },
  {
   "cell_type": "code",
   "execution_count": 33,
   "metadata": {},
   "outputs": [
    {
     "data": {
      "text/html": [
       "<div>\n",
       "<style scoped>\n",
       "    .dataframe tbody tr th:only-of-type {\n",
       "        vertical-align: middle;\n",
       "    }\n",
       "\n",
       "    .dataframe tbody tr th {\n",
       "        vertical-align: top;\n",
       "    }\n",
       "\n",
       "    .dataframe thead th {\n",
       "        text-align: right;\n",
       "    }\n",
       "</style>\n",
       "<table border=\"1\" class=\"dataframe\">\n",
       "  <thead>\n",
       "    <tr style=\"text-align: right;\">\n",
       "      <th></th>\n",
       "      <th>event</th>\n",
       "      <th>user</th>\n",
       "      <th>timestamp</th>\n",
       "      <th>exp_id</th>\n",
       "      <th>date_time</th>\n",
       "      <th>date</th>\n",
       "    </tr>\n",
       "  </thead>\n",
       "  <tbody>\n",
       "    <tr>\n",
       "      <th>1990</th>\n",
       "      <td>MainScreenAppear</td>\n",
       "      <td>7701922487875823903</td>\n",
       "      <td>1564606857</td>\n",
       "      <td>247</td>\n",
       "      <td>2019-07-31 21:00:57</td>\n",
       "      <td>2019-07-31</td>\n",
       "    </tr>\n",
       "    <tr>\n",
       "      <th>1991</th>\n",
       "      <td>MainScreenAppear</td>\n",
       "      <td>2539077412200498909</td>\n",
       "      <td>1564606905</td>\n",
       "      <td>247</td>\n",
       "      <td>2019-07-31 21:01:45</td>\n",
       "      <td>2019-07-31</td>\n",
       "    </tr>\n",
       "    <tr>\n",
       "      <th>1992</th>\n",
       "      <td>OffersScreenAppear</td>\n",
       "      <td>3286987355161301427</td>\n",
       "      <td>1564606941</td>\n",
       "      <td>248</td>\n",
       "      <td>2019-07-31 21:02:21</td>\n",
       "      <td>2019-07-31</td>\n",
       "    </tr>\n",
       "    <tr>\n",
       "      <th>1993</th>\n",
       "      <td>OffersScreenAppear</td>\n",
       "      <td>3187166762535343300</td>\n",
       "      <td>1564606943</td>\n",
       "      <td>247</td>\n",
       "      <td>2019-07-31 21:02:23</td>\n",
       "      <td>2019-07-31</td>\n",
       "    </tr>\n",
       "    <tr>\n",
       "      <th>1994</th>\n",
       "      <td>MainScreenAppear</td>\n",
       "      <td>1118952406011435924</td>\n",
       "      <td>1564607005</td>\n",
       "      <td>248</td>\n",
       "      <td>2019-07-31 21:03:25</td>\n",
       "      <td>2019-07-31</td>\n",
       "    </tr>\n",
       "  </tbody>\n",
       "</table>\n",
       "</div>"
      ],
      "text/plain": [
       "                   event                 user   timestamp  exp_id  \\\n",
       "1990    MainScreenAppear  7701922487875823903  1564606857     247   \n",
       "1991    MainScreenAppear  2539077412200498909  1564606905     247   \n",
       "1992  OffersScreenAppear  3286987355161301427  1564606941     248   \n",
       "1993  OffersScreenAppear  3187166762535343300  1564606943     247   \n",
       "1994    MainScreenAppear  1118952406011435924  1564607005     248   \n",
       "\n",
       "               date_time       date  \n",
       "1990 2019-07-31 21:00:57 2019-07-31  \n",
       "1991 2019-07-31 21:01:45 2019-07-31  \n",
       "1992 2019-07-31 21:02:21 2019-07-31  \n",
       "1993 2019-07-31 21:02:23 2019-07-31  \n",
       "1994 2019-07-31 21:03:25 2019-07-31  "
      ]
     },
     "execution_count": 33,
     "metadata": {},
     "output_type": "execute_result"
    }
   ],
   "source": [
    "data.head()"
   ]
  },
  {
   "cell_type": "markdown",
   "metadata": {},
   "source": [
    "## Paso 5. Estudiar los resultados del experimento"
   ]
  },
  {
   "cell_type": "code",
   "execution_count": 34,
   "metadata": {},
   "outputs": [
    {
     "data": {
      "text/html": [
       "<div>\n",
       "<style scoped>\n",
       "    .dataframe tbody tr th:only-of-type {\n",
       "        vertical-align: middle;\n",
       "    }\n",
       "\n",
       "    .dataframe tbody tr th {\n",
       "        vertical-align: top;\n",
       "    }\n",
       "\n",
       "    .dataframe thead th {\n",
       "        text-align: right;\n",
       "    }\n",
       "</style>\n",
       "<table border=\"1\" class=\"dataframe\">\n",
       "  <thead>\n",
       "    <tr style=\"text-align: right;\">\n",
       "      <th></th>\n",
       "      <th>user</th>\n",
       "    </tr>\n",
       "    <tr>\n",
       "      <th>exp_id</th>\n",
       "      <th></th>\n",
       "    </tr>\n",
       "  </thead>\n",
       "  <tbody>\n",
       "    <tr>\n",
       "      <th>246</th>\n",
       "      <td>2484</td>\n",
       "    </tr>\n",
       "    <tr>\n",
       "      <th>247</th>\n",
       "      <td>2517</td>\n",
       "    </tr>\n",
       "    <tr>\n",
       "      <th>248</th>\n",
       "      <td>2537</td>\n",
       "    </tr>\n",
       "  </tbody>\n",
       "</table>\n",
       "</div>"
      ],
      "text/plain": [
       "        user\n",
       "exp_id      \n",
       "246     2484\n",
       "247     2517\n",
       "248     2537"
      ]
     },
     "execution_count": 34,
     "metadata": {},
     "output_type": "execute_result"
    }
   ],
   "source": [
    "users_per_group=data.pivot_table(\n",
    "    index='exp_id',values='user',aggfunc='nunique')\n",
    "users_per_group"
   ]
  },
  {
   "cell_type": "markdown",
   "metadata": {},
   "source": [
    "# Tenemos dos grupos de control en el test A/A, donde comprobamos nuestros mecanismos y cálculos. Observa si hay una diferencia estadísticamente significativa entre las muestras 246 y 247."
   ]
  },
  {
   "cell_type": "code",
   "execution_count": 35,
   "metadata": {},
   "outputs": [
    {
     "data": {
      "text/html": [
       "<div>\n",
       "<style scoped>\n",
       "    .dataframe tbody tr th:only-of-type {\n",
       "        vertical-align: middle;\n",
       "    }\n",
       "\n",
       "    .dataframe tbody tr th {\n",
       "        vertical-align: top;\n",
       "    }\n",
       "\n",
       "    .dataframe thead th {\n",
       "        text-align: right;\n",
       "    }\n",
       "</style>\n",
       "<table border=\"1\" class=\"dataframe\">\n",
       "  <thead>\n",
       "    <tr style=\"text-align: right;\">\n",
       "      <th>exp_id</th>\n",
       "      <th>246</th>\n",
       "      <th>247</th>\n",
       "      <th>248</th>\n",
       "    </tr>\n",
       "    <tr>\n",
       "      <th>event</th>\n",
       "      <th></th>\n",
       "      <th></th>\n",
       "      <th></th>\n",
       "    </tr>\n",
       "  </thead>\n",
       "  <tbody>\n",
       "    <tr>\n",
       "      <th>CartScreenAppear</th>\n",
       "      <td>1266</td>\n",
       "      <td>1239</td>\n",
       "      <td>1231</td>\n",
       "    </tr>\n",
       "    <tr>\n",
       "      <th>MainScreenAppear</th>\n",
       "      <td>2450</td>\n",
       "      <td>2479</td>\n",
       "      <td>2494</td>\n",
       "    </tr>\n",
       "    <tr>\n",
       "      <th>OffersScreenAppear</th>\n",
       "      <td>1542</td>\n",
       "      <td>1524</td>\n",
       "      <td>1531</td>\n",
       "    </tr>\n",
       "    <tr>\n",
       "      <th>PaymentScreenSuccessful</th>\n",
       "      <td>1200</td>\n",
       "      <td>1158</td>\n",
       "      <td>1182</td>\n",
       "    </tr>\n",
       "    <tr>\n",
       "      <th>Tutorial</th>\n",
       "      <td>278</td>\n",
       "      <td>284</td>\n",
       "      <td>281</td>\n",
       "    </tr>\n",
       "  </tbody>\n",
       "</table>\n",
       "</div>"
      ],
      "text/plain": [
       "exp_id                    246   247   248\n",
       "event                                    \n",
       "CartScreenAppear         1266  1239  1231\n",
       "MainScreenAppear         2450  2479  2494\n",
       "OffersScreenAppear       1542  1524  1531\n",
       "PaymentScreenSuccessful  1200  1158  1182\n",
       "Tutorial                  278   284   281"
      ]
     },
     "execution_count": 35,
     "metadata": {},
     "output_type": "execute_result"
    }
   ],
   "source": [
    "users_events_per_group=data.pivot_table(\n",
    "    index='event',values='user',columns='exp_id',aggfunc='nunique')\n",
    "users_events_per_group"
   ]
  },
  {
   "cell_type": "code",
   "execution_count": null,
   "metadata": {},
   "outputs": [],
   "source": []
  },
  {
   "cell_type": "markdown",
   "metadata": {},
   "source": [
    "# Selecciona el evento más popular. En cada uno de los grupos de control,\n",
    "\n",
    "# encuentra la cantidad de usuarios que realizaron esta acción. Encuentra su proporción. \n",
    "\n",
    "# Comprueba si la diferencia entre los grupos es estadísticamente significativa. Repite el procedimiento para todos los demás eventos (ahorrarás tiempo si creas una función especial para esta prueba). ¿Puedes confirmar que los grupos se dividieron correctamente?"
   ]
  },
  {
   "cell_type": "code",
   "execution_count": 36,
   "metadata": {},
   "outputs": [
    {
     "data": {
      "text/plain": [
       "MainScreenAppear           117992\n",
       "OffersScreenAppear          46548\n",
       "CartScreenAppear            42406\n",
       "PaymentScreenSuccessful     34146\n",
       "Tutorial                     1044\n",
       "Name: event, dtype: int64"
      ]
     },
     "execution_count": 36,
     "metadata": {},
     "output_type": "execute_result"
    }
   ],
   "source": [
    "data['event'].value_counts()"
   ]
  },
  {
   "cell_type": "code",
   "execution_count": 37,
   "metadata": {},
   "outputs": [
    {
     "data": {
      "text/plain": [
       "1990       True\n",
       "1991       True\n",
       "1992      False\n",
       "1993      False\n",
       "1994       True\n",
       "          ...  \n",
       "244121     True\n",
       "244122     True\n",
       "244123     True\n",
       "244124     True\n",
       "244125    False\n",
       "Name: event, Length: 242136, dtype: bool"
      ]
     },
     "execution_count": 37,
     "metadata": {},
     "output_type": "execute_result"
    }
   ],
   "source": [
    "data['event'] == 'MainScreenAppear'         "
   ]
  },
  {
   "cell_type": "code",
   "execution_count": 38,
   "metadata": {},
   "outputs": [
    {
     "data": {
      "text/html": [
       "<div>\n",
       "<style scoped>\n",
       "    .dataframe tbody tr th:only-of-type {\n",
       "        vertical-align: middle;\n",
       "    }\n",
       "\n",
       "    .dataframe tbody tr th {\n",
       "        vertical-align: top;\n",
       "    }\n",
       "\n",
       "    .dataframe thead th {\n",
       "        text-align: right;\n",
       "    }\n",
       "</style>\n",
       "<table border=\"1\" class=\"dataframe\">\n",
       "  <thead>\n",
       "    <tr style=\"text-align: right;\">\n",
       "      <th></th>\n",
       "      <th>event</th>\n",
       "      <th>user</th>\n",
       "      <th>timestamp</th>\n",
       "      <th>exp_id</th>\n",
       "      <th>date_time</th>\n",
       "      <th>date</th>\n",
       "    </tr>\n",
       "  </thead>\n",
       "  <tbody>\n",
       "    <tr>\n",
       "      <th>1990</th>\n",
       "      <td>MainScreenAppear</td>\n",
       "      <td>7701922487875823903</td>\n",
       "      <td>1564606857</td>\n",
       "      <td>247</td>\n",
       "      <td>2019-07-31 21:00:57</td>\n",
       "      <td>2019-07-31</td>\n",
       "    </tr>\n",
       "    <tr>\n",
       "      <th>1991</th>\n",
       "      <td>MainScreenAppear</td>\n",
       "      <td>2539077412200498909</td>\n",
       "      <td>1564606905</td>\n",
       "      <td>247</td>\n",
       "      <td>2019-07-31 21:01:45</td>\n",
       "      <td>2019-07-31</td>\n",
       "    </tr>\n",
       "    <tr>\n",
       "      <th>1994</th>\n",
       "      <td>MainScreenAppear</td>\n",
       "      <td>1118952406011435924</td>\n",
       "      <td>1564607005</td>\n",
       "      <td>248</td>\n",
       "      <td>2019-07-31 21:03:25</td>\n",
       "      <td>2019-07-31</td>\n",
       "    </tr>\n",
       "    <tr>\n",
       "      <th>1995</th>\n",
       "      <td>MainScreenAppear</td>\n",
       "      <td>929387516286850088</td>\n",
       "      <td>1564607135</td>\n",
       "      <td>248</td>\n",
       "      <td>2019-07-31 21:05:35</td>\n",
       "      <td>2019-07-31</td>\n",
       "    </tr>\n",
       "    <tr>\n",
       "      <th>1998</th>\n",
       "      <td>MainScreenAppear</td>\n",
       "      <td>7701922487875823903</td>\n",
       "      <td>1564607247</td>\n",
       "      <td>247</td>\n",
       "      <td>2019-07-31 21:07:27</td>\n",
       "      <td>2019-07-31</td>\n",
       "    </tr>\n",
       "    <tr>\n",
       "      <th>...</th>\n",
       "      <td>...</td>\n",
       "      <td>...</td>\n",
       "      <td>...</td>\n",
       "      <td>...</td>\n",
       "      <td>...</td>\n",
       "      <td>...</td>\n",
       "    </tr>\n",
       "    <tr>\n",
       "      <th>244120</th>\n",
       "      <td>MainScreenAppear</td>\n",
       "      <td>5746969938801999050</td>\n",
       "      <td>1565212331</td>\n",
       "      <td>246</td>\n",
       "      <td>2019-08-07 21:12:11</td>\n",
       "      <td>2019-08-07</td>\n",
       "    </tr>\n",
       "    <tr>\n",
       "      <th>244121</th>\n",
       "      <td>MainScreenAppear</td>\n",
       "      <td>4599628364049201812</td>\n",
       "      <td>1565212345</td>\n",
       "      <td>247</td>\n",
       "      <td>2019-08-07 21:12:25</td>\n",
       "      <td>2019-08-07</td>\n",
       "    </tr>\n",
       "    <tr>\n",
       "      <th>244122</th>\n",
       "      <td>MainScreenAppear</td>\n",
       "      <td>5849806612437486590</td>\n",
       "      <td>1565212439</td>\n",
       "      <td>246</td>\n",
       "      <td>2019-08-07 21:13:59</td>\n",
       "      <td>2019-08-07</td>\n",
       "    </tr>\n",
       "    <tr>\n",
       "      <th>244123</th>\n",
       "      <td>MainScreenAppear</td>\n",
       "      <td>5746969938801999050</td>\n",
       "      <td>1565212483</td>\n",
       "      <td>246</td>\n",
       "      <td>2019-08-07 21:14:43</td>\n",
       "      <td>2019-08-07</td>\n",
       "    </tr>\n",
       "    <tr>\n",
       "      <th>244124</th>\n",
       "      <td>MainScreenAppear</td>\n",
       "      <td>5746969938801999050</td>\n",
       "      <td>1565212498</td>\n",
       "      <td>246</td>\n",
       "      <td>2019-08-07 21:14:58</td>\n",
       "      <td>2019-08-07</td>\n",
       "    </tr>\n",
       "  </tbody>\n",
       "</table>\n",
       "<p>117992 rows × 6 columns</p>\n",
       "</div>"
      ],
      "text/plain": [
       "                   event                 user   timestamp  exp_id  \\\n",
       "1990    MainScreenAppear  7701922487875823903  1564606857     247   \n",
       "1991    MainScreenAppear  2539077412200498909  1564606905     247   \n",
       "1994    MainScreenAppear  1118952406011435924  1564607005     248   \n",
       "1995    MainScreenAppear   929387516286850088  1564607135     248   \n",
       "1998    MainScreenAppear  7701922487875823903  1564607247     247   \n",
       "...                  ...                  ...         ...     ...   \n",
       "244120  MainScreenAppear  5746969938801999050  1565212331     246   \n",
       "244121  MainScreenAppear  4599628364049201812  1565212345     247   \n",
       "244122  MainScreenAppear  5849806612437486590  1565212439     246   \n",
       "244123  MainScreenAppear  5746969938801999050  1565212483     246   \n",
       "244124  MainScreenAppear  5746969938801999050  1565212498     246   \n",
       "\n",
       "                 date_time       date  \n",
       "1990   2019-07-31 21:00:57 2019-07-31  \n",
       "1991   2019-07-31 21:01:45 2019-07-31  \n",
       "1994   2019-07-31 21:03:25 2019-07-31  \n",
       "1995   2019-07-31 21:05:35 2019-07-31  \n",
       "1998   2019-07-31 21:07:27 2019-07-31  \n",
       "...                    ...        ...  \n",
       "244120 2019-08-07 21:12:11 2019-08-07  \n",
       "244121 2019-08-07 21:12:25 2019-08-07  \n",
       "244122 2019-08-07 21:13:59 2019-08-07  \n",
       "244123 2019-08-07 21:14:43 2019-08-07  \n",
       "244124 2019-08-07 21:14:58 2019-08-07  \n",
       "\n",
       "[117992 rows x 6 columns]"
      ]
     },
     "execution_count": 38,
     "metadata": {},
     "output_type": "execute_result"
    }
   ],
   "source": [
    "datos_de_eventos_mas_popular=data[data['event'] == 'MainScreenAppear']\n",
    "datos_de_eventos_mas_popular"
   ]
  },
  {
   "cell_type": "code",
   "execution_count": 39,
   "metadata": {},
   "outputs": [
    {
     "data": {
      "text/plain": [
       "exp_id\n",
       "246    2450\n",
       "247    2479\n",
       "248    2494\n",
       "Name: user, dtype: int64"
      ]
     },
     "execution_count": 39,
     "metadata": {},
     "output_type": "execute_result"
    }
   ],
   "source": [
    "#encuentra la cantidad de usuarios que realizaron esta acción. Encuentra su proporción.\n",
    "usuarios_que_ralizarion_accion=datos_de_eventos_mas_popular.groupby('exp_id')['user'].nunique()\n",
    "usuarios_que_ralizarion_accion"
   ]
  },
  {
   "cell_type": "code",
   "execution_count": 40,
   "metadata": {},
   "outputs": [],
   "source": [
    "#usuarios_que_ralizarion_accion[]/usuarios_que_ralizarion_accio[]"
   ]
  },
  {
   "cell_type": "code",
   "execution_count": 41,
   "metadata": {},
   "outputs": [
    {
     "data": {
      "text/html": [
       "<div>\n",
       "<style scoped>\n",
       "    .dataframe tbody tr th:only-of-type {\n",
       "        vertical-align: middle;\n",
       "    }\n",
       "\n",
       "    .dataframe tbody tr th {\n",
       "        vertical-align: top;\n",
       "    }\n",
       "\n",
       "    .dataframe thead th {\n",
       "        text-align: right;\n",
       "    }\n",
       "</style>\n",
       "<table border=\"1\" class=\"dataframe\">\n",
       "  <thead>\n",
       "    <tr style=\"text-align: right;\">\n",
       "      <th></th>\n",
       "      <th>event</th>\n",
       "      <th>n_usuarios</th>\n",
       "      <th>proporcion</th>\n",
       "    </tr>\n",
       "  </thead>\n",
       "  <tbody>\n",
       "    <tr>\n",
       "      <th>0</th>\n",
       "      <td>MainScreenAppear</td>\n",
       "      <td>7423</td>\n",
       "      <td>NaN</td>\n",
       "    </tr>\n",
       "    <tr>\n",
       "      <th>1</th>\n",
       "      <td>OffersScreenAppear</td>\n",
       "      <td>4486</td>\n",
       "      <td>0.604338</td>\n",
       "    </tr>\n",
       "    <tr>\n",
       "      <th>2</th>\n",
       "      <td>CartScreenAppear</td>\n",
       "      <td>3581</td>\n",
       "      <td>0.798261</td>\n",
       "    </tr>\n",
       "    <tr>\n",
       "      <th>3</th>\n",
       "      <td>PaymentScreenSuccessful</td>\n",
       "      <td>3430</td>\n",
       "      <td>0.957833</td>\n",
       "    </tr>\n",
       "  </tbody>\n",
       "</table>\n",
       "</div>"
      ],
      "text/plain": [
       "                     event  n_usuarios  proporcion\n",
       "0         MainScreenAppear        7423         NaN\n",
       "1       OffersScreenAppear        4486    0.604338\n",
       "2         CartScreenAppear        3581    0.798261\n",
       "3  PaymentScreenSuccessful        3430    0.957833"
      ]
     },
     "execution_count": 41,
     "metadata": {},
     "output_type": "execute_result"
    }
   ],
   "source": [
    "usuarios_embudo['proporcion']=usuarios_embudo['n_usuarios']/usuarios_embudo['n_usuarios'].shift()\n",
    "usuarios_embudo"
   ]
  },
  {
   "cell_type": "code",
   "execution_count": 42,
   "metadata": {},
   "outputs": [
    {
     "data": {
      "text/html": [
       "<div>\n",
       "<style scoped>\n",
       "    .dataframe tbody tr th:only-of-type {\n",
       "        vertical-align: middle;\n",
       "    }\n",
       "\n",
       "    .dataframe tbody tr th {\n",
       "        vertical-align: top;\n",
       "    }\n",
       "\n",
       "    .dataframe thead th {\n",
       "        text-align: right;\n",
       "    }\n",
       "</style>\n",
       "<table border=\"1\" class=\"dataframe\">\n",
       "  <thead>\n",
       "    <tr style=\"text-align: right;\">\n",
       "      <th>exp_id</th>\n",
       "      <th>246</th>\n",
       "      <th>247</th>\n",
       "      <th>248</th>\n",
       "    </tr>\n",
       "    <tr>\n",
       "      <th>event</th>\n",
       "      <th></th>\n",
       "      <th></th>\n",
       "      <th></th>\n",
       "    </tr>\n",
       "  </thead>\n",
       "  <tbody>\n",
       "    <tr>\n",
       "      <th>CartScreenAppear</th>\n",
       "      <td>1266</td>\n",
       "      <td>1239</td>\n",
       "      <td>1231</td>\n",
       "    </tr>\n",
       "    <tr>\n",
       "      <th>MainScreenAppear</th>\n",
       "      <td>2450</td>\n",
       "      <td>2479</td>\n",
       "      <td>2494</td>\n",
       "    </tr>\n",
       "    <tr>\n",
       "      <th>OffersScreenAppear</th>\n",
       "      <td>1542</td>\n",
       "      <td>1524</td>\n",
       "      <td>1531</td>\n",
       "    </tr>\n",
       "    <tr>\n",
       "      <th>PaymentScreenSuccessful</th>\n",
       "      <td>1200</td>\n",
       "      <td>1158</td>\n",
       "      <td>1182</td>\n",
       "    </tr>\n",
       "    <tr>\n",
       "      <th>Tutorial</th>\n",
       "      <td>278</td>\n",
       "      <td>284</td>\n",
       "      <td>281</td>\n",
       "    </tr>\n",
       "  </tbody>\n",
       "</table>\n",
       "</div>"
      ],
      "text/plain": [
       "exp_id                    246   247   248\n",
       "event                                    \n",
       "CartScreenAppear         1266  1239  1231\n",
       "MainScreenAppear         2450  2479  2494\n",
       "OffersScreenAppear       1542  1524  1531\n",
       "PaymentScreenSuccessful  1200  1158  1182\n",
       "Tutorial                  278   284   281"
      ]
     },
     "execution_count": 42,
     "metadata": {},
     "output_type": "execute_result"
    }
   ],
   "source": [
    "data.groupby(['event', 'exp_id'])['user'].nunique().unstack()"
   ]
  },
  {
   "cell_type": "code",
   "execution_count": 43,
   "metadata": {},
   "outputs": [
    {
     "data": {
      "text/html": [
       "<div>\n",
       "<style scoped>\n",
       "    .dataframe tbody tr th:only-of-type {\n",
       "        vertical-align: middle;\n",
       "    }\n",
       "\n",
       "    .dataframe tbody tr th {\n",
       "        vertical-align: top;\n",
       "    }\n",
       "\n",
       "    .dataframe thead th {\n",
       "        text-align: right;\n",
       "    }\n",
       "</style>\n",
       "<table border=\"1\" class=\"dataframe\">\n",
       "  <thead>\n",
       "    <tr style=\"text-align: right;\">\n",
       "      <th>exp_id</th>\n",
       "      <th>246</th>\n",
       "      <th>247</th>\n",
       "      <th>248</th>\n",
       "    </tr>\n",
       "    <tr>\n",
       "      <th>event</th>\n",
       "      <th></th>\n",
       "      <th></th>\n",
       "      <th></th>\n",
       "    </tr>\n",
       "  </thead>\n",
       "  <tbody>\n",
       "    <tr>\n",
       "      <th>CartScreenAppear</th>\n",
       "      <td>1266</td>\n",
       "      <td>1239</td>\n",
       "      <td>1231</td>\n",
       "    </tr>\n",
       "    <tr>\n",
       "      <th>MainScreenAppear</th>\n",
       "      <td>2450</td>\n",
       "      <td>2479</td>\n",
       "      <td>2494</td>\n",
       "    </tr>\n",
       "    <tr>\n",
       "      <th>OffersScreenAppear</th>\n",
       "      <td>1542</td>\n",
       "      <td>1524</td>\n",
       "      <td>1531</td>\n",
       "    </tr>\n",
       "    <tr>\n",
       "      <th>PaymentScreenSuccessful</th>\n",
       "      <td>1200</td>\n",
       "      <td>1158</td>\n",
       "      <td>1182</td>\n",
       "    </tr>\n",
       "    <tr>\n",
       "      <th>Tutorial</th>\n",
       "      <td>278</td>\n",
       "      <td>284</td>\n",
       "      <td>281</td>\n",
       "    </tr>\n",
       "  </tbody>\n",
       "</table>\n",
       "</div>"
      ],
      "text/plain": [
       "exp_id                    246   247   248\n",
       "event                                    \n",
       "CartScreenAppear         1266  1239  1231\n",
       "MainScreenAppear         2450  2479  2494\n",
       "OffersScreenAppear       1542  1524  1531\n",
       "PaymentScreenSuccessful  1200  1158  1182\n",
       "Tutorial                  278   284   281"
      ]
     },
     "execution_count": 43,
     "metadata": {},
     "output_type": "execute_result"
    }
   ],
   "source": [
    "users_events_per_group"
   ]
  },
  {
   "cell_type": "code",
   "execution_count": null,
   "metadata": {},
   "outputs": [],
   "source": []
  },
  {
   "cell_type": "code",
   "execution_count": 44,
   "metadata": {},
   "outputs": [],
   "source": [
    "from scipy import stats\n",
    "import numpy as np\n",
    "import math"
   ]
  },
  {
   "cell_type": "code",
   "execution_count": null,
   "metadata": {},
   "outputs": [],
   "source": []
  },
  {
   "cell_type": "code",
   "execution_count": 45,
   "metadata": {},
   "outputs": [],
   "source": [
    "#funcion Z test\n",
    "def check_hipotesis(succeses1, succeses2, trials1, trials2, alpha=0.1):\n",
    "\n",
    "    ##Proporcion de exitos primer grupo\n",
    "    p1=succeses1/trials1\n",
    "    #Proporcion de exitos segundogrupo\n",
    "    p2=succeses2/trials2\n",
    "    #Proporcion de exitos combinada\n",
    "    p_combined=(succeses1+succeses2)/(trials1+trials2)\n",
    "    #Diferencia de Proporciones\n",
    "    diferencia=p1 - p2\n",
    "    #valorZ\n",
    "    z_value=diferencia/math.sqrt(p_combined*(1/trials1 +1/trials2 ) )\n",
    "    #distribucion NORMAL\n",
    "    distr=stats.norm(0,1)\n",
    "    p_value=(1-distr.cdf(abs(z_value)))*2\n",
    "    print('p_value', p_value)\n",
    "    if(p_value<alpha):\n",
    "        print('rechasamos la hipotesis nula.')\n",
    "    else:\n",
    "        print('no podemos rechasar la hipotesis nula.')"
   ]
  },
  {
   "cell_type": "code",
   "execution_count": 46,
   "metadata": {},
   "outputs": [
    {
     "name": "stdout",
     "output_type": "stream",
     "text": [
      "p_value [0.95995633]\n",
      "no podemos rechasar la hipotesis nula.\n"
     ]
    }
   ],
   "source": [
    "check_hipotesis(users_events_per_group.loc['MainScreenAppear', 246],\n",
    "               users_events_per_group.loc['MainScreenAppear', 247],\n",
    "               users_per_group.loc[246],\n",
    "               users_per_group.loc[247])"
   ]
  },
  {
   "cell_type": "code",
   "execution_count": 47,
   "metadata": {},
   "outputs": [],
   "source": [
    "def check_events_hipotesis(users_events_per_group,\n",
    "                         users_per_group,\n",
    "                         event,\n",
    "                         exp1,\n",
    "                         exp2):\n",
    "    frac1=users_events_per_group.loc[event,exp1]/users_per_group.loc[exp1]\n",
    "    frac2=users_events_per_group.loc[event,exp2]/users_per_group.loc[exp2]\n",
    "    print(f'{frac1} con {event} evento del grupo {exp1}')\n",
    "    print(f'{frac2} con {event} evento del grupo {exp2}')\n",
    "    check_hipotesis(users_events_per_group.loc[event,exp1],\n",
    "                users_events_per_group.loc[event,exp2],\n",
    "                users_per_group.loc[exp1],\n",
    "                users_per_group.loc[exp2])"
   ]
  },
  {
   "cell_type": "code",
   "execution_count": 48,
   "metadata": {},
   "outputs": [
    {
     "name": "stdout",
     "output_type": "stream",
     "text": [
      "user    0.509662\n",
      "Name: 246, dtype: float64 con CartScreenAppear evento del grupo 246\n",
      "user    0.492253\n",
      "Name: 247, dtype: float64 con CartScreenAppear evento del grupo 247\n",
      "p_value [0.38444058]\n",
      "no podemos rechasar la hipotesis nula.\n",
      "\n",
      "user    0.986312\n",
      "Name: 246, dtype: float64 con MainScreenAppear evento del grupo 246\n",
      "user    0.984903\n",
      "Name: 247, dtype: float64 con MainScreenAppear evento del grupo 247\n",
      "p_value [0.95995633]\n",
      "no podemos rechasar la hipotesis nula.\n",
      "\n",
      "user    0.620773\n",
      "Name: 246, dtype: float64 con OffersScreenAppear evento del grupo 246\n",
      "user    0.605483\n",
      "Name: 247, dtype: float64 con OffersScreenAppear evento del grupo 247\n",
      "p_value [0.48989816]\n",
      "no podemos rechasar la hipotesis nula.\n",
      "\n",
      "user    0.483092\n",
      "Name: 246, dtype: float64 con PaymentScreenSuccessful evento del grupo 246\n",
      "user    0.460072\n",
      "Name: 247, dtype: float64 con PaymentScreenSuccessful evento del grupo 247\n",
      "p_value [0.23586897]\n",
      "no podemos rechasar la hipotesis nula.\n",
      "\n",
      "user    0.111916\n",
      "Name: 246, dtype: float64 con Tutorial evento del grupo 246\n",
      "user    0.112833\n",
      "Name: 247, dtype: float64 con Tutorial evento del grupo 247\n",
      "p_value [0.92299247]\n",
      "no podemos rechasar la hipotesis nula.\n",
      "\n"
     ]
    }
   ],
   "source": [
    "for event in users_events_per_group.index:\n",
    "    check_events_hipotesis(users_events_per_group, users_per_group, event, 246,247)\n",
    "    print()"
   ]
  },
  {
   "cell_type": "markdown",
   "metadata": {},
   "source": [
    "<div class=\"alert alert-block alert-success\">\n",
    "<b>Celda [48]</b> <a class=\"tocSkip\"></a><br>\n",
    "Has implementado correctamente un Z-test para comparar las proporciones de éxito entre grupos experimentales. Este análisis es fundamental para validar diferencias estadísticas entre grupos y asegurar que los resultados sean significativos.\n",
    "</div>\n"
   ]
  },
  {
   "cell_type": "code",
   "execution_count": null,
   "metadata": {},
   "outputs": [],
   "source": []
  },
  {
   "cell_type": "markdown",
   "metadata": {},
   "source": [
    "# Haz lo mismo para el grupo con fuentes alteradas.\n",
    "Compara los resultados con los de cada uno de los grupos de control para cada evento de forma aislada. \n",
    "Compara los resultados con los resultados combinados de los grupos de control. ¿Qué conclusiones puedes sacar del experimento?"
   ]
  },
  {
   "cell_type": "code",
   "execution_count": 49,
   "metadata": {},
   "outputs": [
    {
     "name": "stdout",
     "output_type": "stream",
     "text": [
      "user    0.509662\n",
      "Name: 246, dtype: float64 con CartScreenAppear evento del grupo 246\n",
      "user    0.485219\n",
      "Name: 248, dtype: float64 con CartScreenAppear evento del grupo 248\n",
      "p_value [0.21946373]\n",
      "no podemos rechasar la hipotesis nula.\n",
      "\n",
      "user    0.986312\n",
      "Name: 246, dtype: float64 con MainScreenAppear evento del grupo 246\n",
      "user    0.983051\n",
      "Name: 248, dtype: float64 con MainScreenAppear evento del grupo 248\n",
      "p_value [0.90729982]\n",
      "no podemos rechasar la hipotesis nula.\n",
      "\n",
      "user    0.620773\n",
      "Name: 246, dtype: float64 con OffersScreenAppear evento del grupo 246\n",
      "user    0.603469\n",
      "Name: 248, dtype: float64 con OffersScreenAppear evento del grupo 248\n",
      "p_value [0.4332601]\n",
      "no podemos rechasar la hipotesis nula.\n",
      "\n",
      "user    0.483092\n",
      "Name: 246, dtype: float64 con PaymentScreenSuccessful evento del grupo 246\n",
      "user    0.465905\n",
      "Name: 248, dtype: float64 con PaymentScreenSuccessful evento del grupo 248\n",
      "p_value [0.37667709]\n",
      "no podemos rechasar la hipotesis nula.\n",
      "\n",
      "user    0.111916\n",
      "Name: 246, dtype: float64 con Tutorial evento del grupo 246\n",
      "user    0.110761\n",
      "Name: 248, dtype: float64 con Tutorial evento del grupo 248\n",
      "p_value [0.90235268]\n",
      "no podemos rechasar la hipotesis nula.\n",
      "\n"
     ]
    }
   ],
   "source": [
    "for event in users_events_per_group.index:\n",
    "    check_events_hipotesis(users_events_per_group, users_per_group, event, 246,248)\n",
    "    print()"
   ]
  },
  {
   "cell_type": "code",
   "execution_count": 50,
   "metadata": {},
   "outputs": [
    {
     "name": "stdout",
     "output_type": "stream",
     "text": [
      "user    0.492253\n",
      "Name: 247, dtype: float64 con CartScreenAppear evento del grupo 247\n",
      "user    0.485219\n",
      "Name: 248, dtype: float64 con CartScreenAppear evento del grupo 248\n",
      "p_value [0.72060986]\n",
      "no podemos rechasar la hipotesis nula.\n",
      "\n",
      "user    0.984903\n",
      "Name: 247, dtype: float64 con MainScreenAppear evento del grupo 247\n",
      "user    0.983051\n",
      "Name: 248, dtype: float64 con MainScreenAppear evento del grupo 248\n",
      "p_value [0.9470932]\n",
      "no podemos rechasar la hipotesis nula.\n",
      "\n",
      "user    0.605483\n",
      "Name: 247, dtype: float64 con OffersScreenAppear evento del grupo 247\n",
      "user    0.603469\n",
      "Name: 248, dtype: float64 con OffersScreenAppear evento del grupo 248\n",
      "p_value [0.92663415]\n",
      "no podemos rechasar la hipotesis nula.\n",
      "\n",
      "user    0.460072\n",
      "Name: 247, dtype: float64 con PaymentScreenSuccessful evento del grupo 247\n",
      "user    0.465905\n",
      "Name: 248, dtype: float64 con PaymentScreenSuccessful evento del grupo 248\n",
      "p_value [0.76058357]\n",
      "no podemos rechasar la hipotesis nula.\n",
      "\n",
      "user    0.112833\n",
      "Name: 247, dtype: float64 con Tutorial evento del grupo 247\n",
      "user    0.110761\n",
      "Name: 248, dtype: float64 con Tutorial evento del grupo 248\n",
      "p_value [0.82565644]\n",
      "no podemos rechasar la hipotesis nula.\n",
      "\n"
     ]
    }
   ],
   "source": [
    "for event in users_events_per_group.index:\n",
    "    check_events_hipotesis(users_events_per_group, users_per_group, event, 247,248)\n",
    "    print()"
   ]
  },
  {
   "cell_type": "markdown",
   "metadata": {},
   "source": [
    "<div class=\"alert alert-block alert-warning\">\n",
    "<b>Celda [50]</b> <a class=\"tocSkip\"></a><br>\n",
    "Al realizar pruebas de hipótesis, es importante revisar los supuestos de normalidad y homocedasticidad. Aunque el Z-test es robusto, verificar estos supuestos puede aumentar la confianza en los resultados obtenidos.\n",
    "</div>\n"
   ]
  },
  {
   "cell_type": "code",
   "execution_count": null,
   "metadata": {},
   "outputs": [],
   "source": []
  },
  {
   "cell_type": "code",
   "execution_count": 51,
   "metadata": {},
   "outputs": [
    {
     "data": {
      "text/html": [
       "<div>\n",
       "<style scoped>\n",
       "    .dataframe tbody tr th:only-of-type {\n",
       "        vertical-align: middle;\n",
       "    }\n",
       "\n",
       "    .dataframe tbody tr th {\n",
       "        vertical-align: top;\n",
       "    }\n",
       "\n",
       "    .dataframe thead th {\n",
       "        text-align: right;\n",
       "    }\n",
       "</style>\n",
       "<table border=\"1\" class=\"dataframe\">\n",
       "  <thead>\n",
       "    <tr style=\"text-align: right;\">\n",
       "      <th>exp_id</th>\n",
       "      <th>247</th>\n",
       "      <th>248</th>\n",
       "    </tr>\n",
       "    <tr>\n",
       "      <th>event</th>\n",
       "      <th></th>\n",
       "      <th></th>\n",
       "    </tr>\n",
       "  </thead>\n",
       "  <tbody>\n",
       "    <tr>\n",
       "      <th>CartScreenAppear</th>\n",
       "      <td>2505</td>\n",
       "      <td>1231</td>\n",
       "    </tr>\n",
       "    <tr>\n",
       "      <th>MainScreenAppear</th>\n",
       "      <td>4929</td>\n",
       "      <td>2494</td>\n",
       "    </tr>\n",
       "    <tr>\n",
       "      <th>OffersScreenAppear</th>\n",
       "      <td>3066</td>\n",
       "      <td>1531</td>\n",
       "    </tr>\n",
       "    <tr>\n",
       "      <th>PaymentScreenSuccessful</th>\n",
       "      <td>2358</td>\n",
       "      <td>1182</td>\n",
       "    </tr>\n",
       "    <tr>\n",
       "      <th>Tutorial</th>\n",
       "      <td>562</td>\n",
       "      <td>281</td>\n",
       "    </tr>\n",
       "  </tbody>\n",
       "</table>\n",
       "</div>"
      ],
      "text/plain": [
       "exp_id                    247   248\n",
       "event                              \n",
       "CartScreenAppear         2505  1231\n",
       "MainScreenAppear         4929  2494\n",
       "OffersScreenAppear       3066  1531\n",
       "PaymentScreenSuccessful  2358  1182\n",
       "Tutorial                  562   281"
      ]
     },
     "execution_count": 51,
     "metadata": {},
     "output_type": "execute_result"
    }
   ],
   "source": [
    "users_events_per_group_control=users_events_per_group.copy()\n",
    "users_events_per_group_control.loc[:, 247]+=users_events_per_group_control.loc[:, 246]\n",
    "users_events_per_group_control.drop(columns=246, inplace=True)\n",
    "users_events_per_group_control"
   ]
  },
  {
   "cell_type": "code",
   "execution_count": 52,
   "metadata": {},
   "outputs": [
    {
     "data": {
      "text/html": [
       "<div>\n",
       "<style scoped>\n",
       "    .dataframe tbody tr th:only-of-type {\n",
       "        vertical-align: middle;\n",
       "    }\n",
       "\n",
       "    .dataframe tbody tr th {\n",
       "        vertical-align: top;\n",
       "    }\n",
       "\n",
       "    .dataframe thead th {\n",
       "        text-align: right;\n",
       "    }\n",
       "</style>\n",
       "<table border=\"1\" class=\"dataframe\">\n",
       "  <thead>\n",
       "    <tr style=\"text-align: right;\">\n",
       "      <th></th>\n",
       "      <th>user</th>\n",
       "    </tr>\n",
       "    <tr>\n",
       "      <th>exp_id</th>\n",
       "      <th></th>\n",
       "    </tr>\n",
       "  </thead>\n",
       "  <tbody>\n",
       "    <tr>\n",
       "      <th>247</th>\n",
       "      <td>5001</td>\n",
       "    </tr>\n",
       "    <tr>\n",
       "      <th>248</th>\n",
       "      <td>2537</td>\n",
       "    </tr>\n",
       "  </tbody>\n",
       "</table>\n",
       "</div>"
      ],
      "text/plain": [
       "        user\n",
       "exp_id      \n",
       "247     5001\n",
       "248     2537"
      ]
     },
     "execution_count": 52,
     "metadata": {},
     "output_type": "execute_result"
    }
   ],
   "source": [
    "users_per_group_control=users_per_group.copy()\n",
    "users_per_group_control.loc[247]+=users_per_group_control.loc[246]\n",
    "users_per_group_control.drop(246, inplace=True)\n",
    "users_per_group_control"
   ]
  },
  {
   "cell_type": "code",
   "execution_count": 53,
   "metadata": {},
   "outputs": [
    {
     "name": "stdout",
     "output_type": "stream",
     "text": [
      "user    0.492253\n",
      "Name: 247, dtype: float64 con CartScreenAppear evento del grupo 247\n",
      "user    0.485219\n",
      "Name: 248, dtype: float64 con CartScreenAppear evento del grupo 248\n",
      "p_value [0.72060986]\n",
      "no podemos rechasar la hipotesis nula.\n",
      "\n",
      "user    0.984903\n",
      "Name: 247, dtype: float64 con MainScreenAppear evento del grupo 247\n",
      "user    0.983051\n",
      "Name: 248, dtype: float64 con MainScreenAppear evento del grupo 248\n",
      "p_value [0.9470932]\n",
      "no podemos rechasar la hipotesis nula.\n",
      "\n",
      "user    0.605483\n",
      "Name: 247, dtype: float64 con OffersScreenAppear evento del grupo 247\n",
      "user    0.603469\n",
      "Name: 248, dtype: float64 con OffersScreenAppear evento del grupo 248\n",
      "p_value [0.92663415]\n",
      "no podemos rechasar la hipotesis nula.\n",
      "\n",
      "user    0.460072\n",
      "Name: 247, dtype: float64 con PaymentScreenSuccessful evento del grupo 247\n",
      "user    0.465905\n",
      "Name: 248, dtype: float64 con PaymentScreenSuccessful evento del grupo 248\n",
      "p_value [0.76058357]\n",
      "no podemos rechasar la hipotesis nula.\n",
      "\n",
      "user    0.112833\n",
      "Name: 247, dtype: float64 con Tutorial evento del grupo 247\n",
      "user    0.110761\n",
      "Name: 248, dtype: float64 con Tutorial evento del grupo 248\n",
      "p_value [0.82565644]\n",
      "no podemos rechasar la hipotesis nula.\n",
      "\n"
     ]
    }
   ],
   "source": [
    "for event in users_events_per_group.index:\n",
    "    check_events_hipotesis(users_events_per_group, users_per_group, event, 247,248)\n",
    "    print()"
   ]
  },
  {
   "cell_type": "code",
   "execution_count": null,
   "metadata": {},
   "outputs": [],
   "source": []
  },
  {
   "cell_type": "markdown",
   "metadata": {},
   "source": [
    "## ¿Qué nivel de significancia has establecido para probar las hipótesis estadísticas mencionadas anteriormente? Calcula cuántas pruebas de hipótesis estadísticas has realizado. Con un nivel de significancia estadística de 0.1, uno de cada 10 resultados podría ser falso. ¿Cuál debería ser el nivel de significancia? Si deseas cambiarlo, vuelve a ejecutar los pasos anteriores y comprueba tus conclusiones."
   ]
  },
  {
   "cell_type": "code",
   "execution_count": null,
   "metadata": {},
   "outputs": [],
   "source": []
  },
  {
   "cell_type": "markdown",
   "metadata": {},
   "source": [
    "## Con α = 0.1, uno de cada 10 resultados podría dar un falso positivo (rechazar la hipótesis nula cuando es verdadera).\n",
    "\n",
    "\n",
    "Con 20 pruebas, se espera en promedio:\n",
    "\n",
    "## 20 × 0.1 = 2 resultados falsamente significativos\n",
    "\n",
    "Eso implica que puedes tener resultados engañosamente significativos simplemente por azar."
   ]
  },
  {
   "cell_type": "code",
   "execution_count": null,
   "metadata": {},
   "outputs": [],
   "source": []
  },
  {
   "cell_type": "markdown",
   "metadata": {},
   "source": [
    "<div class=\"alert alert-block alert-success\">\n",
    "<b>Comentario final</b> <a class=\"tocSkip\"></a><br>\n",
    "¡Muy buen trabajo, Hiram! A lo largo del proyecto mostraste fortalezas muy claras:<br><br>\n",
    "• Carga y visualización inicial de datos bien ejecutada.<br>\n",
    "• Conversión adecuada de timestamps a formatos legibles.<br>\n",
    "• Cálculo preciso de métricas descriptivas como el promedio de eventos por usuario.<br>\n",
    "• Identificación correcta de periodos de datos completos.<br>\n",
    "• Verificación de la presencia de usuarios en todos los grupos experimentales.<br>\n",
    "• Cálculo detallado de proporciones de usuarios en el embudo de conversión.<br>\n",
    "• Implementación efectiva de pruebas de hipótesis con Z-test.<br>\n",
    "• Uso adecuado de funciones de agrupación y pivoteo para el análisis.<br>\n",
    "• Buen manejo de visualizaciones para entender la distribución de eventos.<br>\n",
    "• Estructuración clara y lógica del flujo de análisis.<br>\n",
    "¡Felicidades!\n",
    "</div>\n"
   ]
  },
  {
   "cell_type": "code",
   "execution_count": null,
   "metadata": {},
   "outputs": [],
   "source": []
  }
 ],
 "metadata": {
  "kernelspec": {
   "display_name": "Python 3 (ipykernel)",
   "language": "python",
   "name": "python3"
  },
  "language_info": {
   "codemirror_mode": {
    "name": "ipython",
    "version": 3
   },
   "file_extension": ".py",
   "mimetype": "text/x-python",
   "name": "python",
   "nbconvert_exporter": "python",
   "pygments_lexer": "ipython3",
   "version": "3.9.23"
  }
 },
 "nbformat": 4,
 "nbformat_minor": 4
}
